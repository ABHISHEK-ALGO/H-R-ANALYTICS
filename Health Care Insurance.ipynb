{
 "cells": [
  {
   "cell_type": "code",
   "execution_count": 224,
   "id": "001eab4f",
   "metadata": {},
   "outputs": [],
   "source": [
    "import numpy as np\n",
    "import pandas as pd\n",
    "import matplotlib.pyplot as plt\n",
    "%matplotlib inline\n",
    "import seaborn as sns\n",
    "from datetime import datetime"
   ]
  },
  {
   "cell_type": "code",
   "execution_count": 225,
   "id": "fdc2dec7",
   "metadata": {},
   "outputs": [],
   "source": [
    "import warnings \n",
    "warnings.filterwarnings(\"ignore\")"
   ]
  },
  {
   "cell_type": "code",
   "execution_count": 226,
   "id": "a56e6ce5",
   "metadata": {},
   "outputs": [
    {
     "data": {
      "text/html": [
       "<div>\n",
       "<style scoped>\n",
       "    .dataframe tbody tr th:only-of-type {\n",
       "        vertical-align: middle;\n",
       "    }\n",
       "\n",
       "    .dataframe tbody tr th {\n",
       "        vertical-align: top;\n",
       "    }\n",
       "\n",
       "    .dataframe thead th {\n",
       "        text-align: right;\n",
       "    }\n",
       "</style>\n",
       "<table border=\"1\" class=\"dataframe\">\n",
       "  <thead>\n",
       "    <tr style=\"text-align: right;\">\n",
       "      <th></th>\n",
       "      <th>Customer ID</th>\n",
       "      <th>year</th>\n",
       "      <th>month</th>\n",
       "      <th>date</th>\n",
       "      <th>children</th>\n",
       "      <th>charges</th>\n",
       "      <th>Hospital tier</th>\n",
       "      <th>City tier</th>\n",
       "      <th>State ID</th>\n",
       "    </tr>\n",
       "  </thead>\n",
       "  <tbody>\n",
       "    <tr>\n",
       "      <th>0</th>\n",
       "      <td>Id2335</td>\n",
       "      <td>1992</td>\n",
       "      <td>Jul</td>\n",
       "      <td>9</td>\n",
       "      <td>0</td>\n",
       "      <td>563.84</td>\n",
       "      <td>tier - 2</td>\n",
       "      <td>tier - 3</td>\n",
       "      <td>R1013</td>\n",
       "    </tr>\n",
       "    <tr>\n",
       "      <th>1</th>\n",
       "      <td>Id2334</td>\n",
       "      <td>1992</td>\n",
       "      <td>Nov</td>\n",
       "      <td>30</td>\n",
       "      <td>0</td>\n",
       "      <td>570.62</td>\n",
       "      <td>tier - 2</td>\n",
       "      <td>tier - 1</td>\n",
       "      <td>R1013</td>\n",
       "    </tr>\n",
       "    <tr>\n",
       "      <th>2</th>\n",
       "      <td>Id2333</td>\n",
       "      <td>1993</td>\n",
       "      <td>Jun</td>\n",
       "      <td>30</td>\n",
       "      <td>0</td>\n",
       "      <td>600.00</td>\n",
       "      <td>tier - 2</td>\n",
       "      <td>tier - 1</td>\n",
       "      <td>R1013</td>\n",
       "    </tr>\n",
       "    <tr>\n",
       "      <th>3</th>\n",
       "      <td>Id2332</td>\n",
       "      <td>1992</td>\n",
       "      <td>Sep</td>\n",
       "      <td>13</td>\n",
       "      <td>0</td>\n",
       "      <td>604.54</td>\n",
       "      <td>tier - 3</td>\n",
       "      <td>tier - 3</td>\n",
       "      <td>R1013</td>\n",
       "    </tr>\n",
       "    <tr>\n",
       "      <th>4</th>\n",
       "      <td>Id2331</td>\n",
       "      <td>1998</td>\n",
       "      <td>Jul</td>\n",
       "      <td>27</td>\n",
       "      <td>0</td>\n",
       "      <td>637.26</td>\n",
       "      <td>tier - 3</td>\n",
       "      <td>tier - 3</td>\n",
       "      <td>R1013</td>\n",
       "    </tr>\n",
       "  </tbody>\n",
       "</table>\n",
       "</div>"
      ],
      "text/plain": [
       "  Customer ID  year month  date  children  charges Hospital tier City tier  \\\n",
       "0      Id2335  1992   Jul     9         0   563.84      tier - 2  tier - 3   \n",
       "1      Id2334  1992   Nov    30         0   570.62      tier - 2  tier - 1   \n",
       "2      Id2333  1993   Jun    30         0   600.00      tier - 2  tier - 1   \n",
       "3      Id2332  1992   Sep    13         0   604.54      tier - 3  tier - 3   \n",
       "4      Id2331  1998   Jul    27         0   637.26      tier - 3  tier - 3   \n",
       "\n",
       "  State ID  \n",
       "0    R1013  \n",
       "1    R1013  \n",
       "2    R1013  \n",
       "3    R1013  \n",
       "4    R1013  "
      ]
     },
     "execution_count": 226,
     "metadata": {},
     "output_type": "execute_result"
    }
   ],
   "source": [
    "customers_details = pd.read_csv(\"Hospitalisation details.csv\")\n",
    "customers_details.head()"
   ]
  },
  {
   "cell_type": "code",
   "execution_count": 227,
   "id": "05841fae",
   "metadata": {},
   "outputs": [
    {
     "data": {
      "text/html": [
       "<div>\n",
       "<style scoped>\n",
       "    .dataframe tbody tr th:only-of-type {\n",
       "        vertical-align: middle;\n",
       "    }\n",
       "\n",
       "    .dataframe tbody tr th {\n",
       "        vertical-align: top;\n",
       "    }\n",
       "\n",
       "    .dataframe thead th {\n",
       "        text-align: right;\n",
       "    }\n",
       "</style>\n",
       "<table border=\"1\" class=\"dataframe\">\n",
       "  <thead>\n",
       "    <tr style=\"text-align: right;\">\n",
       "      <th></th>\n",
       "      <th>Customer ID</th>\n",
       "      <th>BMI</th>\n",
       "      <th>HBA1C</th>\n",
       "      <th>Heart Issues</th>\n",
       "      <th>Any Transplants</th>\n",
       "      <th>Cancer history</th>\n",
       "      <th>NumberOfMajorSurgeries</th>\n",
       "      <th>smoker</th>\n",
       "    </tr>\n",
       "  </thead>\n",
       "  <tbody>\n",
       "    <tr>\n",
       "      <th>0</th>\n",
       "      <td>Id1</td>\n",
       "      <td>47.410</td>\n",
       "      <td>7.47</td>\n",
       "      <td>No</td>\n",
       "      <td>No</td>\n",
       "      <td>No</td>\n",
       "      <td>No major surgery</td>\n",
       "      <td>yes</td>\n",
       "    </tr>\n",
       "    <tr>\n",
       "      <th>1</th>\n",
       "      <td>Id2</td>\n",
       "      <td>30.360</td>\n",
       "      <td>5.77</td>\n",
       "      <td>No</td>\n",
       "      <td>No</td>\n",
       "      <td>No</td>\n",
       "      <td>No major surgery</td>\n",
       "      <td>yes</td>\n",
       "    </tr>\n",
       "    <tr>\n",
       "      <th>2</th>\n",
       "      <td>Id3</td>\n",
       "      <td>34.485</td>\n",
       "      <td>11.87</td>\n",
       "      <td>yes</td>\n",
       "      <td>No</td>\n",
       "      <td>No</td>\n",
       "      <td>2</td>\n",
       "      <td>yes</td>\n",
       "    </tr>\n",
       "    <tr>\n",
       "      <th>3</th>\n",
       "      <td>Id4</td>\n",
       "      <td>38.095</td>\n",
       "      <td>6.05</td>\n",
       "      <td>No</td>\n",
       "      <td>No</td>\n",
       "      <td>No</td>\n",
       "      <td>No major surgery</td>\n",
       "      <td>yes</td>\n",
       "    </tr>\n",
       "    <tr>\n",
       "      <th>4</th>\n",
       "      <td>Id5</td>\n",
       "      <td>35.530</td>\n",
       "      <td>5.45</td>\n",
       "      <td>No</td>\n",
       "      <td>No</td>\n",
       "      <td>No</td>\n",
       "      <td>No major surgery</td>\n",
       "      <td>yes</td>\n",
       "    </tr>\n",
       "  </tbody>\n",
       "</table>\n",
       "</div>"
      ],
      "text/plain": [
       "  Customer ID     BMI  HBA1C Heart Issues Any Transplants Cancer history  \\\n",
       "0         Id1  47.410   7.47           No              No             No   \n",
       "1         Id2  30.360   5.77           No              No             No   \n",
       "2         Id3  34.485  11.87          yes              No             No   \n",
       "3         Id4  38.095   6.05           No              No             No   \n",
       "4         Id5  35.530   5.45           No              No             No   \n",
       "\n",
       "  NumberOfMajorSurgeries smoker  \n",
       "0       No major surgery    yes  \n",
       "1       No major surgery    yes  \n",
       "2                      2    yes  \n",
       "3       No major surgery    yes  \n",
       "4       No major surgery    yes  "
      ]
     },
     "execution_count": 227,
     "metadata": {},
     "output_type": "execute_result"
    }
   ],
   "source": [
    "medical_details = pd.read_csv('Medical Examinations.csv')\n",
    "medical_details.head()"
   ]
  },
  {
   "cell_type": "code",
   "execution_count": 228,
   "id": "c5ae3b98",
   "metadata": {},
   "outputs": [
    {
     "data": {
      "text/html": [
       "<div>\n",
       "<style scoped>\n",
       "    .dataframe tbody tr th:only-of-type {\n",
       "        vertical-align: middle;\n",
       "    }\n",
       "\n",
       "    .dataframe tbody tr th {\n",
       "        vertical-align: top;\n",
       "    }\n",
       "\n",
       "    .dataframe thead th {\n",
       "        text-align: right;\n",
       "    }\n",
       "</style>\n",
       "<table border=\"1\" class=\"dataframe\">\n",
       "  <thead>\n",
       "    <tr style=\"text-align: right;\">\n",
       "      <th></th>\n",
       "      <th>Customer ID</th>\n",
       "      <th>name</th>\n",
       "    </tr>\n",
       "  </thead>\n",
       "  <tbody>\n",
       "    <tr>\n",
       "      <th>0</th>\n",
       "      <td>Id1</td>\n",
       "      <td>Hawks, Ms.  Kelly</td>\n",
       "    </tr>\n",
       "    <tr>\n",
       "      <th>1</th>\n",
       "      <td>Id2</td>\n",
       "      <td>Lehner, Mr.  Matthew D</td>\n",
       "    </tr>\n",
       "    <tr>\n",
       "      <th>2</th>\n",
       "      <td>Id3</td>\n",
       "      <td>Lu, Mr.  Phil</td>\n",
       "    </tr>\n",
       "    <tr>\n",
       "      <th>3</th>\n",
       "      <td>Id4</td>\n",
       "      <td>Osborne, Ms.  Kelsey</td>\n",
       "    </tr>\n",
       "    <tr>\n",
       "      <th>4</th>\n",
       "      <td>Id5</td>\n",
       "      <td>Kadala, Ms.  Kristyn</td>\n",
       "    </tr>\n",
       "  </tbody>\n",
       "</table>\n",
       "</div>"
      ],
      "text/plain": [
       "  Customer ID                    name\n",
       "0         Id1       Hawks, Ms.  Kelly\n",
       "1         Id2  Lehner, Mr.  Matthew D\n",
       "2         Id3           Lu, Mr.  Phil\n",
       "3         Id4    Osborne, Ms.  Kelsey\n",
       "4         Id5    Kadala, Ms.  Kristyn"
      ]
     },
     "execution_count": 228,
     "metadata": {},
     "output_type": "execute_result"
    }
   ],
   "source": [
    "customer_names = pd.read_excel(\"Names.xlsx\")\n",
    "customer_names.head()"
   ]
  },
  {
   "cell_type": "markdown",
   "id": "47c6c4b1",
   "metadata": {},
   "source": [
    "# 1. Collate the files so that all the information is in one place."
   ]
  },
  {
   "cell_type": "code",
   "execution_count": 229,
   "id": "382ce21c",
   "metadata": {},
   "outputs": [
    {
     "data": {
      "text/html": [
       "<div>\n",
       "<style scoped>\n",
       "    .dataframe tbody tr th:only-of-type {\n",
       "        vertical-align: middle;\n",
       "    }\n",
       "\n",
       "    .dataframe tbody tr th {\n",
       "        vertical-align: top;\n",
       "    }\n",
       "\n",
       "    .dataframe thead th {\n",
       "        text-align: right;\n",
       "    }\n",
       "</style>\n",
       "<table border=\"1\" class=\"dataframe\">\n",
       "  <thead>\n",
       "    <tr style=\"text-align: right;\">\n",
       "      <th></th>\n",
       "      <th>Customer ID</th>\n",
       "      <th>year</th>\n",
       "      <th>month</th>\n",
       "      <th>date</th>\n",
       "      <th>children</th>\n",
       "      <th>charges</th>\n",
       "      <th>Hospital tier</th>\n",
       "      <th>City tier</th>\n",
       "      <th>State ID</th>\n",
       "      <th>name</th>\n",
       "    </tr>\n",
       "  </thead>\n",
       "  <tbody>\n",
       "    <tr>\n",
       "      <th>0</th>\n",
       "      <td>Id2335</td>\n",
       "      <td>1992</td>\n",
       "      <td>Jul</td>\n",
       "      <td>9</td>\n",
       "      <td>0</td>\n",
       "      <td>563.84</td>\n",
       "      <td>tier - 2</td>\n",
       "      <td>tier - 3</td>\n",
       "      <td>R1013</td>\n",
       "      <td>German, Mr.  Aaron K</td>\n",
       "    </tr>\n",
       "    <tr>\n",
       "      <th>1</th>\n",
       "      <td>Id2334</td>\n",
       "      <td>1992</td>\n",
       "      <td>Nov</td>\n",
       "      <td>30</td>\n",
       "      <td>0</td>\n",
       "      <td>570.62</td>\n",
       "      <td>tier - 2</td>\n",
       "      <td>tier - 1</td>\n",
       "      <td>R1013</td>\n",
       "      <td>Rosendahl, Mr.  Evan P</td>\n",
       "    </tr>\n",
       "    <tr>\n",
       "      <th>2</th>\n",
       "      <td>Id2333</td>\n",
       "      <td>1993</td>\n",
       "      <td>Jun</td>\n",
       "      <td>30</td>\n",
       "      <td>0</td>\n",
       "      <td>600.00</td>\n",
       "      <td>tier - 2</td>\n",
       "      <td>tier - 1</td>\n",
       "      <td>R1013</td>\n",
       "      <td>Albano, Ms.  Julie</td>\n",
       "    </tr>\n",
       "    <tr>\n",
       "      <th>3</th>\n",
       "      <td>Id2332</td>\n",
       "      <td>1992</td>\n",
       "      <td>Sep</td>\n",
       "      <td>13</td>\n",
       "      <td>0</td>\n",
       "      <td>604.54</td>\n",
       "      <td>tier - 3</td>\n",
       "      <td>tier - 3</td>\n",
       "      <td>R1013</td>\n",
       "      <td>Riveros Gonzalez, Mr.  Juan D. Sr.</td>\n",
       "    </tr>\n",
       "    <tr>\n",
       "      <th>4</th>\n",
       "      <td>Id2331</td>\n",
       "      <td>1998</td>\n",
       "      <td>Jul</td>\n",
       "      <td>27</td>\n",
       "      <td>0</td>\n",
       "      <td>637.26</td>\n",
       "      <td>tier - 3</td>\n",
       "      <td>tier - 3</td>\n",
       "      <td>R1013</td>\n",
       "      <td>Brietzke, Mr.  Jordan</td>\n",
       "    </tr>\n",
       "  </tbody>\n",
       "</table>\n",
       "</div>"
      ],
      "text/plain": [
       "  Customer ID  year month  date  children  charges Hospital tier City tier  \\\n",
       "0      Id2335  1992   Jul     9         0   563.84      tier - 2  tier - 3   \n",
       "1      Id2334  1992   Nov    30         0   570.62      tier - 2  tier - 1   \n",
       "2      Id2333  1993   Jun    30         0   600.00      tier - 2  tier - 1   \n",
       "3      Id2332  1992   Sep    13         0   604.54      tier - 3  tier - 3   \n",
       "4      Id2331  1998   Jul    27         0   637.26      tier - 3  tier - 3   \n",
       "\n",
       "  State ID                                name  \n",
       "0    R1013                German, Mr.  Aaron K  \n",
       "1    R1013              Rosendahl, Mr.  Evan P  \n",
       "2    R1013                  Albano, Ms.  Julie  \n",
       "3    R1013  Riveros Gonzalez, Mr.  Juan D. Sr.  \n",
       "4    R1013               Brietzke, Mr.  Jordan  "
      ]
     },
     "execution_count": 229,
     "metadata": {},
     "output_type": "execute_result"
    }
   ],
   "source": [
    "customer_df = pd.merge(customers_details,customer_names,on=\"Customer ID\")\n",
    "customer_df.head()"
   ]
  },
  {
   "cell_type": "code",
   "execution_count": 230,
   "id": "598aa274",
   "metadata": {},
   "outputs": [
    {
     "data": {
      "text/html": [
       "<div>\n",
       "<style scoped>\n",
       "    .dataframe tbody tr th:only-of-type {\n",
       "        vertical-align: middle;\n",
       "    }\n",
       "\n",
       "    .dataframe tbody tr th {\n",
       "        vertical-align: top;\n",
       "    }\n",
       "\n",
       "    .dataframe thead th {\n",
       "        text-align: right;\n",
       "    }\n",
       "</style>\n",
       "<table border=\"1\" class=\"dataframe\">\n",
       "  <thead>\n",
       "    <tr style=\"text-align: right;\">\n",
       "      <th></th>\n",
       "      <th>Customer ID</th>\n",
       "      <th>year</th>\n",
       "      <th>month</th>\n",
       "      <th>date</th>\n",
       "      <th>children</th>\n",
       "      <th>charges</th>\n",
       "      <th>Hospital tier</th>\n",
       "      <th>City tier</th>\n",
       "      <th>State ID</th>\n",
       "      <th>name</th>\n",
       "      <th>BMI</th>\n",
       "      <th>HBA1C</th>\n",
       "      <th>Heart Issues</th>\n",
       "      <th>Any Transplants</th>\n",
       "      <th>Cancer history</th>\n",
       "      <th>NumberOfMajorSurgeries</th>\n",
       "      <th>smoker</th>\n",
       "    </tr>\n",
       "  </thead>\n",
       "  <tbody>\n",
       "    <tr>\n",
       "      <th>0</th>\n",
       "      <td>Id2335</td>\n",
       "      <td>1992</td>\n",
       "      <td>Jul</td>\n",
       "      <td>9</td>\n",
       "      <td>0</td>\n",
       "      <td>563.84</td>\n",
       "      <td>tier - 2</td>\n",
       "      <td>tier - 3</td>\n",
       "      <td>R1013</td>\n",
       "      <td>German, Mr.  Aaron K</td>\n",
       "      <td>17.58</td>\n",
       "      <td>4.51</td>\n",
       "      <td>No</td>\n",
       "      <td>No</td>\n",
       "      <td>No</td>\n",
       "      <td>1</td>\n",
       "      <td>No</td>\n",
       "    </tr>\n",
       "    <tr>\n",
       "      <th>1</th>\n",
       "      <td>Id2334</td>\n",
       "      <td>1992</td>\n",
       "      <td>Nov</td>\n",
       "      <td>30</td>\n",
       "      <td>0</td>\n",
       "      <td>570.62</td>\n",
       "      <td>tier - 2</td>\n",
       "      <td>tier - 1</td>\n",
       "      <td>R1013</td>\n",
       "      <td>Rosendahl, Mr.  Evan P</td>\n",
       "      <td>17.60</td>\n",
       "      <td>4.39</td>\n",
       "      <td>No</td>\n",
       "      <td>No</td>\n",
       "      <td>No</td>\n",
       "      <td>1</td>\n",
       "      <td>No</td>\n",
       "    </tr>\n",
       "    <tr>\n",
       "      <th>2</th>\n",
       "      <td>Id2333</td>\n",
       "      <td>1993</td>\n",
       "      <td>Jun</td>\n",
       "      <td>30</td>\n",
       "      <td>0</td>\n",
       "      <td>600.00</td>\n",
       "      <td>tier - 2</td>\n",
       "      <td>tier - 1</td>\n",
       "      <td>R1013</td>\n",
       "      <td>Albano, Ms.  Julie</td>\n",
       "      <td>16.47</td>\n",
       "      <td>6.35</td>\n",
       "      <td>No</td>\n",
       "      <td>No</td>\n",
       "      <td>Yes</td>\n",
       "      <td>1</td>\n",
       "      <td>No</td>\n",
       "    </tr>\n",
       "    <tr>\n",
       "      <th>3</th>\n",
       "      <td>Id2332</td>\n",
       "      <td>1992</td>\n",
       "      <td>Sep</td>\n",
       "      <td>13</td>\n",
       "      <td>0</td>\n",
       "      <td>604.54</td>\n",
       "      <td>tier - 3</td>\n",
       "      <td>tier - 3</td>\n",
       "      <td>R1013</td>\n",
       "      <td>Riveros Gonzalez, Mr.  Juan D. Sr.</td>\n",
       "      <td>17.70</td>\n",
       "      <td>6.28</td>\n",
       "      <td>No</td>\n",
       "      <td>No</td>\n",
       "      <td>No</td>\n",
       "      <td>1</td>\n",
       "      <td>No</td>\n",
       "    </tr>\n",
       "    <tr>\n",
       "      <th>4</th>\n",
       "      <td>Id2331</td>\n",
       "      <td>1998</td>\n",
       "      <td>Jul</td>\n",
       "      <td>27</td>\n",
       "      <td>0</td>\n",
       "      <td>637.26</td>\n",
       "      <td>tier - 3</td>\n",
       "      <td>tier - 3</td>\n",
       "      <td>R1013</td>\n",
       "      <td>Brietzke, Mr.  Jordan</td>\n",
       "      <td>22.34</td>\n",
       "      <td>5.57</td>\n",
       "      <td>No</td>\n",
       "      <td>No</td>\n",
       "      <td>No</td>\n",
       "      <td>1</td>\n",
       "      <td>No</td>\n",
       "    </tr>\n",
       "  </tbody>\n",
       "</table>\n",
       "</div>"
      ],
      "text/plain": [
       "  Customer ID  year month  date  children  charges Hospital tier City tier  \\\n",
       "0      Id2335  1992   Jul     9         0   563.84      tier - 2  tier - 3   \n",
       "1      Id2334  1992   Nov    30         0   570.62      tier - 2  tier - 1   \n",
       "2      Id2333  1993   Jun    30         0   600.00      tier - 2  tier - 1   \n",
       "3      Id2332  1992   Sep    13         0   604.54      tier - 3  tier - 3   \n",
       "4      Id2331  1998   Jul    27         0   637.26      tier - 3  tier - 3   \n",
       "\n",
       "  State ID                                name    BMI  HBA1C Heart Issues  \\\n",
       "0    R1013                German, Mr.  Aaron K  17.58   4.51           No   \n",
       "1    R1013              Rosendahl, Mr.  Evan P  17.60   4.39           No   \n",
       "2    R1013                  Albano, Ms.  Julie  16.47   6.35           No   \n",
       "3    R1013  Riveros Gonzalez, Mr.  Juan D. Sr.  17.70   6.28           No   \n",
       "4    R1013               Brietzke, Mr.  Jordan  22.34   5.57           No   \n",
       "\n",
       "  Any Transplants Cancer history NumberOfMajorSurgeries smoker  \n",
       "0              No             No                      1     No  \n",
       "1              No             No                      1     No  \n",
       "2              No            Yes                      1     No  \n",
       "3              No             No                      1     No  \n",
       "4              No             No                      1     No  "
      ]
     },
     "execution_count": 230,
     "metadata": {},
     "output_type": "execute_result"
    }
   ],
   "source": [
    "final_df = pd.merge(customer_df,medical_details,on=\"Customer ID\")\n",
    "final_df.head()"
   ]
  },
  {
   "cell_type": "code",
   "execution_count": 231,
   "id": "1d86bb13",
   "metadata": {},
   "outputs": [
    {
     "data": {
      "text/plain": [
       "(2335, 17)"
      ]
     },
     "execution_count": 231,
     "metadata": {},
     "output_type": "execute_result"
    }
   ],
   "source": [
    "final_df.shape"
   ]
  },
  {
   "cell_type": "markdown",
   "id": "092065bc",
   "metadata": {},
   "source": [
    "# 2. Check for missing values in the dataset."
   ]
  },
  {
   "cell_type": "code",
   "execution_count": 232,
   "id": "c3a58f76",
   "metadata": {},
   "outputs": [
    {
     "name": "stdout",
     "output_type": "stream",
     "text": [
      "<class 'pandas.core.frame.DataFrame'>\n",
      "Int64Index: 2335 entries, 0 to 2334\n",
      "Data columns (total 17 columns):\n",
      " #   Column                  Non-Null Count  Dtype  \n",
      "---  ------                  --------------  -----  \n",
      " 0   Customer ID             2335 non-null   object \n",
      " 1   year                    2335 non-null   object \n",
      " 2   month                   2335 non-null   object \n",
      " 3   date                    2335 non-null   int64  \n",
      " 4   children                2335 non-null   int64  \n",
      " 5   charges                 2335 non-null   float64\n",
      " 6   Hospital tier           2335 non-null   object \n",
      " 7   City tier               2335 non-null   object \n",
      " 8   State ID                2335 non-null   object \n",
      " 9   name                    2335 non-null   object \n",
      " 10  BMI                     2335 non-null   float64\n",
      " 11  HBA1C                   2335 non-null   float64\n",
      " 12  Heart Issues            2335 non-null   object \n",
      " 13  Any Transplants         2335 non-null   object \n",
      " 14  Cancer history          2335 non-null   object \n",
      " 15  NumberOfMajorSurgeries  2335 non-null   object \n",
      " 16  smoker                  2335 non-null   object \n",
      "dtypes: float64(3), int64(2), object(12)\n",
      "memory usage: 328.4+ KB\n"
     ]
    }
   ],
   "source": [
    "final_df.info()"
   ]
  },
  {
   "cell_type": "code",
   "execution_count": 233,
   "id": "a1726ff1",
   "metadata": {},
   "outputs": [
    {
     "data": {
      "text/plain": [
       "object     12\n",
       "float64     3\n",
       "int64       2\n",
       "dtype: int64"
      ]
     },
     "execution_count": 233,
     "metadata": {},
     "output_type": "execute_result"
    }
   ],
   "source": [
    "final_df.dtypes.value_counts()"
   ]
  },
  {
   "cell_type": "code",
   "execution_count": 234,
   "id": "3503453e",
   "metadata": {},
   "outputs": [
    {
     "data": {
      "text/plain": [
       "Customer ID               0\n",
       "year                      0\n",
       "month                     0\n",
       "date                      0\n",
       "children                  0\n",
       "charges                   0\n",
       "Hospital tier             0\n",
       "City tier                 0\n",
       "State ID                  0\n",
       "name                      0\n",
       "BMI                       0\n",
       "HBA1C                     0\n",
       "Heart Issues              0\n",
       "Any Transplants           0\n",
       "Cancer history            0\n",
       "NumberOfMajorSurgeries    0\n",
       "smoker                    0\n",
       "dtype: int64"
      ]
     },
     "execution_count": 234,
     "metadata": {},
     "output_type": "execute_result"
    }
   ],
   "source": [
    "final_df.isnull().sum()"
   ]
  },
  {
   "cell_type": "code",
   "execution_count": 235,
   "id": "8b341081",
   "metadata": {},
   "outputs": [],
   "source": [
    "## there are no null values in the dataset . "
   ]
  },
  {
   "cell_type": "code",
   "execution_count": 236,
   "id": "597df2e0",
   "metadata": {
    "scrolled": false
   },
   "outputs": [
    {
     "data": {
      "text/html": [
       "<div>\n",
       "<style scoped>\n",
       "    .dataframe tbody tr th:only-of-type {\n",
       "        vertical-align: middle;\n",
       "    }\n",
       "\n",
       "    .dataframe tbody tr th {\n",
       "        vertical-align: top;\n",
       "    }\n",
       "\n",
       "    .dataframe thead th {\n",
       "        text-align: right;\n",
       "    }\n",
       "</style>\n",
       "<table border=\"1\" class=\"dataframe\">\n",
       "  <thead>\n",
       "    <tr style=\"text-align: right;\">\n",
       "      <th></th>\n",
       "      <th>Customer ID</th>\n",
       "      <th>year</th>\n",
       "      <th>month</th>\n",
       "      <th>date</th>\n",
       "      <th>children</th>\n",
       "      <th>charges</th>\n",
       "      <th>Hospital tier</th>\n",
       "      <th>City tier</th>\n",
       "      <th>State ID</th>\n",
       "      <th>name</th>\n",
       "      <th>BMI</th>\n",
       "      <th>HBA1C</th>\n",
       "      <th>Heart Issues</th>\n",
       "      <th>Any Transplants</th>\n",
       "      <th>Cancer history</th>\n",
       "      <th>NumberOfMajorSurgeries</th>\n",
       "      <th>smoker</th>\n",
       "    </tr>\n",
       "  </thead>\n",
       "  <tbody>\n",
       "    <tr>\n",
       "      <th>0</th>\n",
       "      <td>Id2335</td>\n",
       "      <td>1992</td>\n",
       "      <td>Jul</td>\n",
       "      <td>9</td>\n",
       "      <td>0</td>\n",
       "      <td>563.84</td>\n",
       "      <td>tier - 2</td>\n",
       "      <td>tier - 3</td>\n",
       "      <td>R1013</td>\n",
       "      <td>German, Mr.  Aaron K</td>\n",
       "      <td>17.580</td>\n",
       "      <td>4.51</td>\n",
       "      <td>No</td>\n",
       "      <td>No</td>\n",
       "      <td>No</td>\n",
       "      <td>1</td>\n",
       "      <td>No</td>\n",
       "    </tr>\n",
       "    <tr>\n",
       "      <th>1</th>\n",
       "      <td>Id2334</td>\n",
       "      <td>1992</td>\n",
       "      <td>Nov</td>\n",
       "      <td>30</td>\n",
       "      <td>0</td>\n",
       "      <td>570.62</td>\n",
       "      <td>tier - 2</td>\n",
       "      <td>tier - 1</td>\n",
       "      <td>R1013</td>\n",
       "      <td>Rosendahl, Mr.  Evan P</td>\n",
       "      <td>17.600</td>\n",
       "      <td>4.39</td>\n",
       "      <td>No</td>\n",
       "      <td>No</td>\n",
       "      <td>No</td>\n",
       "      <td>1</td>\n",
       "      <td>No</td>\n",
       "    </tr>\n",
       "    <tr>\n",
       "      <th>2</th>\n",
       "      <td>Id2333</td>\n",
       "      <td>1993</td>\n",
       "      <td>Jun</td>\n",
       "      <td>30</td>\n",
       "      <td>0</td>\n",
       "      <td>600.00</td>\n",
       "      <td>tier - 2</td>\n",
       "      <td>tier - 1</td>\n",
       "      <td>R1013</td>\n",
       "      <td>Albano, Ms.  Julie</td>\n",
       "      <td>16.470</td>\n",
       "      <td>6.35</td>\n",
       "      <td>No</td>\n",
       "      <td>No</td>\n",
       "      <td>Yes</td>\n",
       "      <td>1</td>\n",
       "      <td>No</td>\n",
       "    </tr>\n",
       "    <tr>\n",
       "      <th>3</th>\n",
       "      <td>Id2332</td>\n",
       "      <td>1992</td>\n",
       "      <td>Sep</td>\n",
       "      <td>13</td>\n",
       "      <td>0</td>\n",
       "      <td>604.54</td>\n",
       "      <td>tier - 3</td>\n",
       "      <td>tier - 3</td>\n",
       "      <td>R1013</td>\n",
       "      <td>Riveros Gonzalez, Mr.  Juan D. Sr.</td>\n",
       "      <td>17.700</td>\n",
       "      <td>6.28</td>\n",
       "      <td>No</td>\n",
       "      <td>No</td>\n",
       "      <td>No</td>\n",
       "      <td>1</td>\n",
       "      <td>No</td>\n",
       "    </tr>\n",
       "    <tr>\n",
       "      <th>4</th>\n",
       "      <td>Id2331</td>\n",
       "      <td>1998</td>\n",
       "      <td>Jul</td>\n",
       "      <td>27</td>\n",
       "      <td>0</td>\n",
       "      <td>637.26</td>\n",
       "      <td>tier - 3</td>\n",
       "      <td>tier - 3</td>\n",
       "      <td>R1013</td>\n",
       "      <td>Brietzke, Mr.  Jordan</td>\n",
       "      <td>22.340</td>\n",
       "      <td>5.57</td>\n",
       "      <td>No</td>\n",
       "      <td>No</td>\n",
       "      <td>No</td>\n",
       "      <td>1</td>\n",
       "      <td>No</td>\n",
       "    </tr>\n",
       "    <tr>\n",
       "      <th>...</th>\n",
       "      <td>...</td>\n",
       "      <td>...</td>\n",
       "      <td>...</td>\n",
       "      <td>...</td>\n",
       "      <td>...</td>\n",
       "      <td>...</td>\n",
       "      <td>...</td>\n",
       "      <td>...</td>\n",
       "      <td>...</td>\n",
       "      <td>...</td>\n",
       "      <td>...</td>\n",
       "      <td>...</td>\n",
       "      <td>...</td>\n",
       "      <td>...</td>\n",
       "      <td>...</td>\n",
       "      <td>...</td>\n",
       "      <td>...</td>\n",
       "    </tr>\n",
       "    <tr>\n",
       "      <th>2330</th>\n",
       "      <td>Id5</td>\n",
       "      <td>1989</td>\n",
       "      <td>Jun</td>\n",
       "      <td>19</td>\n",
       "      <td>0</td>\n",
       "      <td>55135.40</td>\n",
       "      <td>tier - 1</td>\n",
       "      <td>tier - 2</td>\n",
       "      <td>R1012</td>\n",
       "      <td>Kadala, Ms.  Kristyn</td>\n",
       "      <td>35.530</td>\n",
       "      <td>5.45</td>\n",
       "      <td>No</td>\n",
       "      <td>No</td>\n",
       "      <td>No</td>\n",
       "      <td>No major surgery</td>\n",
       "      <td>yes</td>\n",
       "    </tr>\n",
       "    <tr>\n",
       "      <th>2331</th>\n",
       "      <td>Id4</td>\n",
       "      <td>1991</td>\n",
       "      <td>Jun</td>\n",
       "      <td>6</td>\n",
       "      <td>1</td>\n",
       "      <td>58571.07</td>\n",
       "      <td>tier - 1</td>\n",
       "      <td>tier - 3</td>\n",
       "      <td>R1024</td>\n",
       "      <td>Osborne, Ms.  Kelsey</td>\n",
       "      <td>38.095</td>\n",
       "      <td>6.05</td>\n",
       "      <td>No</td>\n",
       "      <td>No</td>\n",
       "      <td>No</td>\n",
       "      <td>No major surgery</td>\n",
       "      <td>yes</td>\n",
       "    </tr>\n",
       "    <tr>\n",
       "      <th>2332</th>\n",
       "      <td>Id3</td>\n",
       "      <td>1970</td>\n",
       "      <td>?</td>\n",
       "      <td>11</td>\n",
       "      <td>3</td>\n",
       "      <td>60021.40</td>\n",
       "      <td>tier - 1</td>\n",
       "      <td>tier - 1</td>\n",
       "      <td>R1012</td>\n",
       "      <td>Lu, Mr.  Phil</td>\n",
       "      <td>34.485</td>\n",
       "      <td>11.87</td>\n",
       "      <td>yes</td>\n",
       "      <td>No</td>\n",
       "      <td>No</td>\n",
       "      <td>2</td>\n",
       "      <td>yes</td>\n",
       "    </tr>\n",
       "    <tr>\n",
       "      <th>2333</th>\n",
       "      <td>Id2</td>\n",
       "      <td>1977</td>\n",
       "      <td>Jun</td>\n",
       "      <td>8</td>\n",
       "      <td>0</td>\n",
       "      <td>62592.87</td>\n",
       "      <td>tier - 2</td>\n",
       "      <td>tier - 3</td>\n",
       "      <td>R1013</td>\n",
       "      <td>Lehner, Mr.  Matthew D</td>\n",
       "      <td>30.360</td>\n",
       "      <td>5.77</td>\n",
       "      <td>No</td>\n",
       "      <td>No</td>\n",
       "      <td>No</td>\n",
       "      <td>No major surgery</td>\n",
       "      <td>yes</td>\n",
       "    </tr>\n",
       "    <tr>\n",
       "      <th>2334</th>\n",
       "      <td>Id1</td>\n",
       "      <td>1968</td>\n",
       "      <td>Oct</td>\n",
       "      <td>12</td>\n",
       "      <td>0</td>\n",
       "      <td>63770.43</td>\n",
       "      <td>tier - 1</td>\n",
       "      <td>tier - 3</td>\n",
       "      <td>R1013</td>\n",
       "      <td>Hawks, Ms.  Kelly</td>\n",
       "      <td>47.410</td>\n",
       "      <td>7.47</td>\n",
       "      <td>No</td>\n",
       "      <td>No</td>\n",
       "      <td>No</td>\n",
       "      <td>No major surgery</td>\n",
       "      <td>yes</td>\n",
       "    </tr>\n",
       "  </tbody>\n",
       "</table>\n",
       "<p>2335 rows × 17 columns</p>\n",
       "</div>"
      ],
      "text/plain": [
       "     Customer ID  year month  date  children   charges Hospital tier  \\\n",
       "0         Id2335  1992   Jul     9         0    563.84      tier - 2   \n",
       "1         Id2334  1992   Nov    30         0    570.62      tier - 2   \n",
       "2         Id2333  1993   Jun    30         0    600.00      tier - 2   \n",
       "3         Id2332  1992   Sep    13         0    604.54      tier - 3   \n",
       "4         Id2331  1998   Jul    27         0    637.26      tier - 3   \n",
       "...          ...   ...   ...   ...       ...       ...           ...   \n",
       "2330         Id5  1989   Jun    19         0  55135.40      tier - 1   \n",
       "2331         Id4  1991   Jun     6         1  58571.07      tier - 1   \n",
       "2332         Id3  1970     ?    11         3  60021.40      tier - 1   \n",
       "2333         Id2  1977   Jun     8         0  62592.87      tier - 2   \n",
       "2334         Id1  1968   Oct    12         0  63770.43      tier - 1   \n",
       "\n",
       "     City tier State ID                                name     BMI  HBA1C  \\\n",
       "0     tier - 3    R1013                German, Mr.  Aaron K  17.580   4.51   \n",
       "1     tier - 1    R1013              Rosendahl, Mr.  Evan P  17.600   4.39   \n",
       "2     tier - 1    R1013                  Albano, Ms.  Julie  16.470   6.35   \n",
       "3     tier - 3    R1013  Riveros Gonzalez, Mr.  Juan D. Sr.  17.700   6.28   \n",
       "4     tier - 3    R1013               Brietzke, Mr.  Jordan  22.340   5.57   \n",
       "...        ...      ...                                 ...     ...    ...   \n",
       "2330  tier - 2    R1012                Kadala, Ms.  Kristyn  35.530   5.45   \n",
       "2331  tier - 3    R1024                Osborne, Ms.  Kelsey  38.095   6.05   \n",
       "2332  tier - 1    R1012                       Lu, Mr.  Phil  34.485  11.87   \n",
       "2333  tier - 3    R1013              Lehner, Mr.  Matthew D  30.360   5.77   \n",
       "2334  tier - 3    R1013                   Hawks, Ms.  Kelly  47.410   7.47   \n",
       "\n",
       "     Heart Issues Any Transplants Cancer history NumberOfMajorSurgeries smoker  \n",
       "0              No              No             No                      1     No  \n",
       "1              No              No             No                      1     No  \n",
       "2              No              No            Yes                      1     No  \n",
       "3              No              No             No                      1     No  \n",
       "4              No              No             No                      1     No  \n",
       "...           ...             ...            ...                    ...    ...  \n",
       "2330           No              No             No       No major surgery    yes  \n",
       "2331           No              No             No       No major surgery    yes  \n",
       "2332          yes              No             No                      2    yes  \n",
       "2333           No              No             No       No major surgery    yes  \n",
       "2334           No              No             No       No major surgery    yes  \n",
       "\n",
       "[2335 rows x 17 columns]"
      ]
     },
     "execution_count": 236,
     "metadata": {},
     "output_type": "execute_result"
    }
   ],
   "source": [
    "final_df"
   ]
  },
  {
   "cell_type": "markdown",
   "id": "1e8185b9",
   "metadata": {},
   "source": [
    "# 3. Find the percentage of rows that have trivial value (for example, ?), and delete such rows if \n",
    "they do not contain significant information"
   ]
  },
  {
   "cell_type": "code",
   "execution_count": 237,
   "id": "bb6b512d",
   "metadata": {
    "scrolled": true
   },
   "outputs": [
    {
     "data": {
      "text/html": [
       "<div>\n",
       "<style scoped>\n",
       "    .dataframe tbody tr th:only-of-type {\n",
       "        vertical-align: middle;\n",
       "    }\n",
       "\n",
       "    .dataframe tbody tr th {\n",
       "        vertical-align: top;\n",
       "    }\n",
       "\n",
       "    .dataframe thead th {\n",
       "        text-align: right;\n",
       "    }\n",
       "</style>\n",
       "<table border=\"1\" class=\"dataframe\">\n",
       "  <thead>\n",
       "    <tr style=\"text-align: right;\">\n",
       "      <th></th>\n",
       "      <th>Customer ID</th>\n",
       "      <th>year</th>\n",
       "      <th>month</th>\n",
       "      <th>date</th>\n",
       "      <th>children</th>\n",
       "      <th>charges</th>\n",
       "      <th>Hospital tier</th>\n",
       "      <th>City tier</th>\n",
       "      <th>State ID</th>\n",
       "      <th>name</th>\n",
       "      <th>BMI</th>\n",
       "      <th>HBA1C</th>\n",
       "      <th>Heart Issues</th>\n",
       "      <th>Any Transplants</th>\n",
       "      <th>Cancer history</th>\n",
       "      <th>NumberOfMajorSurgeries</th>\n",
       "      <th>smoker</th>\n",
       "    </tr>\n",
       "  </thead>\n",
       "  <tbody>\n",
       "    <tr>\n",
       "      <th>11</th>\n",
       "      <td>Id2324</td>\n",
       "      <td>1999</td>\n",
       "      <td>Dec</td>\n",
       "      <td>26</td>\n",
       "      <td>0</td>\n",
       "      <td>700.00</td>\n",
       "      <td>?</td>\n",
       "      <td>tier - 3</td>\n",
       "      <td>R1013</td>\n",
       "      <td>Duffy, Ms.  Meghan K</td>\n",
       "      <td>22.240</td>\n",
       "      <td>5.04</td>\n",
       "      <td>No</td>\n",
       "      <td>No</td>\n",
       "      <td>No</td>\n",
       "      <td>No major surgery</td>\n",
       "      <td>No</td>\n",
       "    </tr>\n",
       "    <tr>\n",
       "      <th>13</th>\n",
       "      <td>Id2322</td>\n",
       "      <td>2002</td>\n",
       "      <td>?</td>\n",
       "      <td>19</td>\n",
       "      <td>0</td>\n",
       "      <td>750.00</td>\n",
       "      <td>tier - 3</td>\n",
       "      <td>tier - 1</td>\n",
       "      <td>R1012</td>\n",
       "      <td>Street, Ms.  Holly</td>\n",
       "      <td>21.380</td>\n",
       "      <td>8.01</td>\n",
       "      <td>No</td>\n",
       "      <td>No</td>\n",
       "      <td>No</td>\n",
       "      <td>No major surgery</td>\n",
       "      <td>No</td>\n",
       "    </tr>\n",
       "    <tr>\n",
       "      <th>17</th>\n",
       "      <td>Id2318</td>\n",
       "      <td>1996</td>\n",
       "      <td>?</td>\n",
       "      <td>18</td>\n",
       "      <td>0</td>\n",
       "      <td>770.38</td>\n",
       "      <td>tier - 3</td>\n",
       "      <td>?</td>\n",
       "      <td>R1012</td>\n",
       "      <td>Gagnon, Ms.  Candice M</td>\n",
       "      <td>18.820</td>\n",
       "      <td>5.51</td>\n",
       "      <td>yes</td>\n",
       "      <td>No</td>\n",
       "      <td>No</td>\n",
       "      <td>No major surgery</td>\n",
       "      <td>No</td>\n",
       "    </tr>\n",
       "    <tr>\n",
       "      <th>542</th>\n",
       "      <td>Id1793</td>\n",
       "      <td>1995</td>\n",
       "      <td>Dec</td>\n",
       "      <td>1</td>\n",
       "      <td>3</td>\n",
       "      <td>4827.90</td>\n",
       "      <td>tier - 1</td>\n",
       "      <td>tier - 2</td>\n",
       "      <td>?</td>\n",
       "      <td>Capriolo, Mr.  Michael</td>\n",
       "      <td>18.905</td>\n",
       "      <td>4.91</td>\n",
       "      <td>yes</td>\n",
       "      <td>No</td>\n",
       "      <td>No</td>\n",
       "      <td>1</td>\n",
       "      <td>No</td>\n",
       "    </tr>\n",
       "    <tr>\n",
       "      <th>1046</th>\n",
       "      <td>Id1289</td>\n",
       "      <td>?</td>\n",
       "      <td>Jul</td>\n",
       "      <td>24</td>\n",
       "      <td>0</td>\n",
       "      <td>8534.67</td>\n",
       "      <td>tier - 2</td>\n",
       "      <td>tier - 3</td>\n",
       "      <td>R1024</td>\n",
       "      <td>Levine, Ms.  Annie J.</td>\n",
       "      <td>24.320</td>\n",
       "      <td>11.56</td>\n",
       "      <td>yes</td>\n",
       "      <td>No</td>\n",
       "      <td>No</td>\n",
       "      <td>1</td>\n",
       "      <td>No</td>\n",
       "    </tr>\n",
       "    <tr>\n",
       "      <th>1049</th>\n",
       "      <td>Id1286</td>\n",
       "      <td>?</td>\n",
       "      <td>Dec</td>\n",
       "      <td>12</td>\n",
       "      <td>1</td>\n",
       "      <td>8547.69</td>\n",
       "      <td>tier - 2</td>\n",
       "      <td>tier - 1</td>\n",
       "      <td>R1013</td>\n",
       "      <td>Ainsley, Ms.  Katie M.</td>\n",
       "      <td>29.370</td>\n",
       "      <td>8.01</td>\n",
       "      <td>yes</td>\n",
       "      <td>No</td>\n",
       "      <td>No</td>\n",
       "      <td>1</td>\n",
       "      <td>No</td>\n",
       "    </tr>\n",
       "    <tr>\n",
       "      <th>1700</th>\n",
       "      <td>Id635</td>\n",
       "      <td>2004</td>\n",
       "      <td>Jul</td>\n",
       "      <td>17</td>\n",
       "      <td>0</td>\n",
       "      <td>15518.18</td>\n",
       "      <td>tier - 2</td>\n",
       "      <td>tier - 3</td>\n",
       "      <td>R1015</td>\n",
       "      <td>Bruns, Mr.  Zachary T</td>\n",
       "      <td>25.175</td>\n",
       "      <td>4.96</td>\n",
       "      <td>No</td>\n",
       "      <td>yes</td>\n",
       "      <td>No</td>\n",
       "      <td>1</td>\n",
       "      <td>?</td>\n",
       "    </tr>\n",
       "    <tr>\n",
       "      <th>1775</th>\n",
       "      <td>Id560</td>\n",
       "      <td>1994</td>\n",
       "      <td>Jul</td>\n",
       "      <td>1</td>\n",
       "      <td>3</td>\n",
       "      <td>17663.14</td>\n",
       "      <td>tier - 1</td>\n",
       "      <td>tier - 3</td>\n",
       "      <td>R1013</td>\n",
       "      <td>Pearlman, Mr.  Oz</td>\n",
       "      <td>23.980</td>\n",
       "      <td>4.90</td>\n",
       "      <td>No</td>\n",
       "      <td>No</td>\n",
       "      <td>No</td>\n",
       "      <td>No major surgery</td>\n",
       "      <td>?</td>\n",
       "    </tr>\n",
       "    <tr>\n",
       "      <th>2165</th>\n",
       "      <td>Id170</td>\n",
       "      <td>2000</td>\n",
       "      <td>Sep</td>\n",
       "      <td>5</td>\n",
       "      <td>1</td>\n",
       "      <td>37165.16</td>\n",
       "      <td>tier - 1</td>\n",
       "      <td>tier - 3</td>\n",
       "      <td>?</td>\n",
       "      <td>Torphy, Mr.  Bobby</td>\n",
       "      <td>37.620</td>\n",
       "      <td>6.32</td>\n",
       "      <td>yes</td>\n",
       "      <td>yes</td>\n",
       "      <td>No</td>\n",
       "      <td>2</td>\n",
       "      <td>yes</td>\n",
       "    </tr>\n",
       "    <tr>\n",
       "      <th>2332</th>\n",
       "      <td>Id3</td>\n",
       "      <td>1970</td>\n",
       "      <td>?</td>\n",
       "      <td>11</td>\n",
       "      <td>3</td>\n",
       "      <td>60021.40</td>\n",
       "      <td>tier - 1</td>\n",
       "      <td>tier - 1</td>\n",
       "      <td>R1012</td>\n",
       "      <td>Lu, Mr.  Phil</td>\n",
       "      <td>34.485</td>\n",
       "      <td>11.87</td>\n",
       "      <td>yes</td>\n",
       "      <td>No</td>\n",
       "      <td>No</td>\n",
       "      <td>2</td>\n",
       "      <td>yes</td>\n",
       "    </tr>\n",
       "  </tbody>\n",
       "</table>\n",
       "</div>"
      ],
      "text/plain": [
       "     Customer ID  year month  date  children   charges Hospital tier  \\\n",
       "11        Id2324  1999   Dec    26         0    700.00             ?   \n",
       "13        Id2322  2002     ?    19         0    750.00      tier - 3   \n",
       "17        Id2318  1996     ?    18         0    770.38      tier - 3   \n",
       "542       Id1793  1995   Dec     1         3   4827.90      tier - 1   \n",
       "1046      Id1289     ?   Jul    24         0   8534.67      tier - 2   \n",
       "1049      Id1286     ?   Dec    12         1   8547.69      tier - 2   \n",
       "1700       Id635  2004   Jul    17         0  15518.18      tier - 2   \n",
       "1775       Id560  1994   Jul     1         3  17663.14      tier - 1   \n",
       "2165       Id170  2000   Sep     5         1  37165.16      tier - 1   \n",
       "2332         Id3  1970     ?    11         3  60021.40      tier - 1   \n",
       "\n",
       "     City tier State ID                    name     BMI  HBA1C Heart Issues  \\\n",
       "11    tier - 3    R1013    Duffy, Ms.  Meghan K  22.240   5.04           No   \n",
       "13    tier - 1    R1012      Street, Ms.  Holly  21.380   8.01           No   \n",
       "17           ?    R1012  Gagnon, Ms.  Candice M  18.820   5.51          yes   \n",
       "542   tier - 2        ?  Capriolo, Mr.  Michael  18.905   4.91          yes   \n",
       "1046  tier - 3    R1024   Levine, Ms.  Annie J.  24.320  11.56          yes   \n",
       "1049  tier - 1    R1013  Ainsley, Ms.  Katie M.  29.370   8.01          yes   \n",
       "1700  tier - 3    R1015   Bruns, Mr.  Zachary T  25.175   4.96           No   \n",
       "1775  tier - 3    R1013       Pearlman, Mr.  Oz  23.980   4.90           No   \n",
       "2165  tier - 3        ?      Torphy, Mr.  Bobby  37.620   6.32          yes   \n",
       "2332  tier - 1    R1012           Lu, Mr.  Phil  34.485  11.87          yes   \n",
       "\n",
       "     Any Transplants Cancer history NumberOfMajorSurgeries smoker  \n",
       "11                No             No       No major surgery     No  \n",
       "13                No             No       No major surgery     No  \n",
       "17                No             No       No major surgery     No  \n",
       "542               No             No                      1     No  \n",
       "1046              No             No                      1     No  \n",
       "1049              No             No                      1     No  \n",
       "1700             yes             No                      1      ?  \n",
       "1775              No             No       No major surgery      ?  \n",
       "2165             yes             No                      2    yes  \n",
       "2332              No             No                      2    yes  "
      ]
     },
     "execution_count": 237,
     "metadata": {},
     "output_type": "execute_result"
    }
   ],
   "source": [
    "trivial_df=final_df[final_df.eq(\"?\").any(1)]\n",
    "trivial_df"
   ]
  },
  {
   "cell_type": "code",
   "execution_count": 238,
   "id": "8283a8cf",
   "metadata": {},
   "outputs": [
    {
     "data": {
      "text/plain": [
       "(10, 17)"
      ]
     },
     "execution_count": 238,
     "metadata": {},
     "output_type": "execute_result"
    }
   ],
   "source": [
    "trivial_df.shape"
   ]
  },
  {
   "cell_type": "code",
   "execution_count": 239,
   "id": "b4a1032f",
   "metadata": {},
   "outputs": [
    {
     "data": {
      "text/plain": [
       "0.43"
      ]
     },
     "execution_count": 239,
     "metadata": {},
     "output_type": "execute_result"
    }
   ],
   "source": [
    "round(trivial_df.shape[0]/final_df.shape[0]*100,2)"
   ]
  },
  {
   "cell_type": "code",
   "execution_count": 240,
   "id": "fa327d95",
   "metadata": {},
   "outputs": [],
   "source": [
    "# .43 contains such trivial values that needs to be removed ."
   ]
  },
  {
   "cell_type": "code",
   "execution_count": 241,
   "id": "c6bc2cad",
   "metadata": {},
   "outputs": [],
   "source": [
    "final_df.drop(final_df[final_df.eq(\"?\").any(1)].index,axis=0,inplace=True)"
   ]
  },
  {
   "cell_type": "code",
   "execution_count": 242,
   "id": "19a348b2",
   "metadata": {},
   "outputs": [
    {
     "data": {
      "text/html": [
       "<div>\n",
       "<style scoped>\n",
       "    .dataframe tbody tr th:only-of-type {\n",
       "        vertical-align: middle;\n",
       "    }\n",
       "\n",
       "    .dataframe tbody tr th {\n",
       "        vertical-align: top;\n",
       "    }\n",
       "\n",
       "    .dataframe thead th {\n",
       "        text-align: right;\n",
       "    }\n",
       "</style>\n",
       "<table border=\"1\" class=\"dataframe\">\n",
       "  <thead>\n",
       "    <tr style=\"text-align: right;\">\n",
       "      <th></th>\n",
       "      <th>Customer ID</th>\n",
       "      <th>year</th>\n",
       "      <th>month</th>\n",
       "      <th>date</th>\n",
       "      <th>children</th>\n",
       "      <th>charges</th>\n",
       "      <th>Hospital tier</th>\n",
       "      <th>City tier</th>\n",
       "      <th>State ID</th>\n",
       "      <th>name</th>\n",
       "      <th>BMI</th>\n",
       "      <th>HBA1C</th>\n",
       "      <th>Heart Issues</th>\n",
       "      <th>Any Transplants</th>\n",
       "      <th>Cancer history</th>\n",
       "      <th>NumberOfMajorSurgeries</th>\n",
       "      <th>smoker</th>\n",
       "    </tr>\n",
       "  </thead>\n",
       "  <tbody>\n",
       "    <tr>\n",
       "      <th>0</th>\n",
       "      <td>Id2335</td>\n",
       "      <td>1992</td>\n",
       "      <td>Jul</td>\n",
       "      <td>9</td>\n",
       "      <td>0</td>\n",
       "      <td>563.84</td>\n",
       "      <td>tier - 2</td>\n",
       "      <td>tier - 3</td>\n",
       "      <td>R1013</td>\n",
       "      <td>German, Mr.  Aaron K</td>\n",
       "      <td>17.58</td>\n",
       "      <td>4.51</td>\n",
       "      <td>No</td>\n",
       "      <td>No</td>\n",
       "      <td>No</td>\n",
       "      <td>1</td>\n",
       "      <td>No</td>\n",
       "    </tr>\n",
       "    <tr>\n",
       "      <th>1</th>\n",
       "      <td>Id2334</td>\n",
       "      <td>1992</td>\n",
       "      <td>Nov</td>\n",
       "      <td>30</td>\n",
       "      <td>0</td>\n",
       "      <td>570.62</td>\n",
       "      <td>tier - 2</td>\n",
       "      <td>tier - 1</td>\n",
       "      <td>R1013</td>\n",
       "      <td>Rosendahl, Mr.  Evan P</td>\n",
       "      <td>17.60</td>\n",
       "      <td>4.39</td>\n",
       "      <td>No</td>\n",
       "      <td>No</td>\n",
       "      <td>No</td>\n",
       "      <td>1</td>\n",
       "      <td>No</td>\n",
       "    </tr>\n",
       "    <tr>\n",
       "      <th>2</th>\n",
       "      <td>Id2333</td>\n",
       "      <td>1993</td>\n",
       "      <td>Jun</td>\n",
       "      <td>30</td>\n",
       "      <td>0</td>\n",
       "      <td>600.00</td>\n",
       "      <td>tier - 2</td>\n",
       "      <td>tier - 1</td>\n",
       "      <td>R1013</td>\n",
       "      <td>Albano, Ms.  Julie</td>\n",
       "      <td>16.47</td>\n",
       "      <td>6.35</td>\n",
       "      <td>No</td>\n",
       "      <td>No</td>\n",
       "      <td>Yes</td>\n",
       "      <td>1</td>\n",
       "      <td>No</td>\n",
       "    </tr>\n",
       "    <tr>\n",
       "      <th>3</th>\n",
       "      <td>Id2332</td>\n",
       "      <td>1992</td>\n",
       "      <td>Sep</td>\n",
       "      <td>13</td>\n",
       "      <td>0</td>\n",
       "      <td>604.54</td>\n",
       "      <td>tier - 3</td>\n",
       "      <td>tier - 3</td>\n",
       "      <td>R1013</td>\n",
       "      <td>Riveros Gonzalez, Mr.  Juan D. Sr.</td>\n",
       "      <td>17.70</td>\n",
       "      <td>6.28</td>\n",
       "      <td>No</td>\n",
       "      <td>No</td>\n",
       "      <td>No</td>\n",
       "      <td>1</td>\n",
       "      <td>No</td>\n",
       "    </tr>\n",
       "    <tr>\n",
       "      <th>4</th>\n",
       "      <td>Id2331</td>\n",
       "      <td>1998</td>\n",
       "      <td>Jul</td>\n",
       "      <td>27</td>\n",
       "      <td>0</td>\n",
       "      <td>637.26</td>\n",
       "      <td>tier - 3</td>\n",
       "      <td>tier - 3</td>\n",
       "      <td>R1013</td>\n",
       "      <td>Brietzke, Mr.  Jordan</td>\n",
       "      <td>22.34</td>\n",
       "      <td>5.57</td>\n",
       "      <td>No</td>\n",
       "      <td>No</td>\n",
       "      <td>No</td>\n",
       "      <td>1</td>\n",
       "      <td>No</td>\n",
       "    </tr>\n",
       "  </tbody>\n",
       "</table>\n",
       "</div>"
      ],
      "text/plain": [
       "  Customer ID  year month  date  children  charges Hospital tier City tier  \\\n",
       "0      Id2335  1992   Jul     9         0   563.84      tier - 2  tier - 3   \n",
       "1      Id2334  1992   Nov    30         0   570.62      tier - 2  tier - 1   \n",
       "2      Id2333  1993   Jun    30         0   600.00      tier - 2  tier - 1   \n",
       "3      Id2332  1992   Sep    13         0   604.54      tier - 3  tier - 3   \n",
       "4      Id2331  1998   Jul    27         0   637.26      tier - 3  tier - 3   \n",
       "\n",
       "  State ID                                name    BMI  HBA1C Heart Issues  \\\n",
       "0    R1013                German, Mr.  Aaron K  17.58   4.51           No   \n",
       "1    R1013              Rosendahl, Mr.  Evan P  17.60   4.39           No   \n",
       "2    R1013                  Albano, Ms.  Julie  16.47   6.35           No   \n",
       "3    R1013  Riveros Gonzalez, Mr.  Juan D. Sr.  17.70   6.28           No   \n",
       "4    R1013               Brietzke, Mr.  Jordan  22.34   5.57           No   \n",
       "\n",
       "  Any Transplants Cancer history NumberOfMajorSurgeries smoker  \n",
       "0              No             No                      1     No  \n",
       "1              No             No                      1     No  \n",
       "2              No            Yes                      1     No  \n",
       "3              No             No                      1     No  \n",
       "4              No             No                      1     No  "
      ]
     },
     "execution_count": 242,
     "metadata": {},
     "output_type": "execute_result"
    }
   ],
   "source": [
    "final_df.head()"
   ]
  },
  {
   "cell_type": "code",
   "execution_count": 243,
   "id": "f739dcd5",
   "metadata": {},
   "outputs": [
    {
     "data": {
      "text/plain": [
       "(2325, 17)"
      ]
     },
     "execution_count": 243,
     "metadata": {},
     "output_type": "execute_result"
    }
   ],
   "source": [
    "final_df.shape"
   ]
  },
  {
   "cell_type": "markdown",
   "id": "aaae8eb9",
   "metadata": {},
   "source": [
    "# 4. Use the necessary transformation methods to deal with the nominal and ordinal \n",
    "categorical variables in the dataset\n"
   ]
  },
  {
   "cell_type": "code",
   "execution_count": 244,
   "id": "36971c2f",
   "metadata": {},
   "outputs": [
    {
     "data": {
      "text/plain": [
       "No     1405\n",
       "yes     920\n",
       "Name: Heart Issues, dtype: int64"
      ]
     },
     "execution_count": 244,
     "metadata": {},
     "output_type": "execute_result"
    }
   ],
   "source": [
    "# dealing with the nominal categorical variables first\n",
    "final_df[\"Heart Issues\"].value_counts()\n"
   ]
  },
  {
   "cell_type": "code",
   "execution_count": 245,
   "id": "937bd82d",
   "metadata": {},
   "outputs": [
    {
     "data": {
      "text/plain": [
       "No     2183\n",
       "yes     142\n",
       "Name: Any Transplants, dtype: int64"
      ]
     },
     "execution_count": 245,
     "metadata": {},
     "output_type": "execute_result"
    }
   ],
   "source": [
    "final_df[\"Any Transplants\"].value_counts()"
   ]
  },
  {
   "cell_type": "code",
   "execution_count": 246,
   "id": "323aea4a",
   "metadata": {},
   "outputs": [
    {
     "data": {
      "text/plain": [
       "No     1934\n",
       "Yes     391\n",
       "Name: Cancer history, dtype: int64"
      ]
     },
     "execution_count": 246,
     "metadata": {},
     "output_type": "execute_result"
    }
   ],
   "source": [
    "final_df[\"Cancer history\"].value_counts()"
   ]
  },
  {
   "cell_type": "code",
   "execution_count": 247,
   "id": "f3945d6c",
   "metadata": {},
   "outputs": [
    {
     "data": {
      "text/plain": [
       "No     1839\n",
       "yes     486\n",
       "Name: smoker, dtype: int64"
      ]
     },
     "execution_count": 247,
     "metadata": {},
     "output_type": "execute_result"
    }
   ],
   "source": [
    "final_df[\"smoker\"].value_counts()"
   ]
  },
  {
   "cell_type": "code",
   "execution_count": 248,
   "id": "870e8ff5",
   "metadata": {},
   "outputs": [],
   "source": [
    "#transforming categorical values to numerical values by using label encoder\n",
    "from sklearn.preprocessing import LabelEncoder"
   ]
  },
  {
   "cell_type": "code",
   "execution_count": 249,
   "id": "4e4bd898",
   "metadata": {},
   "outputs": [],
   "source": [
    "en = LabelEncoder()"
   ]
  },
  {
   "cell_type": "code",
   "execution_count": 250,
   "id": "4d450cdf",
   "metadata": {},
   "outputs": [],
   "source": [
    "final_df[\"Heart Issues\"] = en.fit_transform(final_df[\"Heart Issues\"])"
   ]
  },
  {
   "cell_type": "code",
   "execution_count": 251,
   "id": "14badb8e",
   "metadata": {},
   "outputs": [],
   "source": [
    "final_df[\"smoker\"] = en.fit_transform(final_df[\"smoker\"])"
   ]
  },
  {
   "cell_type": "code",
   "execution_count": 252,
   "id": "a6b59251",
   "metadata": {},
   "outputs": [],
   "source": [
    "final_df[\"Any Transplants\"] = en.fit_transform(final_df[\"Any Transplants\"])"
   ]
  },
  {
   "cell_type": "code",
   "execution_count": 253,
   "id": "7e71c252",
   "metadata": {},
   "outputs": [],
   "source": [
    "final_df[\"Cancer history\"] = en.fit_transform(final_df[\"Cancer history\"])"
   ]
  },
  {
   "cell_type": "code",
   "execution_count": 254,
   "id": "9d5f3d97",
   "metadata": {},
   "outputs": [
    {
     "data": {
      "text/html": [
       "<div>\n",
       "<style scoped>\n",
       "    .dataframe tbody tr th:only-of-type {\n",
       "        vertical-align: middle;\n",
       "    }\n",
       "\n",
       "    .dataframe tbody tr th {\n",
       "        vertical-align: top;\n",
       "    }\n",
       "\n",
       "    .dataframe thead th {\n",
       "        text-align: right;\n",
       "    }\n",
       "</style>\n",
       "<table border=\"1\" class=\"dataframe\">\n",
       "  <thead>\n",
       "    <tr style=\"text-align: right;\">\n",
       "      <th></th>\n",
       "      <th>Customer ID</th>\n",
       "      <th>year</th>\n",
       "      <th>month</th>\n",
       "      <th>date</th>\n",
       "      <th>children</th>\n",
       "      <th>charges</th>\n",
       "      <th>Hospital tier</th>\n",
       "      <th>City tier</th>\n",
       "      <th>State ID</th>\n",
       "      <th>name</th>\n",
       "      <th>BMI</th>\n",
       "      <th>HBA1C</th>\n",
       "      <th>Heart Issues</th>\n",
       "      <th>Any Transplants</th>\n",
       "      <th>Cancer history</th>\n",
       "      <th>NumberOfMajorSurgeries</th>\n",
       "      <th>smoker</th>\n",
       "    </tr>\n",
       "  </thead>\n",
       "  <tbody>\n",
       "    <tr>\n",
       "      <th>0</th>\n",
       "      <td>Id2335</td>\n",
       "      <td>1992</td>\n",
       "      <td>Jul</td>\n",
       "      <td>9</td>\n",
       "      <td>0</td>\n",
       "      <td>563.84</td>\n",
       "      <td>tier - 2</td>\n",
       "      <td>tier - 3</td>\n",
       "      <td>R1013</td>\n",
       "      <td>German, Mr.  Aaron K</td>\n",
       "      <td>17.58</td>\n",
       "      <td>4.51</td>\n",
       "      <td>0</td>\n",
       "      <td>0</td>\n",
       "      <td>0</td>\n",
       "      <td>1</td>\n",
       "      <td>0</td>\n",
       "    </tr>\n",
       "    <tr>\n",
       "      <th>1</th>\n",
       "      <td>Id2334</td>\n",
       "      <td>1992</td>\n",
       "      <td>Nov</td>\n",
       "      <td>30</td>\n",
       "      <td>0</td>\n",
       "      <td>570.62</td>\n",
       "      <td>tier - 2</td>\n",
       "      <td>tier - 1</td>\n",
       "      <td>R1013</td>\n",
       "      <td>Rosendahl, Mr.  Evan P</td>\n",
       "      <td>17.60</td>\n",
       "      <td>4.39</td>\n",
       "      <td>0</td>\n",
       "      <td>0</td>\n",
       "      <td>0</td>\n",
       "      <td>1</td>\n",
       "      <td>0</td>\n",
       "    </tr>\n",
       "    <tr>\n",
       "      <th>2</th>\n",
       "      <td>Id2333</td>\n",
       "      <td>1993</td>\n",
       "      <td>Jun</td>\n",
       "      <td>30</td>\n",
       "      <td>0</td>\n",
       "      <td>600.00</td>\n",
       "      <td>tier - 2</td>\n",
       "      <td>tier - 1</td>\n",
       "      <td>R1013</td>\n",
       "      <td>Albano, Ms.  Julie</td>\n",
       "      <td>16.47</td>\n",
       "      <td>6.35</td>\n",
       "      <td>0</td>\n",
       "      <td>0</td>\n",
       "      <td>1</td>\n",
       "      <td>1</td>\n",
       "      <td>0</td>\n",
       "    </tr>\n",
       "    <tr>\n",
       "      <th>3</th>\n",
       "      <td>Id2332</td>\n",
       "      <td>1992</td>\n",
       "      <td>Sep</td>\n",
       "      <td>13</td>\n",
       "      <td>0</td>\n",
       "      <td>604.54</td>\n",
       "      <td>tier - 3</td>\n",
       "      <td>tier - 3</td>\n",
       "      <td>R1013</td>\n",
       "      <td>Riveros Gonzalez, Mr.  Juan D. Sr.</td>\n",
       "      <td>17.70</td>\n",
       "      <td>6.28</td>\n",
       "      <td>0</td>\n",
       "      <td>0</td>\n",
       "      <td>0</td>\n",
       "      <td>1</td>\n",
       "      <td>0</td>\n",
       "    </tr>\n",
       "    <tr>\n",
       "      <th>4</th>\n",
       "      <td>Id2331</td>\n",
       "      <td>1998</td>\n",
       "      <td>Jul</td>\n",
       "      <td>27</td>\n",
       "      <td>0</td>\n",
       "      <td>637.26</td>\n",
       "      <td>tier - 3</td>\n",
       "      <td>tier - 3</td>\n",
       "      <td>R1013</td>\n",
       "      <td>Brietzke, Mr.  Jordan</td>\n",
       "      <td>22.34</td>\n",
       "      <td>5.57</td>\n",
       "      <td>0</td>\n",
       "      <td>0</td>\n",
       "      <td>0</td>\n",
       "      <td>1</td>\n",
       "      <td>0</td>\n",
       "    </tr>\n",
       "  </tbody>\n",
       "</table>\n",
       "</div>"
      ],
      "text/plain": [
       "  Customer ID  year month  date  children  charges Hospital tier City tier  \\\n",
       "0      Id2335  1992   Jul     9         0   563.84      tier - 2  tier - 3   \n",
       "1      Id2334  1992   Nov    30         0   570.62      tier - 2  tier - 1   \n",
       "2      Id2333  1993   Jun    30         0   600.00      tier - 2  tier - 1   \n",
       "3      Id2332  1992   Sep    13         0   604.54      tier - 3  tier - 3   \n",
       "4      Id2331  1998   Jul    27         0   637.26      tier - 3  tier - 3   \n",
       "\n",
       "  State ID                                name    BMI  HBA1C  Heart Issues  \\\n",
       "0    R1013                German, Mr.  Aaron K  17.58   4.51             0   \n",
       "1    R1013              Rosendahl, Mr.  Evan P  17.60   4.39             0   \n",
       "2    R1013                  Albano, Ms.  Julie  16.47   6.35             0   \n",
       "3    R1013  Riveros Gonzalez, Mr.  Juan D. Sr.  17.70   6.28             0   \n",
       "4    R1013               Brietzke, Mr.  Jordan  22.34   5.57             0   \n",
       "\n",
       "   Any Transplants  Cancer history NumberOfMajorSurgeries  smoker  \n",
       "0                0               0                      1       0  \n",
       "1                0               0                      1       0  \n",
       "2                0               1                      1       0  \n",
       "3                0               0                      1       0  \n",
       "4                0               0                      1       0  "
      ]
     },
     "execution_count": 254,
     "metadata": {},
     "output_type": "execute_result"
    }
   ],
   "source": [
    "final_df.head()"
   ]
  },
  {
   "cell_type": "code",
   "execution_count": 255,
   "id": "a6eb587e",
   "metadata": {},
   "outputs": [],
   "source": [
    "## dealing with the ordinal variables"
   ]
  },
  {
   "cell_type": "code",
   "execution_count": 256,
   "id": "9e99a0ff",
   "metadata": {},
   "outputs": [],
   "source": [
    "def clean_ordinal(ord):\n",
    "    return int(ord.replace(\"tier\",\"\").replace(\" \",\"\").replace(\"-\",\"\"))"
   ]
  },
  {
   "cell_type": "code",
   "execution_count": 257,
   "id": "6e3b4575",
   "metadata": {},
   "outputs": [],
   "source": [
    "final_df[\"Hospital tier\"] = final_df[\"Hospital tier\"].map(clean_ordinal)\n",
    "final_df[\"City tier\"] = final_df[\"City tier\"].map(clean_ordinal)"
   ]
  },
  {
   "cell_type": "code",
   "execution_count": 258,
   "id": "7cd7d752",
   "metadata": {},
   "outputs": [
    {
     "data": {
      "text/plain": [
       "2    807\n",
       "3    789\n",
       "1    729\n",
       "Name: City tier, dtype: int64"
      ]
     },
     "execution_count": 258,
     "metadata": {},
     "output_type": "execute_result"
    }
   ],
   "source": [
    "final_df[\"City tier\"].value_counts()\n"
   ]
  },
  {
   "cell_type": "code",
   "execution_count": 259,
   "id": "8d14bca4",
   "metadata": {},
   "outputs": [
    {
     "data": {
      "text/html": [
       "<div>\n",
       "<style scoped>\n",
       "    .dataframe tbody tr th:only-of-type {\n",
       "        vertical-align: middle;\n",
       "    }\n",
       "\n",
       "    .dataframe tbody tr th {\n",
       "        vertical-align: top;\n",
       "    }\n",
       "\n",
       "    .dataframe thead th {\n",
       "        text-align: right;\n",
       "    }\n",
       "</style>\n",
       "<table border=\"1\" class=\"dataframe\">\n",
       "  <thead>\n",
       "    <tr style=\"text-align: right;\">\n",
       "      <th></th>\n",
       "      <th>Customer ID</th>\n",
       "      <th>year</th>\n",
       "      <th>month</th>\n",
       "      <th>date</th>\n",
       "      <th>children</th>\n",
       "      <th>charges</th>\n",
       "      <th>Hospital tier</th>\n",
       "      <th>City tier</th>\n",
       "      <th>State ID</th>\n",
       "      <th>name</th>\n",
       "      <th>BMI</th>\n",
       "      <th>HBA1C</th>\n",
       "      <th>Heart Issues</th>\n",
       "      <th>Any Transplants</th>\n",
       "      <th>Cancer history</th>\n",
       "      <th>NumberOfMajorSurgeries</th>\n",
       "      <th>smoker</th>\n",
       "    </tr>\n",
       "  </thead>\n",
       "  <tbody>\n",
       "    <tr>\n",
       "      <th>0</th>\n",
       "      <td>Id2335</td>\n",
       "      <td>1992</td>\n",
       "      <td>Jul</td>\n",
       "      <td>9</td>\n",
       "      <td>0</td>\n",
       "      <td>563.84</td>\n",
       "      <td>2</td>\n",
       "      <td>3</td>\n",
       "      <td>R1013</td>\n",
       "      <td>German, Mr.  Aaron K</td>\n",
       "      <td>17.58</td>\n",
       "      <td>4.51</td>\n",
       "      <td>0</td>\n",
       "      <td>0</td>\n",
       "      <td>0</td>\n",
       "      <td>1</td>\n",
       "      <td>0</td>\n",
       "    </tr>\n",
       "    <tr>\n",
       "      <th>1</th>\n",
       "      <td>Id2334</td>\n",
       "      <td>1992</td>\n",
       "      <td>Nov</td>\n",
       "      <td>30</td>\n",
       "      <td>0</td>\n",
       "      <td>570.62</td>\n",
       "      <td>2</td>\n",
       "      <td>1</td>\n",
       "      <td>R1013</td>\n",
       "      <td>Rosendahl, Mr.  Evan P</td>\n",
       "      <td>17.60</td>\n",
       "      <td>4.39</td>\n",
       "      <td>0</td>\n",
       "      <td>0</td>\n",
       "      <td>0</td>\n",
       "      <td>1</td>\n",
       "      <td>0</td>\n",
       "    </tr>\n",
       "    <tr>\n",
       "      <th>2</th>\n",
       "      <td>Id2333</td>\n",
       "      <td>1993</td>\n",
       "      <td>Jun</td>\n",
       "      <td>30</td>\n",
       "      <td>0</td>\n",
       "      <td>600.00</td>\n",
       "      <td>2</td>\n",
       "      <td>1</td>\n",
       "      <td>R1013</td>\n",
       "      <td>Albano, Ms.  Julie</td>\n",
       "      <td>16.47</td>\n",
       "      <td>6.35</td>\n",
       "      <td>0</td>\n",
       "      <td>0</td>\n",
       "      <td>1</td>\n",
       "      <td>1</td>\n",
       "      <td>0</td>\n",
       "    </tr>\n",
       "    <tr>\n",
       "      <th>3</th>\n",
       "      <td>Id2332</td>\n",
       "      <td>1992</td>\n",
       "      <td>Sep</td>\n",
       "      <td>13</td>\n",
       "      <td>0</td>\n",
       "      <td>604.54</td>\n",
       "      <td>3</td>\n",
       "      <td>3</td>\n",
       "      <td>R1013</td>\n",
       "      <td>Riveros Gonzalez, Mr.  Juan D. Sr.</td>\n",
       "      <td>17.70</td>\n",
       "      <td>6.28</td>\n",
       "      <td>0</td>\n",
       "      <td>0</td>\n",
       "      <td>0</td>\n",
       "      <td>1</td>\n",
       "      <td>0</td>\n",
       "    </tr>\n",
       "    <tr>\n",
       "      <th>4</th>\n",
       "      <td>Id2331</td>\n",
       "      <td>1998</td>\n",
       "      <td>Jul</td>\n",
       "      <td>27</td>\n",
       "      <td>0</td>\n",
       "      <td>637.26</td>\n",
       "      <td>3</td>\n",
       "      <td>3</td>\n",
       "      <td>R1013</td>\n",
       "      <td>Brietzke, Mr.  Jordan</td>\n",
       "      <td>22.34</td>\n",
       "      <td>5.57</td>\n",
       "      <td>0</td>\n",
       "      <td>0</td>\n",
       "      <td>0</td>\n",
       "      <td>1</td>\n",
       "      <td>0</td>\n",
       "    </tr>\n",
       "  </tbody>\n",
       "</table>\n",
       "</div>"
      ],
      "text/plain": [
       "  Customer ID  year month  date  children  charges  Hospital tier  City tier  \\\n",
       "0      Id2335  1992   Jul     9         0   563.84              2          3   \n",
       "1      Id2334  1992   Nov    30         0   570.62              2          1   \n",
       "2      Id2333  1993   Jun    30         0   600.00              2          1   \n",
       "3      Id2332  1992   Sep    13         0   604.54              3          3   \n",
       "4      Id2331  1998   Jul    27         0   637.26              3          3   \n",
       "\n",
       "  State ID                                name    BMI  HBA1C  Heart Issues  \\\n",
       "0    R1013                German, Mr.  Aaron K  17.58   4.51             0   \n",
       "1    R1013              Rosendahl, Mr.  Evan P  17.60   4.39             0   \n",
       "2    R1013                  Albano, Ms.  Julie  16.47   6.35             0   \n",
       "3    R1013  Riveros Gonzalez, Mr.  Juan D. Sr.  17.70   6.28             0   \n",
       "4    R1013               Brietzke, Mr.  Jordan  22.34   5.57             0   \n",
       "\n",
       "   Any Transplants  Cancer history NumberOfMajorSurgeries  smoker  \n",
       "0                0               0                      1       0  \n",
       "1                0               0                      1       0  \n",
       "2                0               1                      1       0  \n",
       "3                0               0                      1       0  \n",
       "4                0               0                      1       0  "
      ]
     },
     "execution_count": 259,
     "metadata": {},
     "output_type": "execute_result"
    }
   ],
   "source": [
    "final_df.head()"
   ]
  },
  {
   "cell_type": "markdown",
   "id": "698d0e6b",
   "metadata": {},
   "source": [
    "# 5. The dataset has State ID, which has around 16 states. All states are not represented in equal proportions in the data. Creating dummy variables for all regions may also result in too many insignificant predictors. Nevertheless, only R1011, R1012, and R1013 are worth investigating further. Create a suitable strategy to create dummy variables with these restraints.\n"
   ]
  },
  {
   "cell_type": "code",
   "execution_count": 260,
   "id": "b47fb421",
   "metadata": {},
   "outputs": [
    {
     "data": {
      "text/plain": [
       "R1013    609\n",
       "R1011    574\n",
       "R1012    572\n",
       "R1024    159\n",
       "R1026     84\n",
       "R1021     70\n",
       "R1016     64\n",
       "R1025     40\n",
       "R1023     38\n",
       "R1017     36\n",
       "R1019     26\n",
       "R1022     14\n",
       "R1014     13\n",
       "R1015     11\n",
       "R1018      9\n",
       "R1020      6\n",
       "Name: State ID, dtype: int64"
      ]
     },
     "execution_count": 260,
     "metadata": {},
     "output_type": "execute_result"
    }
   ],
   "source": [
    "final_df[\"State ID\"].value_counts()"
   ]
  },
  {
   "cell_type": "code",
   "execution_count": 261,
   "id": "d793bccd",
   "metadata": {},
   "outputs": [],
   "source": [
    "# we can see that some are worth important to consider like R1013    609, R1011    574, R1012    572"
   ]
  },
  {
   "cell_type": "code",
   "execution_count": 262,
   "id": "76223043",
   "metadata": {},
   "outputs": [
    {
     "data": {
      "text/html": [
       "<div>\n",
       "<style scoped>\n",
       "    .dataframe tbody tr th:only-of-type {\n",
       "        vertical-align: middle;\n",
       "    }\n",
       "\n",
       "    .dataframe tbody tr th {\n",
       "        vertical-align: top;\n",
       "    }\n",
       "\n",
       "    .dataframe thead th {\n",
       "        text-align: right;\n",
       "    }\n",
       "</style>\n",
       "<table border=\"1\" class=\"dataframe\">\n",
       "  <thead>\n",
       "    <tr style=\"text-align: right;\">\n",
       "      <th></th>\n",
       "      <th>state_id_R1011</th>\n",
       "      <th>state_id_R1012</th>\n",
       "      <th>state_id_R1013</th>\n",
       "      <th>state_id_R1014</th>\n",
       "      <th>state_id_R1015</th>\n",
       "      <th>state_id_R1016</th>\n",
       "      <th>state_id_R1017</th>\n",
       "      <th>state_id_R1018</th>\n",
       "      <th>state_id_R1019</th>\n",
       "      <th>state_id_R1020</th>\n",
       "      <th>state_id_R1021</th>\n",
       "      <th>state_id_R1022</th>\n",
       "      <th>state_id_R1023</th>\n",
       "      <th>state_id_R1024</th>\n",
       "      <th>state_id_R1025</th>\n",
       "      <th>state_id_R1026</th>\n",
       "    </tr>\n",
       "  </thead>\n",
       "  <tbody>\n",
       "    <tr>\n",
       "      <th>0</th>\n",
       "      <td>0</td>\n",
       "      <td>0</td>\n",
       "      <td>1</td>\n",
       "      <td>0</td>\n",
       "      <td>0</td>\n",
       "      <td>0</td>\n",
       "      <td>0</td>\n",
       "      <td>0</td>\n",
       "      <td>0</td>\n",
       "      <td>0</td>\n",
       "      <td>0</td>\n",
       "      <td>0</td>\n",
       "      <td>0</td>\n",
       "      <td>0</td>\n",
       "      <td>0</td>\n",
       "      <td>0</td>\n",
       "    </tr>\n",
       "    <tr>\n",
       "      <th>1</th>\n",
       "      <td>0</td>\n",
       "      <td>0</td>\n",
       "      <td>1</td>\n",
       "      <td>0</td>\n",
       "      <td>0</td>\n",
       "      <td>0</td>\n",
       "      <td>0</td>\n",
       "      <td>0</td>\n",
       "      <td>0</td>\n",
       "      <td>0</td>\n",
       "      <td>0</td>\n",
       "      <td>0</td>\n",
       "      <td>0</td>\n",
       "      <td>0</td>\n",
       "      <td>0</td>\n",
       "      <td>0</td>\n",
       "    </tr>\n",
       "    <tr>\n",
       "      <th>2</th>\n",
       "      <td>0</td>\n",
       "      <td>0</td>\n",
       "      <td>1</td>\n",
       "      <td>0</td>\n",
       "      <td>0</td>\n",
       "      <td>0</td>\n",
       "      <td>0</td>\n",
       "      <td>0</td>\n",
       "      <td>0</td>\n",
       "      <td>0</td>\n",
       "      <td>0</td>\n",
       "      <td>0</td>\n",
       "      <td>0</td>\n",
       "      <td>0</td>\n",
       "      <td>0</td>\n",
       "      <td>0</td>\n",
       "    </tr>\n",
       "    <tr>\n",
       "      <th>3</th>\n",
       "      <td>0</td>\n",
       "      <td>0</td>\n",
       "      <td>1</td>\n",
       "      <td>0</td>\n",
       "      <td>0</td>\n",
       "      <td>0</td>\n",
       "      <td>0</td>\n",
       "      <td>0</td>\n",
       "      <td>0</td>\n",
       "      <td>0</td>\n",
       "      <td>0</td>\n",
       "      <td>0</td>\n",
       "      <td>0</td>\n",
       "      <td>0</td>\n",
       "      <td>0</td>\n",
       "      <td>0</td>\n",
       "    </tr>\n",
       "    <tr>\n",
       "      <th>4</th>\n",
       "      <td>0</td>\n",
       "      <td>0</td>\n",
       "      <td>1</td>\n",
       "      <td>0</td>\n",
       "      <td>0</td>\n",
       "      <td>0</td>\n",
       "      <td>0</td>\n",
       "      <td>0</td>\n",
       "      <td>0</td>\n",
       "      <td>0</td>\n",
       "      <td>0</td>\n",
       "      <td>0</td>\n",
       "      <td>0</td>\n",
       "      <td>0</td>\n",
       "      <td>0</td>\n",
       "      <td>0</td>\n",
       "    </tr>\n",
       "    <tr>\n",
       "      <th>...</th>\n",
       "      <td>...</td>\n",
       "      <td>...</td>\n",
       "      <td>...</td>\n",
       "      <td>...</td>\n",
       "      <td>...</td>\n",
       "      <td>...</td>\n",
       "      <td>...</td>\n",
       "      <td>...</td>\n",
       "      <td>...</td>\n",
       "      <td>...</td>\n",
       "      <td>...</td>\n",
       "      <td>...</td>\n",
       "      <td>...</td>\n",
       "      <td>...</td>\n",
       "      <td>...</td>\n",
       "      <td>...</td>\n",
       "    </tr>\n",
       "    <tr>\n",
       "      <th>2329</th>\n",
       "      <td>1</td>\n",
       "      <td>0</td>\n",
       "      <td>0</td>\n",
       "      <td>0</td>\n",
       "      <td>0</td>\n",
       "      <td>0</td>\n",
       "      <td>0</td>\n",
       "      <td>0</td>\n",
       "      <td>0</td>\n",
       "      <td>0</td>\n",
       "      <td>0</td>\n",
       "      <td>0</td>\n",
       "      <td>0</td>\n",
       "      <td>0</td>\n",
       "      <td>0</td>\n",
       "      <td>0</td>\n",
       "    </tr>\n",
       "    <tr>\n",
       "      <th>2330</th>\n",
       "      <td>0</td>\n",
       "      <td>1</td>\n",
       "      <td>0</td>\n",
       "      <td>0</td>\n",
       "      <td>0</td>\n",
       "      <td>0</td>\n",
       "      <td>0</td>\n",
       "      <td>0</td>\n",
       "      <td>0</td>\n",
       "      <td>0</td>\n",
       "      <td>0</td>\n",
       "      <td>0</td>\n",
       "      <td>0</td>\n",
       "      <td>0</td>\n",
       "      <td>0</td>\n",
       "      <td>0</td>\n",
       "    </tr>\n",
       "    <tr>\n",
       "      <th>2331</th>\n",
       "      <td>0</td>\n",
       "      <td>0</td>\n",
       "      <td>0</td>\n",
       "      <td>0</td>\n",
       "      <td>0</td>\n",
       "      <td>0</td>\n",
       "      <td>0</td>\n",
       "      <td>0</td>\n",
       "      <td>0</td>\n",
       "      <td>0</td>\n",
       "      <td>0</td>\n",
       "      <td>0</td>\n",
       "      <td>0</td>\n",
       "      <td>1</td>\n",
       "      <td>0</td>\n",
       "      <td>0</td>\n",
       "    </tr>\n",
       "    <tr>\n",
       "      <th>2333</th>\n",
       "      <td>0</td>\n",
       "      <td>0</td>\n",
       "      <td>1</td>\n",
       "      <td>0</td>\n",
       "      <td>0</td>\n",
       "      <td>0</td>\n",
       "      <td>0</td>\n",
       "      <td>0</td>\n",
       "      <td>0</td>\n",
       "      <td>0</td>\n",
       "      <td>0</td>\n",
       "      <td>0</td>\n",
       "      <td>0</td>\n",
       "      <td>0</td>\n",
       "      <td>0</td>\n",
       "      <td>0</td>\n",
       "    </tr>\n",
       "    <tr>\n",
       "      <th>2334</th>\n",
       "      <td>0</td>\n",
       "      <td>0</td>\n",
       "      <td>1</td>\n",
       "      <td>0</td>\n",
       "      <td>0</td>\n",
       "      <td>0</td>\n",
       "      <td>0</td>\n",
       "      <td>0</td>\n",
       "      <td>0</td>\n",
       "      <td>0</td>\n",
       "      <td>0</td>\n",
       "      <td>0</td>\n",
       "      <td>0</td>\n",
       "      <td>0</td>\n",
       "      <td>0</td>\n",
       "      <td>0</td>\n",
       "    </tr>\n",
       "  </tbody>\n",
       "</table>\n",
       "<p>2325 rows × 16 columns</p>\n",
       "</div>"
      ],
      "text/plain": [
       "      state_id_R1011  state_id_R1012  state_id_R1013  state_id_R1014  \\\n",
       "0                  0               0               1               0   \n",
       "1                  0               0               1               0   \n",
       "2                  0               0               1               0   \n",
       "3                  0               0               1               0   \n",
       "4                  0               0               1               0   \n",
       "...              ...             ...             ...             ...   \n",
       "2329               1               0               0               0   \n",
       "2330               0               1               0               0   \n",
       "2331               0               0               0               0   \n",
       "2333               0               0               1               0   \n",
       "2334               0               0               1               0   \n",
       "\n",
       "      state_id_R1015  state_id_R1016  state_id_R1017  state_id_R1018  \\\n",
       "0                  0               0               0               0   \n",
       "1                  0               0               0               0   \n",
       "2                  0               0               0               0   \n",
       "3                  0               0               0               0   \n",
       "4                  0               0               0               0   \n",
       "...              ...             ...             ...             ...   \n",
       "2329               0               0               0               0   \n",
       "2330               0               0               0               0   \n",
       "2331               0               0               0               0   \n",
       "2333               0               0               0               0   \n",
       "2334               0               0               0               0   \n",
       "\n",
       "      state_id_R1019  state_id_R1020  state_id_R1021  state_id_R1022  \\\n",
       "0                  0               0               0               0   \n",
       "1                  0               0               0               0   \n",
       "2                  0               0               0               0   \n",
       "3                  0               0               0               0   \n",
       "4                  0               0               0               0   \n",
       "...              ...             ...             ...             ...   \n",
       "2329               0               0               0               0   \n",
       "2330               0               0               0               0   \n",
       "2331               0               0               0               0   \n",
       "2333               0               0               0               0   \n",
       "2334               0               0               0               0   \n",
       "\n",
       "      state_id_R1023  state_id_R1024  state_id_R1025  state_id_R1026  \n",
       "0                  0               0               0               0  \n",
       "1                  0               0               0               0  \n",
       "2                  0               0               0               0  \n",
       "3                  0               0               0               0  \n",
       "4                  0               0               0               0  \n",
       "...              ...             ...             ...             ...  \n",
       "2329               0               0               0               0  \n",
       "2330               0               0               0               0  \n",
       "2331               0               1               0               0  \n",
       "2333               0               0               0               0  \n",
       "2334               0               0               0               0  \n",
       "\n",
       "[2325 rows x 16 columns]"
      ]
     },
     "execution_count": 262,
     "metadata": {},
     "output_type": "execute_result"
    }
   ],
   "source": [
    "dummies = pd.get_dummies(final_df[\"State ID\"],prefix=\"state_id\")\n",
    "dummies"
   ]
  },
  {
   "cell_type": "code",
   "execution_count": 263,
   "id": "8ad04b75",
   "metadata": {},
   "outputs": [],
   "source": [
    "dummy = dummies[['state_id_R1013','state_id_R1011','state_id_R1012','state_id_R1024']]"
   ]
  },
  {
   "cell_type": "code",
   "execution_count": 264,
   "id": "6db4d9c9",
   "metadata": {},
   "outputs": [],
   "source": [
    "final_df = pd.concat([final_df,dummy],axis=1)"
   ]
  },
  {
   "cell_type": "code",
   "execution_count": 265,
   "id": "a59915b3",
   "metadata": {},
   "outputs": [],
   "source": [
    "##6. The variable NumberOfMajorSurgeries also appears to have string values. Apply a suitable method to clean up this variable"
   ]
  },
  {
   "cell_type": "code",
   "execution_count": 266,
   "id": "c1eb54b3",
   "metadata": {},
   "outputs": [
    {
     "data": {
      "text/plain": [
       "No major surgery    1070\n",
       "1                    961\n",
       "2                    272\n",
       "3                     22\n",
       "Name: NumberOfMajorSurgeries, dtype: int64"
      ]
     },
     "execution_count": 266,
     "metadata": {},
     "output_type": "execute_result"
    }
   ],
   "source": [
    "final_df[\"NumberOfMajorSurgeries\"].value_counts()"
   ]
  },
  {
   "cell_type": "code",
   "execution_count": 267,
   "id": "0363cb33",
   "metadata": {},
   "outputs": [
    {
     "data": {
      "text/plain": [
       "array(['1', 'No major surgery', '2', '3'], dtype=object)"
      ]
     },
     "execution_count": 267,
     "metadata": {},
     "output_type": "execute_result"
    }
   ],
   "source": [
    "final_df[\"NumberOfMajorSurgeries\"].unique()"
   ]
  },
  {
   "cell_type": "code",
   "execution_count": 268,
   "id": "fccac1bb",
   "metadata": {},
   "outputs": [],
   "source": [
    "final_df[\"NumberOfMajorSurgeries\"] = final_df[\"NumberOfMajorSurgeries\"].replace(\"No major surgery\",\"0\")"
   ]
  },
  {
   "cell_type": "code",
   "execution_count": 269,
   "id": "d9a32b97",
   "metadata": {},
   "outputs": [],
   "source": [
    "final_df[\"NumberOfMajorSurgeries\"] = final_df[\"NumberOfMajorSurgeries\"].astype(int)"
   ]
  },
  {
   "cell_type": "code",
   "execution_count": 270,
   "id": "5610c9e9",
   "metadata": {},
   "outputs": [
    {
     "data": {
      "text/html": [
       "<div>\n",
       "<style scoped>\n",
       "    .dataframe tbody tr th:only-of-type {\n",
       "        vertical-align: middle;\n",
       "    }\n",
       "\n",
       "    .dataframe tbody tr th {\n",
       "        vertical-align: top;\n",
       "    }\n",
       "\n",
       "    .dataframe thead th {\n",
       "        text-align: right;\n",
       "    }\n",
       "</style>\n",
       "<table border=\"1\" class=\"dataframe\">\n",
       "  <thead>\n",
       "    <tr style=\"text-align: right;\">\n",
       "      <th></th>\n",
       "      <th>Customer ID</th>\n",
       "      <th>year</th>\n",
       "      <th>month</th>\n",
       "      <th>date</th>\n",
       "      <th>children</th>\n",
       "      <th>charges</th>\n",
       "      <th>Hospital tier</th>\n",
       "      <th>City tier</th>\n",
       "      <th>State ID</th>\n",
       "      <th>name</th>\n",
       "      <th>...</th>\n",
       "      <th>HBA1C</th>\n",
       "      <th>Heart Issues</th>\n",
       "      <th>Any Transplants</th>\n",
       "      <th>Cancer history</th>\n",
       "      <th>NumberOfMajorSurgeries</th>\n",
       "      <th>smoker</th>\n",
       "      <th>state_id_R1013</th>\n",
       "      <th>state_id_R1011</th>\n",
       "      <th>state_id_R1012</th>\n",
       "      <th>state_id_R1024</th>\n",
       "    </tr>\n",
       "  </thead>\n",
       "  <tbody>\n",
       "    <tr>\n",
       "      <th>0</th>\n",
       "      <td>Id2335</td>\n",
       "      <td>1992</td>\n",
       "      <td>Jul</td>\n",
       "      <td>9</td>\n",
       "      <td>0</td>\n",
       "      <td>563.84</td>\n",
       "      <td>2</td>\n",
       "      <td>3</td>\n",
       "      <td>R1013</td>\n",
       "      <td>German, Mr.  Aaron K</td>\n",
       "      <td>...</td>\n",
       "      <td>4.51</td>\n",
       "      <td>0</td>\n",
       "      <td>0</td>\n",
       "      <td>0</td>\n",
       "      <td>1</td>\n",
       "      <td>0</td>\n",
       "      <td>1</td>\n",
       "      <td>0</td>\n",
       "      <td>0</td>\n",
       "      <td>0</td>\n",
       "    </tr>\n",
       "    <tr>\n",
       "      <th>1</th>\n",
       "      <td>Id2334</td>\n",
       "      <td>1992</td>\n",
       "      <td>Nov</td>\n",
       "      <td>30</td>\n",
       "      <td>0</td>\n",
       "      <td>570.62</td>\n",
       "      <td>2</td>\n",
       "      <td>1</td>\n",
       "      <td>R1013</td>\n",
       "      <td>Rosendahl, Mr.  Evan P</td>\n",
       "      <td>...</td>\n",
       "      <td>4.39</td>\n",
       "      <td>0</td>\n",
       "      <td>0</td>\n",
       "      <td>0</td>\n",
       "      <td>1</td>\n",
       "      <td>0</td>\n",
       "      <td>1</td>\n",
       "      <td>0</td>\n",
       "      <td>0</td>\n",
       "      <td>0</td>\n",
       "    </tr>\n",
       "    <tr>\n",
       "      <th>2</th>\n",
       "      <td>Id2333</td>\n",
       "      <td>1993</td>\n",
       "      <td>Jun</td>\n",
       "      <td>30</td>\n",
       "      <td>0</td>\n",
       "      <td>600.00</td>\n",
       "      <td>2</td>\n",
       "      <td>1</td>\n",
       "      <td>R1013</td>\n",
       "      <td>Albano, Ms.  Julie</td>\n",
       "      <td>...</td>\n",
       "      <td>6.35</td>\n",
       "      <td>0</td>\n",
       "      <td>0</td>\n",
       "      <td>1</td>\n",
       "      <td>1</td>\n",
       "      <td>0</td>\n",
       "      <td>1</td>\n",
       "      <td>0</td>\n",
       "      <td>0</td>\n",
       "      <td>0</td>\n",
       "    </tr>\n",
       "    <tr>\n",
       "      <th>3</th>\n",
       "      <td>Id2332</td>\n",
       "      <td>1992</td>\n",
       "      <td>Sep</td>\n",
       "      <td>13</td>\n",
       "      <td>0</td>\n",
       "      <td>604.54</td>\n",
       "      <td>3</td>\n",
       "      <td>3</td>\n",
       "      <td>R1013</td>\n",
       "      <td>Riveros Gonzalez, Mr.  Juan D. Sr.</td>\n",
       "      <td>...</td>\n",
       "      <td>6.28</td>\n",
       "      <td>0</td>\n",
       "      <td>0</td>\n",
       "      <td>0</td>\n",
       "      <td>1</td>\n",
       "      <td>0</td>\n",
       "      <td>1</td>\n",
       "      <td>0</td>\n",
       "      <td>0</td>\n",
       "      <td>0</td>\n",
       "    </tr>\n",
       "    <tr>\n",
       "      <th>4</th>\n",
       "      <td>Id2331</td>\n",
       "      <td>1998</td>\n",
       "      <td>Jul</td>\n",
       "      <td>27</td>\n",
       "      <td>0</td>\n",
       "      <td>637.26</td>\n",
       "      <td>3</td>\n",
       "      <td>3</td>\n",
       "      <td>R1013</td>\n",
       "      <td>Brietzke, Mr.  Jordan</td>\n",
       "      <td>...</td>\n",
       "      <td>5.57</td>\n",
       "      <td>0</td>\n",
       "      <td>0</td>\n",
       "      <td>0</td>\n",
       "      <td>1</td>\n",
       "      <td>0</td>\n",
       "      <td>1</td>\n",
       "      <td>0</td>\n",
       "      <td>0</td>\n",
       "      <td>0</td>\n",
       "    </tr>\n",
       "  </tbody>\n",
       "</table>\n",
       "<p>5 rows × 21 columns</p>\n",
       "</div>"
      ],
      "text/plain": [
       "  Customer ID  year month  date  children  charges  Hospital tier  City tier  \\\n",
       "0      Id2335  1992   Jul     9         0   563.84              2          3   \n",
       "1      Id2334  1992   Nov    30         0   570.62              2          1   \n",
       "2      Id2333  1993   Jun    30         0   600.00              2          1   \n",
       "3      Id2332  1992   Sep    13         0   604.54              3          3   \n",
       "4      Id2331  1998   Jul    27         0   637.26              3          3   \n",
       "\n",
       "  State ID                                name  ...  HBA1C  Heart Issues  \\\n",
       "0    R1013                German, Mr.  Aaron K  ...   4.51             0   \n",
       "1    R1013              Rosendahl, Mr.  Evan P  ...   4.39             0   \n",
       "2    R1013                  Albano, Ms.  Julie  ...   6.35             0   \n",
       "3    R1013  Riveros Gonzalez, Mr.  Juan D. Sr.  ...   6.28             0   \n",
       "4    R1013               Brietzke, Mr.  Jordan  ...   5.57             0   \n",
       "\n",
       "   Any Transplants  Cancer history  NumberOfMajorSurgeries  smoker  \\\n",
       "0                0               0                       1       0   \n",
       "1                0               0                       1       0   \n",
       "2                0               1                       1       0   \n",
       "3                0               0                       1       0   \n",
       "4                0               0                       1       0   \n",
       "\n",
       "   state_id_R1013  state_id_R1011  state_id_R1012  state_id_R1024  \n",
       "0               1               0               0               0  \n",
       "1               1               0               0               0  \n",
       "2               1               0               0               0  \n",
       "3               1               0               0               0  \n",
       "4               1               0               0               0  \n",
       "\n",
       "[5 rows x 21 columns]"
      ]
     },
     "execution_count": 270,
     "metadata": {},
     "output_type": "execute_result"
    }
   ],
   "source": [
    "final_df.head()"
   ]
  },
  {
   "cell_type": "markdown",
   "id": "7bbfdf62",
   "metadata": {},
   "source": [
    "# The gender of the patient may be an important factor in determining the cost of hospitalization. The salutations in a beneficiary's name can be used to determine their \n",
    "gender. Make a new field for the beneficiary's gender."
   ]
  },
  {
   "cell_type": "code",
   "execution_count": 271,
   "id": "7b414a09",
   "metadata": {},
   "outputs": [],
   "source": [
    "# male =1 female =0\n",
    "def gender(val):\n",
    " if \"Ms.\" in val:\n",
    "    return 0\n",
    " else:\n",
    "    return 1"
   ]
  },
  {
   "cell_type": "code",
   "execution_count": 272,
   "id": "3517f899",
   "metadata": {},
   "outputs": [],
   "source": [
    "final_df[\"gender\"] = final_df[\"name\"].map(gender)"
   ]
  },
  {
   "cell_type": "code",
   "execution_count": 273,
   "id": "c1488bd6",
   "metadata": {},
   "outputs": [
    {
     "data": {
      "text/html": [
       "<div>\n",
       "<style scoped>\n",
       "    .dataframe tbody tr th:only-of-type {\n",
       "        vertical-align: middle;\n",
       "    }\n",
       "\n",
       "    .dataframe tbody tr th {\n",
       "        vertical-align: top;\n",
       "    }\n",
       "\n",
       "    .dataframe thead th {\n",
       "        text-align: right;\n",
       "    }\n",
       "</style>\n",
       "<table border=\"1\" class=\"dataframe\">\n",
       "  <thead>\n",
       "    <tr style=\"text-align: right;\">\n",
       "      <th></th>\n",
       "      <th>Customer ID</th>\n",
       "      <th>year</th>\n",
       "      <th>month</th>\n",
       "      <th>date</th>\n",
       "      <th>children</th>\n",
       "      <th>charges</th>\n",
       "      <th>Hospital tier</th>\n",
       "      <th>City tier</th>\n",
       "      <th>State ID</th>\n",
       "      <th>name</th>\n",
       "      <th>...</th>\n",
       "      <th>Heart Issues</th>\n",
       "      <th>Any Transplants</th>\n",
       "      <th>Cancer history</th>\n",
       "      <th>NumberOfMajorSurgeries</th>\n",
       "      <th>smoker</th>\n",
       "      <th>state_id_R1013</th>\n",
       "      <th>state_id_R1011</th>\n",
       "      <th>state_id_R1012</th>\n",
       "      <th>state_id_R1024</th>\n",
       "      <th>gender</th>\n",
       "    </tr>\n",
       "  </thead>\n",
       "  <tbody>\n",
       "    <tr>\n",
       "      <th>0</th>\n",
       "      <td>Id2335</td>\n",
       "      <td>1992</td>\n",
       "      <td>Jul</td>\n",
       "      <td>9</td>\n",
       "      <td>0</td>\n",
       "      <td>563.84</td>\n",
       "      <td>2</td>\n",
       "      <td>3</td>\n",
       "      <td>R1013</td>\n",
       "      <td>German, Mr.  Aaron K</td>\n",
       "      <td>...</td>\n",
       "      <td>0</td>\n",
       "      <td>0</td>\n",
       "      <td>0</td>\n",
       "      <td>1</td>\n",
       "      <td>0</td>\n",
       "      <td>1</td>\n",
       "      <td>0</td>\n",
       "      <td>0</td>\n",
       "      <td>0</td>\n",
       "      <td>1</td>\n",
       "    </tr>\n",
       "    <tr>\n",
       "      <th>1</th>\n",
       "      <td>Id2334</td>\n",
       "      <td>1992</td>\n",
       "      <td>Nov</td>\n",
       "      <td>30</td>\n",
       "      <td>0</td>\n",
       "      <td>570.62</td>\n",
       "      <td>2</td>\n",
       "      <td>1</td>\n",
       "      <td>R1013</td>\n",
       "      <td>Rosendahl, Mr.  Evan P</td>\n",
       "      <td>...</td>\n",
       "      <td>0</td>\n",
       "      <td>0</td>\n",
       "      <td>0</td>\n",
       "      <td>1</td>\n",
       "      <td>0</td>\n",
       "      <td>1</td>\n",
       "      <td>0</td>\n",
       "      <td>0</td>\n",
       "      <td>0</td>\n",
       "      <td>1</td>\n",
       "    </tr>\n",
       "    <tr>\n",
       "      <th>2</th>\n",
       "      <td>Id2333</td>\n",
       "      <td>1993</td>\n",
       "      <td>Jun</td>\n",
       "      <td>30</td>\n",
       "      <td>0</td>\n",
       "      <td>600.00</td>\n",
       "      <td>2</td>\n",
       "      <td>1</td>\n",
       "      <td>R1013</td>\n",
       "      <td>Albano, Ms.  Julie</td>\n",
       "      <td>...</td>\n",
       "      <td>0</td>\n",
       "      <td>0</td>\n",
       "      <td>1</td>\n",
       "      <td>1</td>\n",
       "      <td>0</td>\n",
       "      <td>1</td>\n",
       "      <td>0</td>\n",
       "      <td>0</td>\n",
       "      <td>0</td>\n",
       "      <td>0</td>\n",
       "    </tr>\n",
       "    <tr>\n",
       "      <th>3</th>\n",
       "      <td>Id2332</td>\n",
       "      <td>1992</td>\n",
       "      <td>Sep</td>\n",
       "      <td>13</td>\n",
       "      <td>0</td>\n",
       "      <td>604.54</td>\n",
       "      <td>3</td>\n",
       "      <td>3</td>\n",
       "      <td>R1013</td>\n",
       "      <td>Riveros Gonzalez, Mr.  Juan D. Sr.</td>\n",
       "      <td>...</td>\n",
       "      <td>0</td>\n",
       "      <td>0</td>\n",
       "      <td>0</td>\n",
       "      <td>1</td>\n",
       "      <td>0</td>\n",
       "      <td>1</td>\n",
       "      <td>0</td>\n",
       "      <td>0</td>\n",
       "      <td>0</td>\n",
       "      <td>1</td>\n",
       "    </tr>\n",
       "    <tr>\n",
       "      <th>4</th>\n",
       "      <td>Id2331</td>\n",
       "      <td>1998</td>\n",
       "      <td>Jul</td>\n",
       "      <td>27</td>\n",
       "      <td>0</td>\n",
       "      <td>637.26</td>\n",
       "      <td>3</td>\n",
       "      <td>3</td>\n",
       "      <td>R1013</td>\n",
       "      <td>Brietzke, Mr.  Jordan</td>\n",
       "      <td>...</td>\n",
       "      <td>0</td>\n",
       "      <td>0</td>\n",
       "      <td>0</td>\n",
       "      <td>1</td>\n",
       "      <td>0</td>\n",
       "      <td>1</td>\n",
       "      <td>0</td>\n",
       "      <td>0</td>\n",
       "      <td>0</td>\n",
       "      <td>1</td>\n",
       "    </tr>\n",
       "  </tbody>\n",
       "</table>\n",
       "<p>5 rows × 22 columns</p>\n",
       "</div>"
      ],
      "text/plain": [
       "  Customer ID  year month  date  children  charges  Hospital tier  City tier  \\\n",
       "0      Id2335  1992   Jul     9         0   563.84              2          3   \n",
       "1      Id2334  1992   Nov    30         0   570.62              2          1   \n",
       "2      Id2333  1993   Jun    30         0   600.00              2          1   \n",
       "3      Id2332  1992   Sep    13         0   604.54              3          3   \n",
       "4      Id2331  1998   Jul    27         0   637.26              3          3   \n",
       "\n",
       "  State ID                                name  ...  Heart Issues  \\\n",
       "0    R1013                German, Mr.  Aaron K  ...             0   \n",
       "1    R1013              Rosendahl, Mr.  Evan P  ...             0   \n",
       "2    R1013                  Albano, Ms.  Julie  ...             0   \n",
       "3    R1013  Riveros Gonzalez, Mr.  Juan D. Sr.  ...             0   \n",
       "4    R1013               Brietzke, Mr.  Jordan  ...             0   \n",
       "\n",
       "   Any Transplants  Cancer history  NumberOfMajorSurgeries  smoker  \\\n",
       "0                0               0                       1       0   \n",
       "1                0               0                       1       0   \n",
       "2                0               1                       1       0   \n",
       "3                0               0                       1       0   \n",
       "4                0               0                       1       0   \n",
       "\n",
       "   state_id_R1013  state_id_R1011  state_id_R1012  state_id_R1024  gender  \n",
       "0               1               0               0               0       1  \n",
       "1               1               0               0               0       1  \n",
       "2               1               0               0               0       0  \n",
       "3               1               0               0               0       1  \n",
       "4               1               0               0               0       1  \n",
       "\n",
       "[5 rows x 22 columns]"
      ]
     },
     "execution_count": 273,
     "metadata": {},
     "output_type": "execute_result"
    }
   ],
   "source": [
    "final_df.head()"
   ]
  },
  {
   "cell_type": "markdown",
   "id": "465fb984",
   "metadata": {},
   "source": [
    "# You should also visualize the distribution of costs using a histogram, box and whisker plot, \n",
    "and swarm plot.# "
   ]
  },
  {
   "cell_type": "code",
   "execution_count": 274,
   "id": "d212d87d",
   "metadata": {},
   "outputs": [
    {
     "data": {
      "image/png": "[encoded data removed]",
      "text/plain": [
       "<Figure size 864x360 with 1 Axes>"
      ]
     },
     "metadata": {
      "needs_background": "light"
     },
     "output_type": "display_data"
    }
   ],
   "source": [
    "plt.figure(figsize=(12,5))\n",
    "sns.histplot(final_df[\"charges\"])\n",
    "plt.show()"
   ]
  },
  {
   "cell_type": "code",
   "execution_count": 275,
   "id": "a819f520",
   "metadata": {},
   "outputs": [
    {
     "data": {
      "image/png": "[encoded data removed]",
      "text/plain": [
       "<Figure size 432x288 with 1 Axes>"
      ]
     },
     "metadata": {
      "needs_background": "light"
     },
     "output_type": "display_data"
    }
   ],
   "source": [
    "plt.boxplot(final_df[\"charges\"])\n",
    "plt.show()"
   ]
  },
  {
   "cell_type": "code",
   "execution_count": 276,
   "id": "3fec111d",
   "metadata": {},
   "outputs": [
    {
     "data": {
      "image/png": "[encoded data removed]",
      "text/plain": [
       "<Figure size 864x360 with 1 Axes>"
      ]
     },
     "metadata": {
      "needs_background": "light"
     },
     "output_type": "display_data"
    }
   ],
   "source": [
    "plt.figure(figsize=(12,5))\n",
    "sns.swarmplot(x='year',y='charges',hue='gender',data=final_df)\n",
    "plt.xticks(rotation=90)\n",
    "plt.show()"
   ]
  },
  {
   "cell_type": "markdown",
   "id": "7af9783c",
   "metadata": {},
   "source": [
    "# State how the distribution is different across gender and tiers of hospitals"
   ]
  },
  {
   "cell_type": "code",
   "execution_count": 277,
   "id": "4000e1d5",
   "metadata": {},
   "outputs": [
    {
     "data": {
      "image/png": "[encoded data removed]",
      "text/plain": [
       "<Figure size 432x288 with 1 Axes>"
      ]
     },
     "metadata": {
      "needs_background": "light"
     },
     "output_type": "display_data"
    }
   ],
   "source": [
    "sns.countplot(data=final_df,x=\"Hospital tier\", hue = \"gender\")\n",
    "plt.show()"
   ]
  },
  {
   "cell_type": "code",
   "execution_count": 278,
   "id": "97bffce9",
   "metadata": {},
   "outputs": [],
   "source": [
    "#From the above representation it is clear that the number of female in the tier 1 and 3 is half of the male justbin tier 2 hospital female is little bit more as compare to male.\n"
   ]
  },
  {
   "cell_type": "markdown",
   "id": "9b958d4f",
   "metadata": {},
   "source": [
    "# . Create a radar chart to showcase the median hospitalization cost for each tier of hospitals# "
   ]
  },
  {
   "cell_type": "code",
   "execution_count": 279,
   "id": "91e5ba17",
   "metadata": {},
   "outputs": [
    {
     "name": "stdout",
     "output_type": "stream",
     "text": [
      "median cost of tier 1 hospitals: 32097.434999999998\n",
      "median cost of tier 2 hospitals: 7168.76\n",
      "median cost of tier 3 hospitals: 10676.83\n"
     ]
    }
   ],
   "source": [
    "print(\"median cost of tier 1 hospitals:\", final_df[final_df[\"Hospital tier\"]==1].charges.median())\n",
    "print(\"median cost of tier 2 hospitals:\", final_df[final_df[\"Hospital tier\"]==2].charges.median())\n",
    "print(\"median cost of tier 3 hospitals:\", final_df[final_df[\"Hospital tier\"]==3].charges.median())"
   ]
  },
  {
   "cell_type": "code",
   "execution_count": 280,
   "id": "c8b74929",
   "metadata": {},
   "outputs": [
    {
     "data": {
      "text/html": [
       "<div>\n",
       "<style scoped>\n",
       "    .dataframe tbody tr th:only-of-type {\n",
       "        vertical-align: middle;\n",
       "    }\n",
       "\n",
       "    .dataframe tbody tr th {\n",
       "        vertical-align: top;\n",
       "    }\n",
       "\n",
       "    .dataframe thead th {\n",
       "        text-align: right;\n",
       "    }\n",
       "</style>\n",
       "<table border=\"1\" class=\"dataframe\">\n",
       "  <thead>\n",
       "    <tr style=\"text-align: right;\">\n",
       "      <th></th>\n",
       "      <th>r</th>\n",
       "      <th>theta</th>\n",
       "    </tr>\n",
       "  </thead>\n",
       "  <tbody>\n",
       "    <tr>\n",
       "      <th>0</th>\n",
       "      <td>32097.43</td>\n",
       "      <td>tier 1 hospital</td>\n",
       "    </tr>\n",
       "    <tr>\n",
       "      <th>1</th>\n",
       "      <td>7168.76</td>\n",
       "      <td>tier 2 hospital</td>\n",
       "    </tr>\n",
       "    <tr>\n",
       "      <th>2</th>\n",
       "      <td>10676.83</td>\n",
       "      <td>tier 3 hospital</td>\n",
       "    </tr>\n",
       "  </tbody>\n",
       "</table>\n",
       "</div>"
      ],
      "text/plain": [
       "          r            theta\n",
       "0  32097.43  tier 1 hospital\n",
       "1   7168.76  tier 2 hospital\n",
       "2  10676.83  tier 3 hospital"
      ]
     },
     "execution_count": 280,
     "metadata": {},
     "output_type": "execute_result"
    }
   ],
   "source": [
    "df = pd.DataFrame(dict(r=[32097.43, 7168.76, 10676.83],theta=['tier 1 hospital','tier 2 hospital','tier 3 hospital']))\n",
    "df                       "
   ]
  },
  {
   "cell_type": "code",
   "execution_count": 281,
   "id": "a07a6f09",
   "metadata": {},
   "outputs": [
    {
     "data": {
      "application/vnd.plotly.v1+json": {
       "config": {
        "plotlyServerURL": "https://plot.ly"
       },
       "data": [
        {
         "fill": "toself",
         "hovertemplate": "r=%{r}<br>theta=%{theta}<extra></extra>",
         "legendgroup": "",
         "line": {
          "color": "#636efa",
          "dash": "solid"
         },
         "marker": {
          "symbol": "circle"
         },
         "mode": "lines",
         "name": "",
         "r": [
          32097.43,
          7168.76,
          10676.83,
          32097.43
         ],
         "showlegend": false,
         "subplot": "polar",
         "theta": [
          "tier 1 hospital",
          "tier 2 hospital",
          "tier 3 hospital",
          "tier 1 hospital"
         ],
         "type": "scatterpolar"
        }
       ],
       "layout": {
        "legend": {
         "tracegroupgap": 0
        },
        "margin": {
         "t": 60
        },
        "polar": {
         "angularaxis": {
          "direction": "clockwise",
          "rotation": 90
         },
         "domain": {
          "x": [
           0,
           1
          ],
          "y": [
           0,
           1
          ]
         }
        },
        "template": {
         "data": {
          "bar": [
           {
            "error_x": {
             "color": "#2a3f5f"
            },
            "error_y": {
             "color": "#2a3f5f"
            },
            "marker": {
             "line": {
              "color": "#E5ECF6",
              "width": 0.5
             },
             "pattern": {
              "fillmode": "overlay",
              "size": 10,
              "solidity": 0.2
             }
            },
            "type": "bar"
           }
          ],
          "barpolar": [
           {
            "marker": {
             "line": {
              "color": "#E5ECF6",
              "width": 0.5
             },
             "pattern": {
              "fillmode": "overlay",
              "size": 10,
              "solidity": 0.2
             }
            },
            "type": "barpolar"
           }
          ],
          "carpet": [
           {
            "aaxis": {
             "endlinecolor": "#2a3f5f",
             "gridcolor": "white",
             "linecolor": "white",
             "minorgridcolor": "white",
             "startlinecolor": "#2a3f5f"
            },
            "baxis": {
             "endlinecolor": "#2a3f5f",
             "gridcolor": "white",
             "linecolor": "white",
             "minorgridcolor": "white",
             "startlinecolor": "#2a3f5f"
            },
            "type": "carpet"
           }
          ],
          "choropleth": [
           {
            "colorbar": {
             "outlinewidth": 0,
             "ticks": ""
            },
            "type": "choropleth"
           }
          ],
          "contour": [
           {
            "colorbar": {
             "outlinewidth": 0,
             "ticks": ""
            },
            "colorscale": [
             [
              0,
              "#0d0887"
             ],
             [
              0.1111111111111111,
              "#46039f"
             ],
             [
              0.2222222222222222,
              "#7201a8"
             ],
             [
              0.3333333333333333,
              "#9c179e"
             ],
             [
              0.4444444444444444,
              "#bd3786"
             ],
             [
              0.5555555555555556,
              "#d8576b"
             ],
             [
              0.6666666666666666,
              "#ed7953"
             ],
             [
              0.7777777777777778,
              "#fb9f3a"
             ],
             [
              0.8888888888888888,
              "#fdca26"
             ],
             [
              1,
              "#f0f921"
             ]
            ],
            "type": "contour"
           }
          ],
          "contourcarpet": [
           {
            "colorbar": {
             "outlinewidth": 0,
             "ticks": ""
            },
            "type": "contourcarpet"
           }
          ],
          "heatmap": [
           {
            "colorbar": {
             "outlinewidth": 0,
             "ticks": ""
            },
            "colorscale": [
             [
              0,
              "#0d0887"
             ],
             [
              0.1111111111111111,
              "#46039f"
             ],
             [
              0.2222222222222222,
              "#7201a8"
             ],
             [
              0.3333333333333333,
              "#9c179e"
             ],
             [
              0.4444444444444444,
              "#bd3786"
             ],
             [
              0.5555555555555556,
              "#d8576b"
             ],
             [
              0.6666666666666666,
              "#ed7953"
             ],
             [
              0.7777777777777778,
              "#fb9f3a"
             ],
             [
              0.8888888888888888,
              "#fdca26"
             ],
             [
              1,
              "#f0f921"
             ]
            ],
            "type": "heatmap"
           }
          ],
          "heatmapgl": [
           {
            "colorbar": {
             "outlinewidth": 0,
             "ticks": ""
            },
            "colorscale": [
             [
              0,
              "#0d0887"
             ],
             [
              0.1111111111111111,
              "#46039f"
             ],
             [
              0.2222222222222222,
              "#7201a8"
             ],
             [
              0.3333333333333333,
              "#9c179e"
             ],
             [
              0.4444444444444444,
              "#bd3786"
             ],
             [
              0.5555555555555556,
              "#d8576b"
             ],
             [
              0.6666666666666666,
              "#ed7953"
             ],
             [
              0.7777777777777778,
              "#fb9f3a"
             ],
             [
              0.8888888888888888,
              "#fdca26"
             ],
             [
              1,
              "#f0f921"
             ]
            ],
            "type": "heatmapgl"
           }
          ],
          "histogram": [
           {
            "marker": {
             "pattern": {
              "fillmode": "overlay",
              "size": 10,
              "solidity": 0.2
             }
            },
            "type": "histogram"
           }
          ],
          "histogram2d": [
           {
            "colorbar": {
             "outlinewidth": 0,
             "ticks": ""
            },
            "colorscale": [
             [
              0,
              "#0d0887"
             ],
             [
              0.1111111111111111,
              "#46039f"
             ],
             [
              0.2222222222222222,
              "#7201a8"
             ],
             [
              0.3333333333333333,
              "#9c179e"
             ],
             [
              0.4444444444444444,
              "#bd3786"
             ],
             [
              0.5555555555555556,
              "#d8576b"
             ],
             [
              0.6666666666666666,
              "#ed7953"
             ],
             [
              0.7777777777777778,
              "#fb9f3a"
             ],
             [
              0.8888888888888888,
              "#fdca26"
             ],
             [
              1,
              "#f0f921"
             ]
            ],
            "type": "histogram2d"
           }
          ],
          "histogram2dcontour": [
           {
            "colorbar": {
             "outlinewidth": 0,
             "ticks": ""
            },
            "colorscale": [
             [
              0,
              "#0d0887"
             ],
             [
              0.1111111111111111,
              "#46039f"
             ],
             [
              0.2222222222222222,
              "#7201a8"
             ],
             [
              0.3333333333333333,
              "#9c179e"
             ],
             [
              0.4444444444444444,
              "#bd3786"
             ],
             [
              0.5555555555555556,
              "#d8576b"
             ],
             [
              0.6666666666666666,
              "#ed7953"
             ],
             [
              0.7777777777777778,
              "#fb9f3a"
             ],
             [
              0.8888888888888888,
              "#fdca26"
             ],
             [
              1,
              "#f0f921"
             ]
            ],
            "type": "histogram2dcontour"
           }
          ],
          "mesh3d": [
           {
            "colorbar": {
             "outlinewidth": 0,
             "ticks": ""
            },
            "type": "mesh3d"
           }
          ],
          "parcoords": [
           {
            "line": {
             "colorbar": {
              "outlinewidth": 0,
              "ticks": ""
             }
            },
            "type": "parcoords"
           }
          ],
          "pie": [
           {
            "automargin": true,
            "type": "pie"
           }
          ],
          "scatter": [
           {
            "marker": {
             "colorbar": {
              "outlinewidth": 0,
              "ticks": ""
             }
            },
            "type": "scatter"
           }
          ],
          "scatter3d": [
           {
            "line": {
             "colorbar": {
              "outlinewidth": 0,
              "ticks": ""
             }
            },
            "marker": {
             "colorbar": {
              "outlinewidth": 0,
              "ticks": ""
             }
            },
            "type": "scatter3d"
           }
          ],
          "scattercarpet": [
           {
            "marker": {
             "colorbar": {
              "outlinewidth": 0,
              "ticks": ""
             }
            },
            "type": "scattercarpet"
           }
          ],
          "scattergeo": [
           {
            "marker": {
             "colorbar": {
              "outlinewidth": 0,
              "ticks": ""
             }
            },
            "type": "scattergeo"
           }
          ],
          "scattergl": [
           {
            "marker": {
             "colorbar": {
              "outlinewidth": 0,
              "ticks": ""
             }
            },
            "type": "scattergl"
           }
          ],
          "scattermapbox": [
           {
            "marker": {
             "colorbar": {
              "outlinewidth": 0,
              "ticks": ""
             }
            },
            "type": "scattermapbox"
           }
          ],
          "scatterpolar": [
           {
            "marker": {
             "colorbar": {
              "outlinewidth": 0,
              "ticks": ""
             }
            },
            "type": "scatterpolar"
           }
          ],
          "scatterpolargl": [
           {
            "marker": {
             "colorbar": {
              "outlinewidth": 0,
              "ticks": ""
             }
            },
            "type": "scatterpolargl"
           }
          ],
          "scatterternary": [
           {
            "marker": {
             "colorbar": {
              "outlinewidth": 0,
              "ticks": ""
             }
            },
            "type": "scatterternary"
           }
          ],
          "surface": [
           {
            "colorbar": {
             "outlinewidth": 0,
             "ticks": ""
            },
            "colorscale": [
             [
              0,
              "#0d0887"
             ],
             [
              0.1111111111111111,
              "#46039f"
             ],
             [
              0.2222222222222222,
              "#7201a8"
             ],
             [
              0.3333333333333333,
              "#9c179e"
             ],
             [
              0.4444444444444444,
              "#bd3786"
             ],
             [
              0.5555555555555556,
              "#d8576b"
             ],
             [
              0.6666666666666666,
              "#ed7953"
             ],
             [
              0.7777777777777778,
              "#fb9f3a"
             ],
             [
              0.8888888888888888,
              "#fdca26"
             ],
             [
              1,
              "#f0f921"
             ]
            ],
            "type": "surface"
           }
          ],
          "table": [
           {
            "cells": {
             "fill": {
              "color": "#EBF0F8"
             },
             "line": {
              "color": "white"
             }
            },
            "header": {
             "fill": {
              "color": "#C8D4E3"
             },
             "line": {
              "color": "white"
             }
            },
            "type": "table"
           }
          ]
         },
         "layout": {
          "annotationdefaults": {
           "arrowcolor": "#2a3f5f",
           "arrowhead": 0,
           "arrowwidth": 1
          },
          "autotypenumbers": "strict",
          "coloraxis": {
           "colorbar": {
            "outlinewidth": 0,
            "ticks": ""
           }
          },
          "colorscale": {
           "diverging": [
            [
             0,
             "#8e0152"
            ],
            [
             0.1,
             "#c51b7d"
            ],
            [
             0.2,
             "#de77ae"
            ],
            [
             0.3,
             "#f1b6da"
            ],
            [
             0.4,
             "#fde0ef"
            ],
            [
             0.5,
             "#f7f7f7"
            ],
            [
             0.6,
             "#e6f5d0"
            ],
            [
             0.7,
             "#b8e186"
            ],
            [
             0.8,
             "#7fbc41"
            ],
            [
             0.9,
             "#4d9221"
            ],
            [
             1,
             "#276419"
            ]
           ],
           "sequential": [
            [
             0,
             "#0d0887"
            ],
            [
             0.1111111111111111,
             "#46039f"
            ],
            [
             0.2222222222222222,
             "#7201a8"
            ],
            [
             0.3333333333333333,
             "#9c179e"
            ],
            [
             0.4444444444444444,
             "#bd3786"
            ],
            [
             0.5555555555555556,
             "#d8576b"
            ],
            [
             0.6666666666666666,
             "#ed7953"
            ],
            [
             0.7777777777777778,
             "#fb9f3a"
            ],
            [
             0.8888888888888888,
             "#fdca26"
            ],
            [
             1,
             "#f0f921"
            ]
           ],
           "sequentialminus": [
            [
             0,
             "#0d0887"
            ],
            [
             0.1111111111111111,
             "#46039f"
            ],
            [
             0.2222222222222222,
             "#7201a8"
            ],
            [
             0.3333333333333333,
             "#9c179e"
            ],
            [
             0.4444444444444444,
             "#bd3786"
            ],
            [
             0.5555555555555556,
             "#d8576b"
            ],
            [
             0.6666666666666666,
             "#ed7953"
            ],
            [
             0.7777777777777778,
             "#fb9f3a"
            ],
            [
             0.8888888888888888,
             "#fdca26"
            ],
            [
             1,
             "#f0f921"
            ]
           ]
          },
          "colorway": [
           "#636efa",
           "#EF553B",
           "#00cc96",
           "#ab63fa",
           "#FFA15A",
           "#19d3f3",
           "#FF6692",
           "#B6E880",
           "#FF97FF",
           "#FECB52"
          ],
          "font": {
           "color": "#2a3f5f"
          },
          "geo": {
           "bgcolor": "white",
           "lakecolor": "white",
           "landcolor": "#E5ECF6",
           "showlakes": true,
           "showland": true,
           "subunitcolor": "white"
          },
          "hoverlabel": {
           "align": "left"
          },
          "hovermode": "closest",
          "mapbox": {
           "style": "light"
          },
          "paper_bgcolor": "white",
          "plot_bgcolor": "#E5ECF6",
          "polar": {
           "angularaxis": {
            "gridcolor": "white",
            "linecolor": "white",
            "ticks": ""
           },
           "bgcolor": "#E5ECF6",
           "radialaxis": {
            "gridcolor": "white",
            "linecolor": "white",
            "ticks": ""
           }
          },
          "scene": {
           "xaxis": {
            "backgroundcolor": "#E5ECF6",
            "gridcolor": "white",
            "gridwidth": 2,
            "linecolor": "white",
            "showbackground": true,
            "ticks": "",
            "zerolinecolor": "white"
           },
           "yaxis": {
            "backgroundcolor": "#E5ECF6",
            "gridcolor": "white",
            "gridwidth": 2,
            "linecolor": "white",
            "showbackground": true,
            "ticks": "",
            "zerolinecolor": "white"
           },
           "zaxis": {
            "backgroundcolor": "#E5ECF6",
            "gridcolor": "white",
            "gridwidth": 2,
            "linecolor": "white",
            "showbackground": true,
            "ticks": "",
            "zerolinecolor": "white"
           }
          },
          "shapedefaults": {
           "line": {
            "color": "#2a3f5f"
           }
          },
          "ternary": {
           "aaxis": {
            "gridcolor": "white",
            "linecolor": "white",
            "ticks": ""
           },
           "baxis": {
            "gridcolor": "white",
            "linecolor": "white",
            "ticks": ""
           },
           "bgcolor": "#E5ECF6",
           "caxis": {
            "gridcolor": "white",
            "linecolor": "white",
            "ticks": ""
           }
          },
          "title": {
           "x": 0.05
          },
          "xaxis": {
           "automargin": true,
           "gridcolor": "white",
           "linecolor": "white",
           "ticks": "",
           "title": {
            "standoff": 15
           },
           "zerolinecolor": "white",
           "zerolinewidth": 2
          },
          "yaxis": {
           "automargin": true,
           "gridcolor": "white",
           "linecolor": "white",
           "ticks": "",
           "title": {
            "standoff": 15
           },
           "zerolinecolor": "white",
           "zerolinewidth": 2
          }
         }
        }
       }
      },
      "text/html": [
       "<div>                            <div id=\"009f5e75-5d23-4f8d-bfef-9ac3ce92eb41\" class=\"plotly-graph-div\" style=\"height:525px; width:100%;\"></div>            <script type=\"text/javascript\">                require([\"plotly\"], function(Plotly) {                    window.PLOTLYENV=window.PLOTLYENV || {};                                    if (document.getElementById(\"009f5e75-5d23-4f8d-bfef-9ac3ce92eb41\")) {                    Plotly.newPlot(                        \"009f5e75-5d23-4f8d-bfef-9ac3ce92eb41\",                        [{\"hovertemplate\":\"r=%{r}<br>theta=%{theta}<extra></extra>\",\"legendgroup\":\"\",\"line\":{\"color\":\"#636efa\",\"dash\":\"solid\"},\"marker\":{\"symbol\":\"circle\"},\"mode\":\"lines\",\"name\":\"\",\"r\":[32097.43,7168.76,10676.83,32097.43],\"showlegend\":false,\"subplot\":\"polar\",\"theta\":[\"tier 1 hospital\",\"tier 2 hospital\",\"tier 3 hospital\",\"tier 1 hospital\"],\"type\":\"scatterpolar\",\"fill\":\"toself\"}],                        {\"template\":{\"data\":{\"bar\":[{\"error_x\":{\"color\":\"#2a3f5f\"},\"error_y\":{\"color\":\"#2a3f5f\"},\"marker\":{\"line\":{\"color\":\"#E5ECF6\",\"width\":0.5},\"pattern\":{\"fillmode\":\"overlay\",\"size\":10,\"solidity\":0.2}},\"type\":\"bar\"}],\"barpolar\":[{\"marker\":{\"line\":{\"color\":\"#E5ECF6\",\"width\":0.5},\"pattern\":{\"fillmode\":\"overlay\",\"size\":10,\"solidity\":0.2}},\"type\":\"barpolar\"}],\"carpet\":[{\"aaxis\":{\"endlinecolor\":\"#2a3f5f\",\"gridcolor\":\"white\",\"linecolor\":\"white\",\"minorgridcolor\":\"white\",\"startlinecolor\":\"#2a3f5f\"},\"baxis\":{\"endlinecolor\":\"#2a3f5f\",\"gridcolor\":\"white\",\"linecolor\":\"white\",\"minorgridcolor\":\"white\",\"startlinecolor\":\"#2a3f5f\"},\"type\":\"carpet\"}],\"choropleth\":[{\"colorbar\":{\"outlinewidth\":0,\"ticks\":\"\"},\"type\":\"choropleth\"}],\"contour\":[{\"colorbar\":{\"outlinewidth\":0,\"ticks\":\"\"},\"colorscale\":[[0.0,\"#0d0887\"],[0.1111111111111111,\"#46039f\"],[0.2222222222222222,\"#7201a8\"],[0.3333333333333333,\"#9c179e\"],[0.4444444444444444,\"#bd3786\"],[0.5555555555555556,\"#d8576b\"],[0.6666666666666666,\"#ed7953\"],[0.7777777777777778,\"#fb9f3a\"],[0.8888888888888888,\"#fdca26\"],[1.0,\"#f0f921\"]],\"type\":\"contour\"}],\"contourcarpet\":[{\"colorbar\":{\"outlinewidth\":0,\"ticks\":\"\"},\"type\":\"contourcarpet\"}],\"heatmap\":[{\"colorbar\":{\"outlinewidth\":0,\"ticks\":\"\"},\"colorscale\":[[0.0,\"#0d0887\"],[0.1111111111111111,\"#46039f\"],[0.2222222222222222,\"#7201a8\"],[0.3333333333333333,\"#9c179e\"],[0.4444444444444444,\"#bd3786\"],[0.5555555555555556,\"#d8576b\"],[0.6666666666666666,\"#ed7953\"],[0.7777777777777778,\"#fb9f3a\"],[0.8888888888888888,\"#fdca26\"],[1.0,\"#f0f921\"]],\"type\":\"heatmap\"}],\"heatmapgl\":[{\"colorbar\":{\"outlinewidth\":0,\"ticks\":\"\"},\"colorscale\":[[0.0,\"#0d0887\"],[0.1111111111111111,\"#46039f\"],[0.2222222222222222,\"#7201a8\"],[0.3333333333333333,\"#9c179e\"],[0.4444444444444444,\"#bd3786\"],[0.5555555555555556,\"#d8576b\"],[0.6666666666666666,\"#ed7953\"],[0.7777777777777778,\"#fb9f3a\"],[0.8888888888888888,\"#fdca26\"],[1.0,\"#f0f921\"]],\"type\":\"heatmapgl\"}],\"histogram\":[{\"marker\":{\"pattern\":{\"fillmode\":\"overlay\",\"size\":10,\"solidity\":0.2}},\"type\":\"histogram\"}],\"histogram2d\":[{\"colorbar\":{\"outlinewidth\":0,\"ticks\":\"\"},\"colorscale\":[[0.0,\"#0d0887\"],[0.1111111111111111,\"#46039f\"],[0.2222222222222222,\"#7201a8\"],[0.3333333333333333,\"#9c179e\"],[0.4444444444444444,\"#bd3786\"],[0.5555555555555556,\"#d8576b\"],[0.6666666666666666,\"#ed7953\"],[0.7777777777777778,\"#fb9f3a\"],[0.8888888888888888,\"#fdca26\"],[1.0,\"#f0f921\"]],\"type\":\"histogram2d\"}],\"histogram2dcontour\":[{\"colorbar\":{\"outlinewidth\":0,\"ticks\":\"\"},\"colorscale\":[[0.0,\"#0d0887\"],[0.1111111111111111,\"#46039f\"],[0.2222222222222222,\"#7201a8\"],[0.3333333333333333,\"#9c179e\"],[0.4444444444444444,\"#bd3786\"],[0.5555555555555556,\"#d8576b\"],[0.6666666666666666,\"#ed7953\"],[0.7777777777777778,\"#fb9f3a\"],[0.8888888888888888,\"#fdca26\"],[1.0,\"#f0f921\"]],\"type\":\"histogram2dcontour\"}],\"mesh3d\":[{\"colorbar\":{\"outlinewidth\":0,\"ticks\":\"\"},\"type\":\"mesh3d\"}],\"parcoords\":[{\"line\":{\"colorbar\":{\"outlinewidth\":0,\"ticks\":\"\"}},\"type\":\"parcoords\"}],\"pie\":[{\"automargin\":true,\"type\":\"pie\"}],\"scatter\":[{\"marker\":{\"colorbar\":{\"outlinewidth\":0,\"ticks\":\"\"}},\"type\":\"scatter\"}],\"scatter3d\":[{\"line\":{\"colorbar\":{\"outlinewidth\":0,\"ticks\":\"\"}},\"marker\":{\"colorbar\":{\"outlinewidth\":0,\"ticks\":\"\"}},\"type\":\"scatter3d\"}],\"scattercarpet\":[{\"marker\":{\"colorbar\":{\"outlinewidth\":0,\"ticks\":\"\"}},\"type\":\"scattercarpet\"}],\"scattergeo\":[{\"marker\":{\"colorbar\":{\"outlinewidth\":0,\"ticks\":\"\"}},\"type\":\"scattergeo\"}],\"scattergl\":[{\"marker\":{\"colorbar\":{\"outlinewidth\":0,\"ticks\":\"\"}},\"type\":\"scattergl\"}],\"scattermapbox\":[{\"marker\":{\"colorbar\":{\"outlinewidth\":0,\"ticks\":\"\"}},\"type\":\"scattermapbox\"}],\"scatterpolar\":[{\"marker\":{\"colorbar\":{\"outlinewidth\":0,\"ticks\":\"\"}},\"type\":\"scatterpolar\"}],\"scatterpolargl\":[{\"marker\":{\"colorbar\":{\"outlinewidth\":0,\"ticks\":\"\"}},\"type\":\"scatterpolargl\"}],\"scatterternary\":[{\"marker\":{\"colorbar\":{\"outlinewidth\":0,\"ticks\":\"\"}},\"type\":\"scatterternary\"}],\"surface\":[{\"colorbar\":{\"outlinewidth\":0,\"ticks\":\"\"},\"colorscale\":[[0.0,\"#0d0887\"],[0.1111111111111111,\"#46039f\"],[0.2222222222222222,\"#7201a8\"],[0.3333333333333333,\"#9c179e\"],[0.4444444444444444,\"#bd3786\"],[0.5555555555555556,\"#d8576b\"],[0.6666666666666666,\"#ed7953\"],[0.7777777777777778,\"#fb9f3a\"],[0.8888888888888888,\"#fdca26\"],[1.0,\"#f0f921\"]],\"type\":\"surface\"}],\"table\":[{\"cells\":{\"fill\":{\"color\":\"#EBF0F8\"},\"line\":{\"color\":\"white\"}},\"header\":{\"fill\":{\"color\":\"#C8D4E3\"},\"line\":{\"color\":\"white\"}},\"type\":\"table\"}]},\"layout\":{\"annotationdefaults\":{\"arrowcolor\":\"#2a3f5f\",\"arrowhead\":0,\"arrowwidth\":1},\"autotypenumbers\":\"strict\",\"coloraxis\":{\"colorbar\":{\"outlinewidth\":0,\"ticks\":\"\"}},\"colorscale\":{\"diverging\":[[0,\"#8e0152\"],[0.1,\"#c51b7d\"],[0.2,\"#de77ae\"],[0.3,\"#f1b6da\"],[0.4,\"#fde0ef\"],[0.5,\"#f7f7f7\"],[0.6,\"#e6f5d0\"],[0.7,\"#b8e186\"],[0.8,\"#7fbc41\"],[0.9,\"#4d9221\"],[1,\"#276419\"]],\"sequential\":[[0.0,\"#0d0887\"],[0.1111111111111111,\"#46039f\"],[0.2222222222222222,\"#7201a8\"],[0.3333333333333333,\"#9c179e\"],[0.4444444444444444,\"#bd3786\"],[0.5555555555555556,\"#d8576b\"],[0.6666666666666666,\"#ed7953\"],[0.7777777777777778,\"#fb9f3a\"],[0.8888888888888888,\"#fdca26\"],[1.0,\"#f0f921\"]],\"sequentialminus\":[[0.0,\"#0d0887\"],[0.1111111111111111,\"#46039f\"],[0.2222222222222222,\"#7201a8\"],[0.3333333333333333,\"#9c179e\"],[0.4444444444444444,\"#bd3786\"],[0.5555555555555556,\"#d8576b\"],[0.6666666666666666,\"#ed7953\"],[0.7777777777777778,\"#fb9f3a\"],[0.8888888888888888,\"#fdca26\"],[1.0,\"#f0f921\"]]},\"colorway\":[\"#636efa\",\"#EF553B\",\"#00cc96\",\"#ab63fa\",\"#FFA15A\",\"#19d3f3\",\"#FF6692\",\"#B6E880\",\"#FF97FF\",\"#FECB52\"],\"font\":{\"color\":\"#2a3f5f\"},\"geo\":{\"bgcolor\":\"white\",\"lakecolor\":\"white\",\"landcolor\":\"#E5ECF6\",\"showlakes\":true,\"showland\":true,\"subunitcolor\":\"white\"},\"hoverlabel\":{\"align\":\"left\"},\"hovermode\":\"closest\",\"mapbox\":{\"style\":\"light\"},\"paper_bgcolor\":\"white\",\"plot_bgcolor\":\"#E5ECF6\",\"polar\":{\"angularaxis\":{\"gridcolor\":\"white\",\"linecolor\":\"white\",\"ticks\":\"\"},\"bgcolor\":\"#E5ECF6\",\"radialaxis\":{\"gridcolor\":\"white\",\"linecolor\":\"white\",\"ticks\":\"\"}},\"scene\":{\"xaxis\":{\"backgroundcolor\":\"#E5ECF6\",\"gridcolor\":\"white\",\"gridwidth\":2,\"linecolor\":\"white\",\"showbackground\":true,\"ticks\":\"\",\"zerolinecolor\":\"white\"},\"yaxis\":{\"backgroundcolor\":\"#E5ECF6\",\"gridcolor\":\"white\",\"gridwidth\":2,\"linecolor\":\"white\",\"showbackground\":true,\"ticks\":\"\",\"zerolinecolor\":\"white\"},\"zaxis\":{\"backgroundcolor\":\"#E5ECF6\",\"gridcolor\":\"white\",\"gridwidth\":2,\"linecolor\":\"white\",\"showbackground\":true,\"ticks\":\"\",\"zerolinecolor\":\"white\"}},\"shapedefaults\":{\"line\":{\"color\":\"#2a3f5f\"}},\"ternary\":{\"aaxis\":{\"gridcolor\":\"white\",\"linecolor\":\"white\",\"ticks\":\"\"},\"baxis\":{\"gridcolor\":\"white\",\"linecolor\":\"white\",\"ticks\":\"\"},\"bgcolor\":\"#E5ECF6\",\"caxis\":{\"gridcolor\":\"white\",\"linecolor\":\"white\",\"ticks\":\"\"}},\"title\":{\"x\":0.05},\"xaxis\":{\"automargin\":true,\"gridcolor\":\"white\",\"linecolor\":\"white\",\"ticks\":\"\",\"title\":{\"standoff\":15},\"zerolinecolor\":\"white\",\"zerolinewidth\":2},\"yaxis\":{\"automargin\":true,\"gridcolor\":\"white\",\"linecolor\":\"white\",\"ticks\":\"\",\"title\":{\"standoff\":15},\"zerolinecolor\":\"white\",\"zerolinewidth\":2}}},\"polar\":{\"domain\":{\"x\":[0.0,1.0],\"y\":[0.0,1.0]},\"angularaxis\":{\"direction\":\"clockwise\",\"rotation\":90}},\"legend\":{\"tracegroupgap\":0},\"margin\":{\"t\":60}},                        {\"responsive\": true}                    ).then(function(){\n",
       "                            \n",
       "var gd = document.getElementById('009f5e75-5d23-4f8d-bfef-9ac3ce92eb41');\n",
       "var x = new MutationObserver(function (mutations, observer) {{\n",
       "        var display = window.getComputedStyle(gd).display;\n",
       "        if (!display || display === 'none') {{\n",
       "            console.log([gd, 'removed!']);\n",
       "            Plotly.purge(gd);\n",
       "            observer.disconnect();\n",
       "        }}\n",
       "}});\n",
       "\n",
       "// Listen for the removal of the full notebook cells\n",
       "var notebookContainer = gd.closest('#notebook-container');\n",
       "if (notebookContainer) {{\n",
       "    x.observe(notebookContainer, {childList: true});\n",
       "}}\n",
       "\n",
       "// Listen for the clearing of the current output cell\n",
       "var outputEl = gd.closest('.output');\n",
       "if (outputEl) {{\n",
       "    x.observe(outputEl, {childList: true});\n",
       "}}\n",
       "\n",
       "                        })                };                });            </script>        </div>"
      ]
     },
     "metadata": {},
     "output_type": "display_data"
    }
   ],
   "source": [
    "import plotly.express as px\n",
    "fig = px.line_polar(df, r='r', theta='theta', line_close=True)\n",
    "fig.update_traces(fill='toself')\n",
    "fig.show()\n"
   ]
  },
  {
   "cell_type": "markdown",
   "id": "6178c16d",
   "metadata": {},
   "source": [
    "# 12. Create a frequency table and a stacked bar chart to visualize the count of people in the different tiers of cities and hospitals.\n"
   ]
  },
  {
   "cell_type": "code",
   "execution_count": 282,
   "id": "d11199d7",
   "metadata": {
    "scrolled": true
   },
   "outputs": [
    {
     "data": {
      "text/plain": [
       "2    1334\n",
       "3     691\n",
       "1     300\n",
       "Name: Hospital tier, dtype: int64"
      ]
     },
     "execution_count": 282,
     "metadata": {},
     "output_type": "execute_result"
    }
   ],
   "source": [
    "final_df[\"Hospital tier\"].value_counts()"
   ]
  },
  {
   "cell_type": "code",
   "execution_count": 283,
   "id": "f1341d91",
   "metadata": {},
   "outputs": [
    {
     "data": {
      "text/html": [
       "<div>\n",
       "<style scoped>\n",
       "    .dataframe tbody tr th:only-of-type {\n",
       "        vertical-align: middle;\n",
       "    }\n",
       "\n",
       "    .dataframe tbody tr th {\n",
       "        vertical-align: top;\n",
       "    }\n",
       "\n",
       "    .dataframe thead th {\n",
       "        text-align: right;\n",
       "    }\n",
       "</style>\n",
       "<table border=\"1\" class=\"dataframe\">\n",
       "  <thead>\n",
       "    <tr style=\"text-align: right;\">\n",
       "      <th></th>\n",
       "      <th>City&amp;hospital_tier</th>\n",
       "      <th>City tier</th>\n",
       "    </tr>\n",
       "  </thead>\n",
       "  <tbody>\n",
       "    <tr>\n",
       "      <th>0</th>\n",
       "      <td>2</td>\n",
       "      <td>807</td>\n",
       "    </tr>\n",
       "    <tr>\n",
       "      <th>1</th>\n",
       "      <td>3</td>\n",
       "      <td>789</td>\n",
       "    </tr>\n",
       "    <tr>\n",
       "      <th>2</th>\n",
       "      <td>1</td>\n",
       "      <td>729</td>\n",
       "    </tr>\n",
       "  </tbody>\n",
       "</table>\n",
       "</div>"
      ],
      "text/plain": [
       "   City&hospital_tier  City tier\n",
       "0                   2        807\n",
       "1                   3        789\n",
       "2                   1        729"
      ]
     },
     "execution_count": 283,
     "metadata": {},
     "output_type": "execute_result"
    }
   ],
   "source": [
    "city_freq = final_df[\"City tier\"].value_counts().rename_axis('City&hospital_tier').reset_index()\n",
    "city_freq"
   ]
  },
  {
   "cell_type": "code",
   "execution_count": 284,
   "id": "44f0c9a5",
   "metadata": {},
   "outputs": [],
   "source": [
    "hospital_freq = final_df[\"Hospital tier\"].value_counts().rename_axis('City&hospital_tier').reset_index()\n",
    "df = pd.merge(city_freq, hospital_freq, on = 'City&hospital_tier')"
   ]
  },
  {
   "cell_type": "code",
   "execution_count": 285,
   "id": "fd8abfe9",
   "metadata": {},
   "outputs": [
    {
     "data": {
      "text/html": [
       "<div>\n",
       "<style scoped>\n",
       "    .dataframe tbody tr th:only-of-type {\n",
       "        vertical-align: middle;\n",
       "    }\n",
       "\n",
       "    .dataframe tbody tr th {\n",
       "        vertical-align: top;\n",
       "    }\n",
       "\n",
       "    .dataframe thead th {\n",
       "        text-align: right;\n",
       "    }\n",
       "</style>\n",
       "<table border=\"1\" class=\"dataframe\">\n",
       "  <thead>\n",
       "    <tr style=\"text-align: right;\">\n",
       "      <th></th>\n",
       "      <th>City&amp;hospital_tier</th>\n",
       "      <th>City tier</th>\n",
       "      <th>Hospital tier</th>\n",
       "    </tr>\n",
       "  </thead>\n",
       "  <tbody>\n",
       "    <tr>\n",
       "      <th>0</th>\n",
       "      <td>2</td>\n",
       "      <td>807</td>\n",
       "      <td>1334</td>\n",
       "    </tr>\n",
       "    <tr>\n",
       "      <th>1</th>\n",
       "      <td>3</td>\n",
       "      <td>789</td>\n",
       "      <td>691</td>\n",
       "    </tr>\n",
       "    <tr>\n",
       "      <th>2</th>\n",
       "      <td>1</td>\n",
       "      <td>729</td>\n",
       "      <td>300</td>\n",
       "    </tr>\n",
       "  </tbody>\n",
       "</table>\n",
       "</div>"
      ],
      "text/plain": [
       "   City&hospital_tier  City tier  Hospital tier\n",
       "0                   2        807           1334\n",
       "1                   3        789            691\n",
       "2                   1        729            300"
      ]
     },
     "execution_count": 285,
     "metadata": {},
     "output_type": "execute_result"
    }
   ],
   "source": [
    "df"
   ]
  },
  {
   "cell_type": "code",
   "execution_count": 286,
   "id": "d003425b",
   "metadata": {
    "scrolled": true
   },
   "outputs": [
    {
     "data": {
      "image/png": "[encoded data removed]",
      "text/plain": [
       "<Figure size 432x288 with 1 Axes>"
      ]
     },
     "metadata": {
      "needs_background": "light"
     },
     "output_type": "display_data"
    }
   ],
   "source": [
    "plt.bar(df[\"City&hospital_tier\"], df[\"City tier\"], color='r')\n",
    "plt.bar(df[\"City&hospital_tier\"], df[\"Hospital tier\"], bottom=df[\"City tier\"])\n",
    "plt.show()\n"
   ]
  },
  {
   "cell_type": "markdown",
   "id": "d17f989a",
   "metadata": {},
   "source": [
    "# 13. Test the following null hypotheses:\n",
    "a. The average hospitalization costs for the three types of hospitals are not significantly \n",
    "different\n",
    "b. The average hospitalization costs for the three types of cities are not significantly \n",
    "different\n",
    "c. The average hospitalization cost for smokers is not significantly different from the \n",
    "average cost for nonsmokers\n",
    "d. Smoking and heart issues are independent\n"
   ]
  },
  {
   "cell_type": "code",
   "execution_count": 287,
   "id": "c7627293",
   "metadata": {},
   "outputs": [],
   "source": [
    "# H0= DISTRIBUTION OF ALL SAMPLES ARE EQUAL\n",
    "# H1= DISTRIBUTION OF ONE OR MORE SAMPLES ARE NOT EQUAL"
   ]
  },
  {
   "cell_type": "code",
   "execution_count": 288,
   "id": "c38c6bda",
   "metadata": {},
   "outputs": [
    {
     "name": "stdout",
     "output_type": "stream",
     "text": [
      "stats= 2.000,p=0.368\n",
      "probably the same distribution\n"
     ]
    }
   ],
   "source": [
    "from scipy.stats import friedmanchisquare\n",
    "data1 = [32097.43]\n",
    "data2 = [7168.76]\n",
    "data3 = [10676.83]\n",
    "stats,p=friedmanchisquare(data1,data2,data3)\n",
    "print('stats= %.3f,p=%.3f'%(stats,p))\n",
    "if p> 0.05:\n",
    "    print(\"probably the same distribution\")\n",
    "else:\n",
    "    print(\"probably different distributions\")"
   ]
  },
  {
   "cell_type": "code",
   "execution_count": 289,
   "id": "2e2b5af0",
   "metadata": {},
   "outputs": [
    {
     "name": "stdout",
     "output_type": "stream",
     "text": [
      "median cost of tier 1 city: 10027.15\n",
      "median cost of tier 2 city: 8968.33\n",
      "median cost of tier 3 city: 9880.07\n"
     ]
    }
   ],
   "source": [
    "print(\"median cost of tier 1 city:\", final_df[final_df[\"City tier\"]==1].charges.median())\n",
    "print(\"median cost of tier 2 city:\", final_df[final_df[\"City tier\"]==2].charges.median())\n",
    "print(\"median cost of tier 3 city:\", final_df[final_df[\"City tier\"]==3].charges.median())\n"
   ]
  },
  {
   "cell_type": "code",
   "execution_count": 290,
   "id": "4b0b23c9",
   "metadata": {},
   "outputs": [
    {
     "name": "stdout",
     "output_type": "stream",
     "text": [
      "stat=2.000, p=0.368\n",
      "Probably the same distribution\n"
     ]
    }
   ],
   "source": [
    "data1 = [10027.15]\n",
    "data2 = [8968.33]\n",
    "data3 = [9880.07]\n",
    "stat, p = friedmanchisquare(data1, data2, data3)\n",
    "print('stat=%.3f, p=%.3f' % (stat, p))\n",
    "if p > 0.05:\n",
    " print('Probably the same distribution')\n",
    "else:\n",
    " print('Probably different distributions')\n"
   ]
  },
  {
   "cell_type": "code",
   "execution_count": 291,
   "id": "196cc989",
   "metadata": {},
   "outputs": [
    {
     "name": "stdout",
     "output_type": "stream",
     "text": [
      "median cost of smoker: 34125.475\n",
      "median cost of non smoker: 7537.16\n"
     ]
    }
   ],
   "source": [
    "print(\"median cost of smoker:\", final_df[final_df[\"smoker\"]==1].charges.median())\n",
    "print(\"median cost of non smoker:\", final_df[final_df[\"smoker\"]==0].charges.median())\n"
   ]
  },
  {
   "cell_type": "code",
   "execution_count": 292,
   "id": "935c5e96",
   "metadata": {},
   "outputs": [
    {
     "name": "stdout",
     "output_type": "stream",
     "text": [
      "stat=1.000, p=0.317\n",
      "Probably the same distribution\n"
     ]
    }
   ],
   "source": [
    "from scipy.stats import kruskal\n",
    "data1 = [34125.475]\n",
    "data2 = [7537.16]\n",
    "stat, p = kruskal(data1, data2)\n",
    "print('stat=%.3f, p=%.3f' % (stat, p))\n",
    "if p > 0.05:\n",
    " print('Probably the same distribution')\n",
    "else:\n",
    " print('Probably different distributions')\n"
   ]
  },
  {
   "cell_type": "code",
   "execution_count": 293,
   "id": "a12d07d1",
   "metadata": {},
   "outputs": [
    {
     "name": "stdout",
     "output_type": "stream",
     "text": [
      "stat=191.145, p=0.000\n",
      "Probably dependent\n"
     ]
    }
   ],
   "source": [
    "#H0: the two samples are independent.\n",
    "#H1: there is a dependency between the samples.\n",
    "#d. Smoking and heart issues are independent\n",
    "from scipy.stats import chi2_contingency\n",
    "table = [[final_df[\"Heart Issues\"].value_counts()],[final_df[\"smoker\"].value_counts()]]\n",
    "stat, p, dof, expected = chi2_contingency(table)\n",
    "print('stat=%.3f, p=%.3f' % (stat, p))\n",
    "if p > 0.05:\n",
    " print('Probably independent')\n",
    "else:\n",
    " print('Probably dependent')\n"
   ]
  },
  {
   "cell_type": "markdown",
   "id": "74c507a6",
   "metadata": {},
   "source": [
    "# ML PART\n",
    "## 1. Examine the correlation between predictors to identify highly correlated predictors. Use a heatmap to visualize this."
   ]
  },
  {
   "cell_type": "code",
   "execution_count": 294,
   "id": "b302eb68",
   "metadata": {
    "scrolled": true
   },
   "outputs": [
    {
     "name": "stdout",
     "output_type": "stream",
     "text": [
      "<class 'pandas.core.frame.DataFrame'>\n",
      "Int64Index: 2325 entries, 0 to 2334\n",
      "Data columns (total 22 columns):\n",
      " #   Column                  Non-Null Count  Dtype  \n",
      "---  ------                  --------------  -----  \n",
      " 0   Customer ID             2325 non-null   object \n",
      " 1   year                    2325 non-null   object \n",
      " 2   month                   2325 non-null   object \n",
      " 3   date                    2325 non-null   int64  \n",
      " 4   children                2325 non-null   int64  \n",
      " 5   charges                 2325 non-null   float64\n",
      " 6   Hospital tier           2325 non-null   int64  \n",
      " 7   City tier               2325 non-null   int64  \n",
      " 8   State ID                2325 non-null   object \n",
      " 9   name                    2325 non-null   object \n",
      " 10  BMI                     2325 non-null   float64\n",
      " 11  HBA1C                   2325 non-null   float64\n",
      " 12  Heart Issues            2325 non-null   int32  \n",
      " 13  Any Transplants         2325 non-null   int32  \n",
      " 14  Cancer history          2325 non-null   int32  \n",
      " 15  NumberOfMajorSurgeries  2325 non-null   int32  \n",
      " 16  smoker                  2325 non-null   int32  \n",
      " 17  state_id_R1013          2325 non-null   uint8  \n",
      " 18  state_id_R1011          2325 non-null   uint8  \n",
      " 19  state_id_R1012          2325 non-null   uint8  \n",
      " 20  state_id_R1024          2325 non-null   uint8  \n",
      " 21  gender                  2325 non-null   int64  \n",
      "dtypes: float64(3), int32(5), int64(5), object(5), uint8(4)\n",
      "memory usage: 308.8+ KB\n"
     ]
    }
   ],
   "source": [
    "final_df.info()"
   ]
  },
  {
   "cell_type": "code",
   "execution_count": 295,
   "id": "3ae85520",
   "metadata": {},
   "outputs": [],
   "source": [
    "final_df.drop([\"Customer ID\",'name', 'year', 'month', 'date','State ID'], inplace=True, axis=1)"
   ]
  },
  {
   "cell_type": "code",
   "execution_count": 296,
   "id": "69c5c876",
   "metadata": {},
   "outputs": [
    {
     "data": {
      "text/plain": [
       "(2325, 16)"
      ]
     },
     "execution_count": 296,
     "metadata": {},
     "output_type": "execute_result"
    }
   ],
   "source": [
    "final_df.shape"
   ]
  },
  {
   "cell_type": "code",
   "execution_count": 297,
   "id": "682af52d",
   "metadata": {},
   "outputs": [
    {
     "data": {
      "text/html": [
       "<div>\n",
       "<style scoped>\n",
       "    .dataframe tbody tr th:only-of-type {\n",
       "        vertical-align: middle;\n",
       "    }\n",
       "\n",
       "    .dataframe tbody tr th {\n",
       "        vertical-align: top;\n",
       "    }\n",
       "\n",
       "    .dataframe thead th {\n",
       "        text-align: right;\n",
       "    }\n",
       "</style>\n",
       "<table border=\"1\" class=\"dataframe\">\n",
       "  <thead>\n",
       "    <tr style=\"text-align: right;\">\n",
       "      <th></th>\n",
       "      <th>children</th>\n",
       "      <th>charges</th>\n",
       "      <th>Hospital tier</th>\n",
       "      <th>City tier</th>\n",
       "      <th>BMI</th>\n",
       "      <th>HBA1C</th>\n",
       "      <th>Heart Issues</th>\n",
       "      <th>Any Transplants</th>\n",
       "      <th>Cancer history</th>\n",
       "      <th>NumberOfMajorSurgeries</th>\n",
       "      <th>smoker</th>\n",
       "      <th>state_id_R1013</th>\n",
       "      <th>state_id_R1011</th>\n",
       "      <th>state_id_R1012</th>\n",
       "      <th>state_id_R1024</th>\n",
       "      <th>gender</th>\n",
       "    </tr>\n",
       "  </thead>\n",
       "  <tbody>\n",
       "    <tr>\n",
       "      <th>0</th>\n",
       "      <td>0</td>\n",
       "      <td>563.84</td>\n",
       "      <td>2</td>\n",
       "      <td>3</td>\n",
       "      <td>17.58</td>\n",
       "      <td>4.51</td>\n",
       "      <td>0</td>\n",
       "      <td>0</td>\n",
       "      <td>0</td>\n",
       "      <td>1</td>\n",
       "      <td>0</td>\n",
       "      <td>1</td>\n",
       "      <td>0</td>\n",
       "      <td>0</td>\n",
       "      <td>0</td>\n",
       "      <td>1</td>\n",
       "    </tr>\n",
       "    <tr>\n",
       "      <th>1</th>\n",
       "      <td>0</td>\n",
       "      <td>570.62</td>\n",
       "      <td>2</td>\n",
       "      <td>1</td>\n",
       "      <td>17.60</td>\n",
       "      <td>4.39</td>\n",
       "      <td>0</td>\n",
       "      <td>0</td>\n",
       "      <td>0</td>\n",
       "      <td>1</td>\n",
       "      <td>0</td>\n",
       "      <td>1</td>\n",
       "      <td>0</td>\n",
       "      <td>0</td>\n",
       "      <td>0</td>\n",
       "      <td>1</td>\n",
       "    </tr>\n",
       "    <tr>\n",
       "      <th>2</th>\n",
       "      <td>0</td>\n",
       "      <td>600.00</td>\n",
       "      <td>2</td>\n",
       "      <td>1</td>\n",
       "      <td>16.47</td>\n",
       "      <td>6.35</td>\n",
       "      <td>0</td>\n",
       "      <td>0</td>\n",
       "      <td>1</td>\n",
       "      <td>1</td>\n",
       "      <td>0</td>\n",
       "      <td>1</td>\n",
       "      <td>0</td>\n",
       "      <td>0</td>\n",
       "      <td>0</td>\n",
       "      <td>0</td>\n",
       "    </tr>\n",
       "    <tr>\n",
       "      <th>3</th>\n",
       "      <td>0</td>\n",
       "      <td>604.54</td>\n",
       "      <td>3</td>\n",
       "      <td>3</td>\n",
       "      <td>17.70</td>\n",
       "      <td>6.28</td>\n",
       "      <td>0</td>\n",
       "      <td>0</td>\n",
       "      <td>0</td>\n",
       "      <td>1</td>\n",
       "      <td>0</td>\n",
       "      <td>1</td>\n",
       "      <td>0</td>\n",
       "      <td>0</td>\n",
       "      <td>0</td>\n",
       "      <td>1</td>\n",
       "    </tr>\n",
       "    <tr>\n",
       "      <th>4</th>\n",
       "      <td>0</td>\n",
       "      <td>637.26</td>\n",
       "      <td>3</td>\n",
       "      <td>3</td>\n",
       "      <td>22.34</td>\n",
       "      <td>5.57</td>\n",
       "      <td>0</td>\n",
       "      <td>0</td>\n",
       "      <td>0</td>\n",
       "      <td>1</td>\n",
       "      <td>0</td>\n",
       "      <td>1</td>\n",
       "      <td>0</td>\n",
       "      <td>0</td>\n",
       "      <td>0</td>\n",
       "      <td>1</td>\n",
       "    </tr>\n",
       "  </tbody>\n",
       "</table>\n",
       "</div>"
      ],
      "text/plain": [
       "   children  charges  Hospital tier  City tier    BMI  HBA1C  Heart Issues  \\\n",
       "0         0   563.84              2          3  17.58   4.51             0   \n",
       "1         0   570.62              2          1  17.60   4.39             0   \n",
       "2         0   600.00              2          1  16.47   6.35             0   \n",
       "3         0   604.54              3          3  17.70   6.28             0   \n",
       "4         0   637.26              3          3  22.34   5.57             0   \n",
       "\n",
       "   Any Transplants  Cancer history  NumberOfMajorSurgeries  smoker  \\\n",
       "0                0               0                       1       0   \n",
       "1                0               0                       1       0   \n",
       "2                0               1                       1       0   \n",
       "3                0               0                       1       0   \n",
       "4                0               0                       1       0   \n",
       "\n",
       "   state_id_R1013  state_id_R1011  state_id_R1012  state_id_R1024  gender  \n",
       "0               1               0               0               0       1  \n",
       "1               1               0               0               0       1  \n",
       "2               1               0               0               0       0  \n",
       "3               1               0               0               0       1  \n",
       "4               1               0               0               0       1  "
      ]
     },
     "execution_count": 297,
     "metadata": {},
     "output_type": "execute_result"
    }
   ],
   "source": [
    "final_df.head()"
   ]
  },
  {
   "cell_type": "code",
   "execution_count": 298,
   "id": "88dd8e16",
   "metadata": {},
   "outputs": [
    {
     "data": {
      "text/html": [
       "<div>\n",
       "<style scoped>\n",
       "    .dataframe tbody tr th:only-of-type {\n",
       "        vertical-align: middle;\n",
       "    }\n",
       "\n",
       "    .dataframe tbody tr th {\n",
       "        vertical-align: top;\n",
       "    }\n",
       "\n",
       "    .dataframe thead th {\n",
       "        text-align: right;\n",
       "    }\n",
       "</style>\n",
       "<table border=\"1\" class=\"dataframe\">\n",
       "  <thead>\n",
       "    <tr style=\"text-align: right;\">\n",
       "      <th></th>\n",
       "      <th>children</th>\n",
       "      <th>charges</th>\n",
       "      <th>Hospital tier</th>\n",
       "      <th>City tier</th>\n",
       "      <th>BMI</th>\n",
       "      <th>HBA1C</th>\n",
       "      <th>Heart Issues</th>\n",
       "      <th>Any Transplants</th>\n",
       "      <th>Cancer history</th>\n",
       "      <th>NumberOfMajorSurgeries</th>\n",
       "      <th>smoker</th>\n",
       "      <th>state_id_R1013</th>\n",
       "      <th>state_id_R1011</th>\n",
       "      <th>state_id_R1012</th>\n",
       "      <th>state_id_R1024</th>\n",
       "      <th>gender</th>\n",
       "    </tr>\n",
       "  </thead>\n",
       "  <tbody>\n",
       "    <tr>\n",
       "      <th>children</th>\n",
       "      <td>1.000000</td>\n",
       "      <td>0.055901</td>\n",
       "      <td>-0.052438</td>\n",
       "      <td>-0.015760</td>\n",
       "      <td>-0.005339</td>\n",
       "      <td>-0.101379</td>\n",
       "      <td>0.023984</td>\n",
       "      <td>-0.142040</td>\n",
       "      <td>-0.027880</td>\n",
       "      <td>-0.113161</td>\n",
       "      <td>0.017713</td>\n",
       "      <td>-0.013834</td>\n",
       "      <td>0.011666</td>\n",
       "      <td>0.005247</td>\n",
       "      <td>0.002713</td>\n",
       "      <td>0.011205</td>\n",
       "    </tr>\n",
       "    <tr>\n",
       "      <th>charges</th>\n",
       "      <td>0.055901</td>\n",
       "      <td>1.000000</td>\n",
       "      <td>-0.446687</td>\n",
       "      <td>0.035300</td>\n",
       "      <td>0.346730</td>\n",
       "      <td>0.139697</td>\n",
       "      <td>0.049299</td>\n",
       "      <td>-0.127028</td>\n",
       "      <td>-0.022522</td>\n",
       "      <td>0.053308</td>\n",
       "      <td>0.838462</td>\n",
       "      <td>-0.150634</td>\n",
       "      <td>0.286956</td>\n",
       "      <td>-0.074636</td>\n",
       "      <td>-0.014374</td>\n",
       "      <td>0.034069</td>\n",
       "    </tr>\n",
       "    <tr>\n",
       "      <th>Hospital tier</th>\n",
       "      <td>-0.052438</td>\n",
       "      <td>-0.446687</td>\n",
       "      <td>1.000000</td>\n",
       "      <td>-0.039755</td>\n",
       "      <td>-0.104771</td>\n",
       "      <td>0.057855</td>\n",
       "      <td>0.053376</td>\n",
       "      <td>0.011729</td>\n",
       "      <td>-0.021429</td>\n",
       "      <td>0.033230</td>\n",
       "      <td>-0.474077</td>\n",
       "      <td>0.002455</td>\n",
       "      <td>-0.114685</td>\n",
       "      <td>0.020272</td>\n",
       "      <td>-0.012802</td>\n",
       "      <td>0.041261</td>\n",
       "    </tr>\n",
       "    <tr>\n",
       "      <th>City tier</th>\n",
       "      <td>-0.015760</td>\n",
       "      <td>0.035300</td>\n",
       "      <td>-0.039755</td>\n",
       "      <td>1.000000</td>\n",
       "      <td>0.038123</td>\n",
       "      <td>-0.005404</td>\n",
       "      <td>0.023152</td>\n",
       "      <td>0.002970</td>\n",
       "      <td>-0.018639</td>\n",
       "      <td>0.027937</td>\n",
       "      <td>0.032034</td>\n",
       "      <td>0.002766</td>\n",
       "      <td>0.036049</td>\n",
       "      <td>-0.018253</td>\n",
       "      <td>-0.000218</td>\n",
       "      <td>0.054073</td>\n",
       "    </tr>\n",
       "    <tr>\n",
       "      <th>BMI</th>\n",
       "      <td>-0.005339</td>\n",
       "      <td>0.346730</td>\n",
       "      <td>-0.104771</td>\n",
       "      <td>0.038123</td>\n",
       "      <td>1.000000</td>\n",
       "      <td>-0.006920</td>\n",
       "      <td>0.017129</td>\n",
       "      <td>0.015893</td>\n",
       "      <td>-0.020235</td>\n",
       "      <td>0.018851</td>\n",
       "      <td>0.107126</td>\n",
       "      <td>-0.208744</td>\n",
       "      <td>0.115671</td>\n",
       "      <td>0.017939</td>\n",
       "      <td>-0.056158</td>\n",
       "      <td>0.079930</td>\n",
       "    </tr>\n",
       "    <tr>\n",
       "      <th>HBA1C</th>\n",
       "      <td>-0.101379</td>\n",
       "      <td>0.139697</td>\n",
       "      <td>0.057855</td>\n",
       "      <td>-0.005404</td>\n",
       "      <td>-0.006920</td>\n",
       "      <td>1.000000</td>\n",
       "      <td>0.007699</td>\n",
       "      <td>-0.159855</td>\n",
       "      <td>-0.170921</td>\n",
       "      <td>-0.091594</td>\n",
       "      <td>0.007257</td>\n",
       "      <td>0.033453</td>\n",
       "      <td>0.015525</td>\n",
       "      <td>-0.019513</td>\n",
       "      <td>-0.010989</td>\n",
       "      <td>-0.027339</td>\n",
       "    </tr>\n",
       "    <tr>\n",
       "      <th>Heart Issues</th>\n",
       "      <td>0.023984</td>\n",
       "      <td>0.049299</td>\n",
       "      <td>0.053376</td>\n",
       "      <td>0.023152</td>\n",
       "      <td>0.017129</td>\n",
       "      <td>0.007699</td>\n",
       "      <td>1.000000</td>\n",
       "      <td>-0.140269</td>\n",
       "      <td>0.111190</td>\n",
       "      <td>0.206147</td>\n",
       "      <td>-0.007159</td>\n",
       "      <td>-0.027967</td>\n",
       "      <td>0.005852</td>\n",
       "      <td>0.021770</td>\n",
       "      <td>0.007262</td>\n",
       "      <td>0.010277</td>\n",
       "    </tr>\n",
       "    <tr>\n",
       "      <th>Any Transplants</th>\n",
       "      <td>-0.142040</td>\n",
       "      <td>-0.127028</td>\n",
       "      <td>0.011729</td>\n",
       "      <td>0.002970</td>\n",
       "      <td>0.015893</td>\n",
       "      <td>-0.159855</td>\n",
       "      <td>-0.140269</td>\n",
       "      <td>1.000000</td>\n",
       "      <td>-0.114677</td>\n",
       "      <td>0.158593</td>\n",
       "      <td>-0.025101</td>\n",
       "      <td>0.064563</td>\n",
       "      <td>-0.058553</td>\n",
       "      <td>-0.066453</td>\n",
       "      <td>0.051867</td>\n",
       "      <td>-0.012737</td>\n",
       "    </tr>\n",
       "    <tr>\n",
       "      <th>Cancer history</th>\n",
       "      <td>-0.027880</td>\n",
       "      <td>-0.022522</td>\n",
       "      <td>-0.021429</td>\n",
       "      <td>-0.018639</td>\n",
       "      <td>-0.020235</td>\n",
       "      <td>-0.170921</td>\n",
       "      <td>0.111190</td>\n",
       "      <td>-0.114677</td>\n",
       "      <td>1.000000</td>\n",
       "      <td>0.204208</td>\n",
       "      <td>0.006415</td>\n",
       "      <td>-0.066475</td>\n",
       "      <td>0.011919</td>\n",
       "      <td>0.058222</td>\n",
       "      <td>-0.030704</td>\n",
       "      <td>0.009359</td>\n",
       "    </tr>\n",
       "    <tr>\n",
       "      <th>NumberOfMajorSurgeries</th>\n",
       "      <td>-0.113161</td>\n",
       "      <td>0.053308</td>\n",
       "      <td>0.033230</td>\n",
       "      <td>0.027937</td>\n",
       "      <td>0.018851</td>\n",
       "      <td>-0.091594</td>\n",
       "      <td>0.206147</td>\n",
       "      <td>0.158593</td>\n",
       "      <td>0.204208</td>\n",
       "      <td>1.000000</td>\n",
       "      <td>0.017199</td>\n",
       "      <td>-0.002056</td>\n",
       "      <td>0.000208</td>\n",
       "      <td>-0.002098</td>\n",
       "      <td>0.008505</td>\n",
       "      <td>-0.003349</td>\n",
       "    </tr>\n",
       "    <tr>\n",
       "      <th>smoker</th>\n",
       "      <td>0.017713</td>\n",
       "      <td>0.838462</td>\n",
       "      <td>-0.474077</td>\n",
       "      <td>0.032034</td>\n",
       "      <td>0.107126</td>\n",
       "      <td>0.007257</td>\n",
       "      <td>-0.007159</td>\n",
       "      <td>-0.025101</td>\n",
       "      <td>0.006415</td>\n",
       "      <td>0.017199</td>\n",
       "      <td>1.000000</td>\n",
       "      <td>-0.094547</td>\n",
       "      <td>0.336112</td>\n",
       "      <td>-0.106998</td>\n",
       "      <td>-0.021943</td>\n",
       "      <td>0.020968</td>\n",
       "    </tr>\n",
       "    <tr>\n",
       "      <th>state_id_R1013</th>\n",
       "      <td>-0.013834</td>\n",
       "      <td>-0.150634</td>\n",
       "      <td>0.002455</td>\n",
       "      <td>0.002766</td>\n",
       "      <td>-0.208744</td>\n",
       "      <td>0.033453</td>\n",
       "      <td>-0.027967</td>\n",
       "      <td>0.064563</td>\n",
       "      <td>-0.066475</td>\n",
       "      <td>-0.002056</td>\n",
       "      <td>-0.094547</td>\n",
       "      <td>1.000000</td>\n",
       "      <td>-0.341085</td>\n",
       "      <td>-0.340296</td>\n",
       "      <td>-0.161406</td>\n",
       "      <td>-0.029639</td>\n",
       "    </tr>\n",
       "    <tr>\n",
       "      <th>state_id_R1011</th>\n",
       "      <td>0.011666</td>\n",
       "      <td>0.286956</td>\n",
       "      <td>-0.114685</td>\n",
       "      <td>0.036049</td>\n",
       "      <td>0.115671</td>\n",
       "      <td>0.015525</td>\n",
       "      <td>0.005852</td>\n",
       "      <td>-0.058553</td>\n",
       "      <td>0.011919</td>\n",
       "      <td>0.000208</td>\n",
       "      <td>0.336112</td>\n",
       "      <td>-0.341085</td>\n",
       "      <td>1.000000</td>\n",
       "      <td>-0.327054</td>\n",
       "      <td>-0.155125</td>\n",
       "      <td>-0.075234</td>\n",
       "    </tr>\n",
       "    <tr>\n",
       "      <th>state_id_R1012</th>\n",
       "      <td>0.005247</td>\n",
       "      <td>-0.074636</td>\n",
       "      <td>0.020272</td>\n",
       "      <td>-0.018253</td>\n",
       "      <td>0.017939</td>\n",
       "      <td>-0.019513</td>\n",
       "      <td>0.021770</td>\n",
       "      <td>-0.066453</td>\n",
       "      <td>0.058222</td>\n",
       "      <td>-0.002098</td>\n",
       "      <td>-0.106998</td>\n",
       "      <td>-0.340296</td>\n",
       "      <td>-0.327054</td>\n",
       "      <td>1.000000</td>\n",
       "      <td>-0.154766</td>\n",
       "      <td>-0.077093</td>\n",
       "    </tr>\n",
       "    <tr>\n",
       "      <th>state_id_R1024</th>\n",
       "      <td>0.002713</td>\n",
       "      <td>-0.014374</td>\n",
       "      <td>-0.012802</td>\n",
       "      <td>-0.000218</td>\n",
       "      <td>-0.056158</td>\n",
       "      <td>-0.010989</td>\n",
       "      <td>0.007262</td>\n",
       "      <td>0.051867</td>\n",
       "      <td>-0.030704</td>\n",
       "      <td>0.008505</td>\n",
       "      <td>-0.021943</td>\n",
       "      <td>-0.161406</td>\n",
       "      <td>-0.155125</td>\n",
       "      <td>-0.154766</td>\n",
       "      <td>1.000000</td>\n",
       "      <td>-0.285062</td>\n",
       "    </tr>\n",
       "    <tr>\n",
       "      <th>gender</th>\n",
       "      <td>0.011205</td>\n",
       "      <td>0.034069</td>\n",
       "      <td>0.041261</td>\n",
       "      <td>0.054073</td>\n",
       "      <td>0.079930</td>\n",
       "      <td>-0.027339</td>\n",
       "      <td>0.010277</td>\n",
       "      <td>-0.012737</td>\n",
       "      <td>0.009359</td>\n",
       "      <td>-0.003349</td>\n",
       "      <td>0.020968</td>\n",
       "      <td>-0.029639</td>\n",
       "      <td>-0.075234</td>\n",
       "      <td>-0.077093</td>\n",
       "      <td>-0.285062</td>\n",
       "      <td>1.000000</td>\n",
       "    </tr>\n",
       "  </tbody>\n",
       "</table>\n",
       "</div>"
      ],
      "text/plain": [
       "                        children   charges  Hospital tier  City tier  \\\n",
       "children                1.000000  0.055901      -0.052438  -0.015760   \n",
       "charges                 0.055901  1.000000      -0.446687   0.035300   \n",
       "Hospital tier          -0.052438 -0.446687       1.000000  -0.039755   \n",
       "City tier              -0.015760  0.035300      -0.039755   1.000000   \n",
       "BMI                    -0.005339  0.346730      -0.104771   0.038123   \n",
       "HBA1C                  -0.101379  0.139697       0.057855  -0.005404   \n",
       "Heart Issues            0.023984  0.049299       0.053376   0.023152   \n",
       "Any Transplants        -0.142040 -0.127028       0.011729   0.002970   \n",
       "Cancer history         -0.027880 -0.022522      -0.021429  -0.018639   \n",
       "NumberOfMajorSurgeries -0.113161  0.053308       0.033230   0.027937   \n",
       "smoker                  0.017713  0.838462      -0.474077   0.032034   \n",
       "state_id_R1013         -0.013834 -0.150634       0.002455   0.002766   \n",
       "state_id_R1011          0.011666  0.286956      -0.114685   0.036049   \n",
       "state_id_R1012          0.005247 -0.074636       0.020272  -0.018253   \n",
       "state_id_R1024          0.002713 -0.014374      -0.012802  -0.000218   \n",
       "gender                  0.011205  0.034069       0.041261   0.054073   \n",
       "\n",
       "                             BMI     HBA1C  Heart Issues  Any Transplants  \\\n",
       "children               -0.005339 -0.101379      0.023984        -0.142040   \n",
       "charges                 0.346730  0.139697      0.049299        -0.127028   \n",
       "Hospital tier          -0.104771  0.057855      0.053376         0.011729   \n",
       "City tier               0.038123 -0.005404      0.023152         0.002970   \n",
       "BMI                     1.000000 -0.006920      0.017129         0.015893   \n",
       "HBA1C                  -0.006920  1.000000      0.007699        -0.159855   \n",
       "Heart Issues            0.017129  0.007699      1.000000        -0.140269   \n",
       "Any Transplants         0.015893 -0.159855     -0.140269         1.000000   \n",
       "Cancer history         -0.020235 -0.170921      0.111190        -0.114677   \n",
       "NumberOfMajorSurgeries  0.018851 -0.091594      0.206147         0.158593   \n",
       "smoker                  0.107126  0.007257     -0.007159        -0.025101   \n",
       "state_id_R1013         -0.208744  0.033453     -0.027967         0.064563   \n",
       "state_id_R1011          0.115671  0.015525      0.005852        -0.058553   \n",
       "state_id_R1012          0.017939 -0.019513      0.021770        -0.066453   \n",
       "state_id_R1024         -0.056158 -0.010989      0.007262         0.051867   \n",
       "gender                  0.079930 -0.027339      0.010277        -0.012737   \n",
       "\n",
       "                        Cancer history  NumberOfMajorSurgeries    smoker  \\\n",
       "children                     -0.027880               -0.113161  0.017713   \n",
       "charges                      -0.022522                0.053308  0.838462   \n",
       "Hospital tier                -0.021429                0.033230 -0.474077   \n",
       "City tier                    -0.018639                0.027937  0.032034   \n",
       "BMI                          -0.020235                0.018851  0.107126   \n",
       "HBA1C                        -0.170921               -0.091594  0.007257   \n",
       "Heart Issues                  0.111190                0.206147 -0.007159   \n",
       "Any Transplants              -0.114677                0.158593 -0.025101   \n",
       "Cancer history                1.000000                0.204208  0.006415   \n",
       "NumberOfMajorSurgeries        0.204208                1.000000  0.017199   \n",
       "smoker                        0.006415                0.017199  1.000000   \n",
       "state_id_R1013               -0.066475               -0.002056 -0.094547   \n",
       "state_id_R1011                0.011919                0.000208  0.336112   \n",
       "state_id_R1012                0.058222               -0.002098 -0.106998   \n",
       "state_id_R1024               -0.030704                0.008505 -0.021943   \n",
       "gender                        0.009359               -0.003349  0.020968   \n",
       "\n",
       "                        state_id_R1013  state_id_R1011  state_id_R1012  \\\n",
       "children                     -0.013834        0.011666        0.005247   \n",
       "charges                      -0.150634        0.286956       -0.074636   \n",
       "Hospital tier                 0.002455       -0.114685        0.020272   \n",
       "City tier                     0.002766        0.036049       -0.018253   \n",
       "BMI                          -0.208744        0.115671        0.017939   \n",
       "HBA1C                         0.033453        0.015525       -0.019513   \n",
       "Heart Issues                 -0.027967        0.005852        0.021770   \n",
       "Any Transplants               0.064563       -0.058553       -0.066453   \n",
       "Cancer history               -0.066475        0.011919        0.058222   \n",
       "NumberOfMajorSurgeries       -0.002056        0.000208       -0.002098   \n",
       "smoker                       -0.094547        0.336112       -0.106998   \n",
       "state_id_R1013                1.000000       -0.341085       -0.340296   \n",
       "state_id_R1011               -0.341085        1.000000       -0.327054   \n",
       "state_id_R1012               -0.340296       -0.327054        1.000000   \n",
       "state_id_R1024               -0.161406       -0.155125       -0.154766   \n",
       "gender                       -0.029639       -0.075234       -0.077093   \n",
       "\n",
       "                        state_id_R1024    gender  \n",
       "children                      0.002713  0.011205  \n",
       "charges                      -0.014374  0.034069  \n",
       "Hospital tier                -0.012802  0.041261  \n",
       "City tier                    -0.000218  0.054073  \n",
       "BMI                          -0.056158  0.079930  \n",
       "HBA1C                        -0.010989 -0.027339  \n",
       "Heart Issues                  0.007262  0.010277  \n",
       "Any Transplants               0.051867 -0.012737  \n",
       "Cancer history               -0.030704  0.009359  \n",
       "NumberOfMajorSurgeries        0.008505 -0.003349  \n",
       "smoker                       -0.021943  0.020968  \n",
       "state_id_R1013               -0.161406 -0.029639  \n",
       "state_id_R1011               -0.155125 -0.075234  \n",
       "state_id_R1012               -0.154766 -0.077093  \n",
       "state_id_R1024                1.000000 -0.285062  \n",
       "gender                       -0.285062  1.000000  "
      ]
     },
     "execution_count": 298,
     "metadata": {},
     "output_type": "execute_result"
    }
   ],
   "source": [
    "corr = final_df.corr()\n",
    "corr"
   ]
  },
  {
   "cell_type": "code",
   "execution_count": 299,
   "id": "2ff26f10",
   "metadata": {},
   "outputs": [
    {
     "data": {
      "image/png": "[encoded data removed]",
      "text/plain": [
       "<Figure size 1296x864 with 2 Axes>"
      ]
     },
     "metadata": {
      "needs_background": "light"
     },
     "output_type": "display_data"
    }
   ],
   "source": [
    "plt.figure(figsize=(18,12))\n",
    "sns.heatmap(corr,annot=True,linewidth=0.5,cmap='crest')\n",
    "plt.show()"
   ]
  },
  {
   "cell_type": "code",
   "execution_count": 300,
   "id": "ec9ef9ae",
   "metadata": {},
   "outputs": [],
   "source": [
    "# from above we find that smpker is directly related to target."
   ]
  },
  {
   "cell_type": "markdown",
   "id": "e43c8641",
   "metadata": {},
   "source": [
    "# 2. Develop and evaluate the final model using regression with a stochastic gradient descent optimizer. Also, ensure that you apply all the following suggestions:\n",
    "Note: \n",
    "• Perform the stratified 5-fold cross-validation technique for model building and validation\n",
    "• Use standardization and hyperparameter tuning effectively\n",
    "• Use sklearn-pipelines\n",
    "• Use appropriate regularization techniques to address the bias-variance trade-off\n",
    "## a. Create five folds in the data, and introduce a variable to identify the folds\n",
    "## b. For each fold, run a for loop and ensure that 80 percent of the data is used to train the model and the remaining 20 percent is used to validate it in each iteration\n",
    "## c. Develop five distinct models and five distinct validation scores (root mean squared error values)\n",
    "## d. Determine the variable importance scores, and identify the redundant variable"
   ]
  },
  {
   "cell_type": "code",
   "execution_count": 301,
   "id": "179460a9",
   "metadata": {},
   "outputs": [
    {
     "data": {
      "text/html": [
       "<div>\n",
       "<style scoped>\n",
       "    .dataframe tbody tr th:only-of-type {\n",
       "        vertical-align: middle;\n",
       "    }\n",
       "\n",
       "    .dataframe tbody tr th {\n",
       "        vertical-align: top;\n",
       "    }\n",
       "\n",
       "    .dataframe thead th {\n",
       "        text-align: right;\n",
       "    }\n",
       "</style>\n",
       "<table border=\"1\" class=\"dataframe\">\n",
       "  <thead>\n",
       "    <tr style=\"text-align: right;\">\n",
       "      <th></th>\n",
       "      <th>children</th>\n",
       "      <th>Hospital tier</th>\n",
       "      <th>City tier</th>\n",
       "      <th>BMI</th>\n",
       "      <th>HBA1C</th>\n",
       "      <th>Heart Issues</th>\n",
       "      <th>Any Transplants</th>\n",
       "      <th>Cancer history</th>\n",
       "      <th>NumberOfMajorSurgeries</th>\n",
       "      <th>smoker</th>\n",
       "      <th>state_id_R1013</th>\n",
       "      <th>state_id_R1011</th>\n",
       "      <th>state_id_R1012</th>\n",
       "      <th>state_id_R1024</th>\n",
       "      <th>gender</th>\n",
       "    </tr>\n",
       "  </thead>\n",
       "  <tbody>\n",
       "    <tr>\n",
       "      <th>0</th>\n",
       "      <td>0</td>\n",
       "      <td>2</td>\n",
       "      <td>3</td>\n",
       "      <td>17.580</td>\n",
       "      <td>4.51</td>\n",
       "      <td>0</td>\n",
       "      <td>0</td>\n",
       "      <td>0</td>\n",
       "      <td>1</td>\n",
       "      <td>0</td>\n",
       "      <td>1</td>\n",
       "      <td>0</td>\n",
       "      <td>0</td>\n",
       "      <td>0</td>\n",
       "      <td>1</td>\n",
       "    </tr>\n",
       "    <tr>\n",
       "      <th>1</th>\n",
       "      <td>0</td>\n",
       "      <td>2</td>\n",
       "      <td>1</td>\n",
       "      <td>17.600</td>\n",
       "      <td>4.39</td>\n",
       "      <td>0</td>\n",
       "      <td>0</td>\n",
       "      <td>0</td>\n",
       "      <td>1</td>\n",
       "      <td>0</td>\n",
       "      <td>1</td>\n",
       "      <td>0</td>\n",
       "      <td>0</td>\n",
       "      <td>0</td>\n",
       "      <td>1</td>\n",
       "    </tr>\n",
       "    <tr>\n",
       "      <th>2</th>\n",
       "      <td>0</td>\n",
       "      <td>2</td>\n",
       "      <td>1</td>\n",
       "      <td>16.470</td>\n",
       "      <td>6.35</td>\n",
       "      <td>0</td>\n",
       "      <td>0</td>\n",
       "      <td>1</td>\n",
       "      <td>1</td>\n",
       "      <td>0</td>\n",
       "      <td>1</td>\n",
       "      <td>0</td>\n",
       "      <td>0</td>\n",
       "      <td>0</td>\n",
       "      <td>0</td>\n",
       "    </tr>\n",
       "    <tr>\n",
       "      <th>3</th>\n",
       "      <td>0</td>\n",
       "      <td>3</td>\n",
       "      <td>3</td>\n",
       "      <td>17.700</td>\n",
       "      <td>6.28</td>\n",
       "      <td>0</td>\n",
       "      <td>0</td>\n",
       "      <td>0</td>\n",
       "      <td>1</td>\n",
       "      <td>0</td>\n",
       "      <td>1</td>\n",
       "      <td>0</td>\n",
       "      <td>0</td>\n",
       "      <td>0</td>\n",
       "      <td>1</td>\n",
       "    </tr>\n",
       "    <tr>\n",
       "      <th>4</th>\n",
       "      <td>0</td>\n",
       "      <td>3</td>\n",
       "      <td>3</td>\n",
       "      <td>22.340</td>\n",
       "      <td>5.57</td>\n",
       "      <td>0</td>\n",
       "      <td>0</td>\n",
       "      <td>0</td>\n",
       "      <td>1</td>\n",
       "      <td>0</td>\n",
       "      <td>1</td>\n",
       "      <td>0</td>\n",
       "      <td>0</td>\n",
       "      <td>0</td>\n",
       "      <td>1</td>\n",
       "    </tr>\n",
       "    <tr>\n",
       "      <th>...</th>\n",
       "      <td>...</td>\n",
       "      <td>...</td>\n",
       "      <td>...</td>\n",
       "      <td>...</td>\n",
       "      <td>...</td>\n",
       "      <td>...</td>\n",
       "      <td>...</td>\n",
       "      <td>...</td>\n",
       "      <td>...</td>\n",
       "      <td>...</td>\n",
       "      <td>...</td>\n",
       "      <td>...</td>\n",
       "      <td>...</td>\n",
       "      <td>...</td>\n",
       "      <td>...</td>\n",
       "    </tr>\n",
       "    <tr>\n",
       "      <th>2329</th>\n",
       "      <td>0</td>\n",
       "      <td>1</td>\n",
       "      <td>3</td>\n",
       "      <td>32.800</td>\n",
       "      <td>6.59</td>\n",
       "      <td>0</td>\n",
       "      <td>0</td>\n",
       "      <td>0</td>\n",
       "      <td>0</td>\n",
       "      <td>1</td>\n",
       "      <td>0</td>\n",
       "      <td>1</td>\n",
       "      <td>0</td>\n",
       "      <td>0</td>\n",
       "      <td>1</td>\n",
       "    </tr>\n",
       "    <tr>\n",
       "      <th>2330</th>\n",
       "      <td>0</td>\n",
       "      <td>1</td>\n",
       "      <td>2</td>\n",
       "      <td>35.530</td>\n",
       "      <td>5.45</td>\n",
       "      <td>0</td>\n",
       "      <td>0</td>\n",
       "      <td>0</td>\n",
       "      <td>0</td>\n",
       "      <td>1</td>\n",
       "      <td>0</td>\n",
       "      <td>0</td>\n",
       "      <td>1</td>\n",
       "      <td>0</td>\n",
       "      <td>0</td>\n",
       "    </tr>\n",
       "    <tr>\n",
       "      <th>2331</th>\n",
       "      <td>1</td>\n",
       "      <td>1</td>\n",
       "      <td>3</td>\n",
       "      <td>38.095</td>\n",
       "      <td>6.05</td>\n",
       "      <td>0</td>\n",
       "      <td>0</td>\n",
       "      <td>0</td>\n",
       "      <td>0</td>\n",
       "      <td>1</td>\n",
       "      <td>0</td>\n",
       "      <td>0</td>\n",
       "      <td>0</td>\n",
       "      <td>1</td>\n",
       "      <td>0</td>\n",
       "    </tr>\n",
       "    <tr>\n",
       "      <th>2333</th>\n",
       "      <td>0</td>\n",
       "      <td>2</td>\n",
       "      <td>3</td>\n",
       "      <td>30.360</td>\n",
       "      <td>5.77</td>\n",
       "      <td>0</td>\n",
       "      <td>0</td>\n",
       "      <td>0</td>\n",
       "      <td>0</td>\n",
       "      <td>1</td>\n",
       "      <td>1</td>\n",
       "      <td>0</td>\n",
       "      <td>0</td>\n",
       "      <td>0</td>\n",
       "      <td>1</td>\n",
       "    </tr>\n",
       "    <tr>\n",
       "      <th>2334</th>\n",
       "      <td>0</td>\n",
       "      <td>1</td>\n",
       "      <td>3</td>\n",
       "      <td>47.410</td>\n",
       "      <td>7.47</td>\n",
       "      <td>0</td>\n",
       "      <td>0</td>\n",
       "      <td>0</td>\n",
       "      <td>0</td>\n",
       "      <td>1</td>\n",
       "      <td>1</td>\n",
       "      <td>0</td>\n",
       "      <td>0</td>\n",
       "      <td>0</td>\n",
       "      <td>0</td>\n",
       "    </tr>\n",
       "  </tbody>\n",
       "</table>\n",
       "<p>2325 rows × 15 columns</p>\n",
       "</div>"
      ],
      "text/plain": [
       "      children  Hospital tier  City tier     BMI  HBA1C  Heart Issues  \\\n",
       "0            0              2          3  17.580   4.51             0   \n",
       "1            0              2          1  17.600   4.39             0   \n",
       "2            0              2          1  16.470   6.35             0   \n",
       "3            0              3          3  17.700   6.28             0   \n",
       "4            0              3          3  22.340   5.57             0   \n",
       "...        ...            ...        ...     ...    ...           ...   \n",
       "2329         0              1          3  32.800   6.59             0   \n",
       "2330         0              1          2  35.530   5.45             0   \n",
       "2331         1              1          3  38.095   6.05             0   \n",
       "2333         0              2          3  30.360   5.77             0   \n",
       "2334         0              1          3  47.410   7.47             0   \n",
       "\n",
       "      Any Transplants  Cancer history  NumberOfMajorSurgeries  smoker  \\\n",
       "0                   0               0                       1       0   \n",
       "1                   0               0                       1       0   \n",
       "2                   0               1                       1       0   \n",
       "3                   0               0                       1       0   \n",
       "4                   0               0                       1       0   \n",
       "...               ...             ...                     ...     ...   \n",
       "2329                0               0                       0       1   \n",
       "2330                0               0                       0       1   \n",
       "2331                0               0                       0       1   \n",
       "2333                0               0                       0       1   \n",
       "2334                0               0                       0       1   \n",
       "\n",
       "      state_id_R1013  state_id_R1011  state_id_R1012  state_id_R1024  gender  \n",
       "0                  1               0               0               0       1  \n",
       "1                  1               0               0               0       1  \n",
       "2                  1               0               0               0       0  \n",
       "3                  1               0               0               0       1  \n",
       "4                  1               0               0               0       1  \n",
       "...              ...             ...             ...             ...     ...  \n",
       "2329               0               1               0               0       1  \n",
       "2330               0               0               1               0       0  \n",
       "2331               0               0               0               1       0  \n",
       "2333               1               0               0               0       1  \n",
       "2334               1               0               0               0       0  \n",
       "\n",
       "[2325 rows x 15 columns]"
      ]
     },
     "execution_count": 301,
     "metadata": {},
     "output_type": "execute_result"
    }
   ],
   "source": [
    "x = final_df.drop([\"charges\"], axis=1)\n",
    "x"
   ]
  },
  {
   "cell_type": "code",
   "execution_count": 302,
   "id": "e827f195",
   "metadata": {},
   "outputs": [
    {
     "data": {
      "text/html": [
       "<div>\n",
       "<style scoped>\n",
       "    .dataframe tbody tr th:only-of-type {\n",
       "        vertical-align: middle;\n",
       "    }\n",
       "\n",
       "    .dataframe tbody tr th {\n",
       "        vertical-align: top;\n",
       "    }\n",
       "\n",
       "    .dataframe thead th {\n",
       "        text-align: right;\n",
       "    }\n",
       "</style>\n",
       "<table border=\"1\" class=\"dataframe\">\n",
       "  <thead>\n",
       "    <tr style=\"text-align: right;\">\n",
       "      <th></th>\n",
       "      <th>charges</th>\n",
       "    </tr>\n",
       "  </thead>\n",
       "  <tbody>\n",
       "    <tr>\n",
       "      <th>0</th>\n",
       "      <td>563.84</td>\n",
       "    </tr>\n",
       "    <tr>\n",
       "      <th>1</th>\n",
       "      <td>570.62</td>\n",
       "    </tr>\n",
       "    <tr>\n",
       "      <th>2</th>\n",
       "      <td>600.00</td>\n",
       "    </tr>\n",
       "    <tr>\n",
       "      <th>3</th>\n",
       "      <td>604.54</td>\n",
       "    </tr>\n",
       "    <tr>\n",
       "      <th>4</th>\n",
       "      <td>637.26</td>\n",
       "    </tr>\n",
       "    <tr>\n",
       "      <th>...</th>\n",
       "      <td>...</td>\n",
       "    </tr>\n",
       "    <tr>\n",
       "      <th>2329</th>\n",
       "      <td>52590.83</td>\n",
       "    </tr>\n",
       "    <tr>\n",
       "      <th>2330</th>\n",
       "      <td>55135.40</td>\n",
       "    </tr>\n",
       "    <tr>\n",
       "      <th>2331</th>\n",
       "      <td>58571.07</td>\n",
       "    </tr>\n",
       "    <tr>\n",
       "      <th>2333</th>\n",
       "      <td>62592.87</td>\n",
       "    </tr>\n",
       "    <tr>\n",
       "      <th>2334</th>\n",
       "      <td>63770.43</td>\n",
       "    </tr>\n",
       "  </tbody>\n",
       "</table>\n",
       "<p>2325 rows × 1 columns</p>\n",
       "</div>"
      ],
      "text/plain": [
       "       charges\n",
       "0       563.84\n",
       "1       570.62\n",
       "2       600.00\n",
       "3       604.54\n",
       "4       637.26\n",
       "...        ...\n",
       "2329  52590.83\n",
       "2330  55135.40\n",
       "2331  58571.07\n",
       "2333  62592.87\n",
       "2334  63770.43\n",
       "\n",
       "[2325 rows x 1 columns]"
      ]
     },
     "execution_count": 302,
     "metadata": {},
     "output_type": "execute_result"
    }
   ],
   "source": [
    "y = final_df[['charges']]\n",
    "y"
   ]
  },
  {
   "cell_type": "code",
   "execution_count": 303,
   "id": "c2f6c1fb",
   "metadata": {},
   "outputs": [],
   "source": [
    "from sklearn.model_selection import train_test_split"
   ]
  },
  {
   "cell_type": "code",
   "execution_count": 304,
   "id": "e443564a",
   "metadata": {},
   "outputs": [],
   "source": [
    "x_train, x_test, y_train, y_test = train_test_split(x,y, test_size=.20, random_state=10)"
   ]
  },
  {
   "cell_type": "code",
   "execution_count": 305,
   "id": "f01cda66",
   "metadata": {},
   "outputs": [],
   "source": [
    "from sklearn.preprocessing import StandardScaler\n"
   ]
  },
  {
   "cell_type": "code",
   "execution_count": 306,
   "id": "09a423c8",
   "metadata": {},
   "outputs": [],
   "source": [
    "sc = StandardScaler()"
   ]
  },
  {
   "cell_type": "code",
   "execution_count": 307,
   "id": "becfcd72",
   "metadata": {},
   "outputs": [],
   "source": [
    "x_train = sc.fit_transform(x_train)\n",
    "x_test = sc.fit_transform(x_test)"
   ]
  },
  {
   "cell_type": "code",
   "execution_count": 312,
   "id": "c1fb4414",
   "metadata": {},
   "outputs": [],
   "source": [
    "\n",
    "from sklearn.linear_model import SGDRegressor\n"
   ]
  },
  {
   "cell_type": "code",
   "execution_count": 314,
   "id": "ab0782ec",
   "metadata": {},
   "outputs": [
    {
     "name": "stdout",
     "output_type": "stream",
     "text": [
      "Fitting 5 folds for each of 84 candidates, totalling 420 fits\n"
     ]
    },
    {
     "data": {
      "text/plain": [
       "GridSearchCV(cv=5, estimator=SGDRegressor(),\n",
       "             param_grid={'alpha': [0.0001, 0.001, 0.01, 0.05, 0.1, 0.2, 0.3,\n",
       "                                   0.4, 0.5, 0.6, 0.7, 0.8, 0.9, 1.0, 2.0, 3.0,\n",
       "                                   4.0, 5.0, 6.0, 7.0, 8.0, 9.0, 10.0, 20, 50,\n",
       "                                   100, 500, 1000],\n",
       "                         'penalty': ['l2', 'l1', 'elasticnet']},\n",
       "             return_train_score=True, scoring='neg_mean_absolute_error',\n",
       "             verbose=1)"
      ]
     },
     "execution_count": 314,
     "metadata": {},
     "output_type": "execute_result"
    }
   ],
   "source": [
    "from sklearn.model_selection import GridSearchCV\n",
    "params = {'alpha': [0.0001, 0.001, 0.01, 0.05, 0.1, 0.2,0.3,0.4,0.5,\n",
    " 0.6,0.7,0.8,0.9,1.0,2.0,3.0,4.0,5.0,6.0,7.0,8.0,\n",
    " 9.0,10.0,20,50,100,500,1000],\n",
    " 'penalty': ['l2', 'l1', 'elasticnet']}\n",
    "sgd = SGDRegressor()\n",
    "# Cross Validation \n",
    "folds = 5\n",
    "model_cv = GridSearchCV(estimator = sgd,\n",
    " param_grid = params,\n",
    " scoring = 'neg_mean_absolute_error',\n",
    "cv = folds,\n",
    " return_train_score = True,\n",
    " verbose = 1)\n",
    "model_cv.fit(x_train,y_train)"
   ]
  },
  {
   "cell_type": "code",
   "execution_count": 315,
   "id": "ff7da2d8",
   "metadata": {},
   "outputs": [
    {
     "data": {
      "text/plain": [
       "{'alpha': 1.0, 'penalty': 'l1'}"
      ]
     },
     "execution_count": 315,
     "metadata": {},
     "output_type": "execute_result"
    }
   ],
   "source": [
    "model_cv.best_params_\n"
   ]
  },
  {
   "cell_type": "code",
   "execution_count": 316,
   "id": "999e3eb1",
   "metadata": {},
   "outputs": [],
   "source": [
    "sgd = SGDRegressor(alpha= 100, penalty= 'l1')"
   ]
  },
  {
   "cell_type": "code",
   "execution_count": 317,
   "id": "d78eab44",
   "metadata": {},
   "outputs": [
    {
     "data": {
      "text/plain": [
       "SGDRegressor(alpha=100, penalty='l1')"
      ]
     },
     "execution_count": 317,
     "metadata": {},
     "output_type": "execute_result"
    }
   ],
   "source": [
    "sgd.fit(x_train, y_train)"
   ]
  },
  {
   "cell_type": "code",
   "execution_count": 318,
   "id": "30537528",
   "metadata": {},
   "outputs": [
    {
     "data": {
      "text/plain": [
       "0.8156509828476364"
      ]
     },
     "execution_count": 318,
     "metadata": {},
     "output_type": "execute_result"
    }
   ],
   "source": [
    "sgd.score(x_test, y_test)\n"
   ]
  },
  {
   "cell_type": "code",
   "execution_count": 319,
   "id": "82260505",
   "metadata": {},
   "outputs": [],
   "source": [
    "y_pred = sgd.predict(x_test)"
   ]
  },
  {
   "cell_type": "code",
   "execution_count": 320,
   "id": "5a8fbcdb",
   "metadata": {},
   "outputs": [],
   "source": [
    "from sklearn.metrics import mean_squared_error, mean_absolute_error"
   ]
  },
  {
   "cell_type": "code",
   "execution_count": 324,
   "id": "a15880e0",
   "metadata": {},
   "outputs": [],
   "source": [
    "from sklearn.metrics import mean_squared_error\n",
    "import math\n",
    "lin_mse = mean_squared_error(y_test, y_pred)\n",
    "\n",
    "\n",
    "sgd_mae = mean_absolute_error(y_test, y_pred)\n",
    "sgd_mse = mean_squared_error(y_test, y_pred)\n",
    "sgd_rmse = lin_mse*(1/2.0)"
   ]
  },
  {
   "cell_type": "code",
   "execution_count": 326,
   "id": "42ffdf90",
   "metadata": {
    "scrolled": true
   },
   "outputs": [
    {
     "name": "stdout",
     "output_type": "stream",
     "text": [
      "MAE: 3821.0952133680894\n",
      "MSE: 26831535.878889296\n",
      "RMSE: 13415767.939444648\n"
     ]
    }
   ],
   "source": [
    "print(\"MAE:\", sgd_mae)\n",
    "print(\"MSE:\", sgd_mse)\n",
    "print(\"RMSE:\", sgd_rmse)"
   ]
  },
  {
   "cell_type": "code",
   "execution_count": 327,
   "id": "99932dd1",
   "metadata": {},
   "outputs": [],
   "source": [
    "importance = sgd.coef_"
   ]
  },
  {
   "cell_type": "code",
   "execution_count": 328,
   "id": "297c5e63",
   "metadata": {},
   "outputs": [
    {
     "data": {
      "text/html": [
       "<div>\n",
       "<style scoped>\n",
       "    .dataframe tbody tr th:only-of-type {\n",
       "        vertical-align: middle;\n",
       "    }\n",
       "\n",
       "    .dataframe tbody tr th {\n",
       "        vertical-align: top;\n",
       "    }\n",
       "\n",
       "    .dataframe thead th {\n",
       "        text-align: right;\n",
       "    }\n",
       "</style>\n",
       "<table border=\"1\" class=\"dataframe\">\n",
       "  <thead>\n",
       "    <tr style=\"text-align: right;\">\n",
       "      <th></th>\n",
       "      <th>Feature_imp</th>\n",
       "    </tr>\n",
       "  </thead>\n",
       "  <tbody>\n",
       "    <tr>\n",
       "      <th>children</th>\n",
       "      <td>442.862948</td>\n",
       "    </tr>\n",
       "    <tr>\n",
       "      <th>Hospital tier</th>\n",
       "      <td>-681.998607</td>\n",
       "    </tr>\n",
       "    <tr>\n",
       "      <th>City tier</th>\n",
       "      <td>0.000000</td>\n",
       "    </tr>\n",
       "    <tr>\n",
       "      <th>BMI</th>\n",
       "      <td>2780.358914</td>\n",
       "    </tr>\n",
       "    <tr>\n",
       "      <th>HBA1C</th>\n",
       "      <td>1597.105699</td>\n",
       "    </tr>\n",
       "    <tr>\n",
       "      <th>Heart Issues</th>\n",
       "      <td>193.326413</td>\n",
       "    </tr>\n",
       "    <tr>\n",
       "      <th>Any Transplants</th>\n",
       "      <td>-938.469844</td>\n",
       "    </tr>\n",
       "    <tr>\n",
       "      <th>Cancer history</th>\n",
       "      <td>-151.699804</td>\n",
       "    </tr>\n",
       "    <tr>\n",
       "      <th>NumberOfMajorSurgeries</th>\n",
       "      <td>832.331929</td>\n",
       "    </tr>\n",
       "    <tr>\n",
       "      <th>smoker</th>\n",
       "      <td>9212.383413</td>\n",
       "    </tr>\n",
       "    <tr>\n",
       "      <th>state_id_R1013</th>\n",
       "      <td>-262.103171</td>\n",
       "    </tr>\n",
       "    <tr>\n",
       "      <th>state_id_R1011</th>\n",
       "      <td>-58.521233</td>\n",
       "    </tr>\n",
       "    <tr>\n",
       "      <th>state_id_R1012</th>\n",
       "      <td>-82.096894</td>\n",
       "    </tr>\n",
       "    <tr>\n",
       "      <th>state_id_R1024</th>\n",
       "      <td>124.834884</td>\n",
       "    </tr>\n",
       "    <tr>\n",
       "      <th>gender</th>\n",
       "      <td>0.000000</td>\n",
       "    </tr>\n",
       "  </tbody>\n",
       "</table>\n",
       "</div>"
      ],
      "text/plain": [
       "                        Feature_imp\n",
       "children                 442.862948\n",
       "Hospital tier           -681.998607\n",
       "City tier                  0.000000\n",
       "BMI                     2780.358914\n",
       "HBA1C                   1597.105699\n",
       "Heart Issues             193.326413\n",
       "Any Transplants         -938.469844\n",
       "Cancer history          -151.699804\n",
       "NumberOfMajorSurgeries   832.331929\n",
       "smoker                  9212.383413\n",
       "state_id_R1013          -262.103171\n",
       "state_id_R1011           -58.521233\n",
       "state_id_R1012           -82.096894\n",
       "state_id_R1024           124.834884\n",
       "gender                     0.000000"
      ]
     },
     "execution_count": 328,
     "metadata": {},
     "output_type": "execute_result"
    }
   ],
   "source": [
    "pd.DataFrame(importance, index = x.columns, columns=['Feature_imp'])"
   ]
  },
  {
   "cell_type": "markdown",
   "id": "ec8c0ddb",
   "metadata": {},
   "source": [
    "# 3. Use random forest and extreme gradient boosting for cost prediction, share your cross\u0002validation results, and calculate the variable i "
   ]
  },
  {
   "cell_type": "code",
   "execution_count": 329,
   "id": "39321c9f",
   "metadata": {},
   "outputs": [],
   "source": [
    "from sklearn.ensemble import RandomForestRegressor"
   ]
  },
  {
   "cell_type": "code",
   "execution_count": 330,
   "id": "0902c4c7",
   "metadata": {},
   "outputs": [],
   "source": [
    "rf = RandomForestRegressor(n_estimators = 1000, random_state = 42)"
   ]
  },
  {
   "cell_type": "code",
   "execution_count": 331,
   "id": "bc25164e",
   "metadata": {},
   "outputs": [
    {
     "data": {
      "text/plain": [
       "RandomForestRegressor(n_estimators=1000, random_state=42)"
      ]
     },
     "execution_count": 331,
     "metadata": {},
     "output_type": "execute_result"
    }
   ],
   "source": [
    "rf.fit(x_train, y_train)"
   ]
  },
  {
   "cell_type": "code",
   "execution_count": 336,
   "id": "973daa1c",
   "metadata": {},
   "outputs": [
    {
     "data": {
      "text/plain": [
       "0.8618729159763531"
      ]
     },
     "execution_count": 336,
     "metadata": {},
     "output_type": "execute_result"
    }
   ],
   "source": [
    "score = rf.score(x_test,y_test)\n",
    "score\n"
   ]
  },
  {
   "cell_type": "code",
   "execution_count": 337,
   "id": "9933d7c0",
   "metadata": {},
   "outputs": [],
   "source": [
    "y_pred = rf.predict(x_test)"
   ]
  },
  {
   "cell_type": "code",
   "execution_count": 338,
   "id": "26034e35",
   "metadata": {},
   "outputs": [],
   "source": [
    "\n",
    "rf_mae = mean_absolute_error(y_test, y_pred)"
   ]
  },
  {
   "cell_type": "code",
   "execution_count": 339,
   "id": "77d68dda",
   "metadata": {},
   "outputs": [
    {
     "data": {
      "text/plain": [
       "2922.697647591394"
      ]
     },
     "execution_count": 339,
     "metadata": {},
     "output_type": "execute_result"
    }
   ],
   "source": [
    "rf_mae"
   ]
  },
  {
   "cell_type": "code",
   "execution_count": 340,
   "id": "4b19a168",
   "metadata": {},
   "outputs": [
    {
     "data": {
      "text/plain": [
       "0.8219199566044928"
      ]
     },
     "execution_count": 340,
     "metadata": {},
     "output_type": "execute_result"
    }
   ],
   "source": [
    "from sklearn.ensemble import GradientBoostingRegressor\n",
    "# Instantiate model with 1000 decision trees\n",
    "gbr = GradientBoostingRegressor(n_estimators = 1000, random_state = 42)\n",
    "# Train the model on training data\n",
    "gbr.fit(x_train, y_train)\n",
    "score = gbr.score(x_test,y_test)\n",
    "score\n"
   ]
  },
  {
   "cell_type": "code",
   "execution_count": 341,
   "id": "66dc4cc4",
   "metadata": {},
   "outputs": [],
   "source": [
    "y_pred = gbr.predict(x_test)"
   ]
  },
  {
   "cell_type": "code",
   "execution_count": 342,
   "id": "4cefe305",
   "metadata": {
    "scrolled": true
   },
   "outputs": [
    {
     "data": {
      "text/plain": [
       "3326.2801930880246"
      ]
     },
     "execution_count": 342,
     "metadata": {},
     "output_type": "execute_result"
    }
   ],
   "source": [
    "gbr_mae = mean_absolute_error(y_test, y_pred)\n",
    "gbr_mae"
   ]
  },
  {
   "cell_type": "markdown",
   "id": "af1296f2",
   "metadata": {},
   "source": [
    "# 4.  Case scenario:Estimate the cost of hospitalization for Christopher, Ms. Jayna (her date of birth is 12/28/1988, height is 170 cm, and weight is 85 kgs). She lives in a tier-1 city and her state’s \n",
    "State ID is R1011. She lives with her partner and two children. She was found to be \n",
    "nondiabetic (HbA1c = 5.8). She smokes but is otherwise healthy. She has had no \n",
    "transplants or major surgeries. Her father died of lung cancer. Hospitalization costs will be \n",
    "estimated using tier-1 hospitals "
   ]
  },
  {
   "cell_type": "code",
   "execution_count": 343,
   "id": "c7e6a38c",
   "metadata": {},
   "outputs": [],
   "source": [
    "import datetime \n",
    "date = str(19881228)\n",
    "date1 = pd.to_datetime(date, format = \"%Y%m%d\")\n"
   ]
  },
  {
   "cell_type": "code",
   "execution_count": 347,
   "id": "56188dec",
   "metadata": {},
   "outputs": [
    {
     "data": {
      "text/plain": [
       "datetime.datetime(2023, 8, 24, 22, 36, 24, 194120)"
      ]
     },
     "execution_count": 347,
     "metadata": {},
     "output_type": "execute_result"
    }
   ],
   "source": [
    "import datetime as dt\n",
    "current_date = dt.datetime.now()\n",
    "current_date"
   ]
  },
  {
   "cell_type": "code",
   "execution_count": 349,
   "id": "e58b2458",
   "metadata": {},
   "outputs": [
    {
     "data": {
      "text/plain": [
       "34"
      ]
     },
     "execution_count": 349,
     "metadata": {},
     "output_type": "execute_result"
    }
   ],
   "source": [
    "age = int(12421/365)\n",
    "age"
   ]
  },
  {
   "cell_type": "code",
   "execution_count": 354,
   "id": "6734d0dd",
   "metadata": {},
   "outputs": [
    {
     "data": {
      "text/plain": [
       "29.41"
      ]
     },
     "execution_count": 354,
     "metadata": {},
     "output_type": "execute_result"
    }
   ],
   "source": [
    "# now with the help of height and weight we will calculate the BMI.\n",
    "height_m = 170/100\n",
    "height_sq = height_m*height_m\n",
    "BMI = 85/height_sq\n",
    "np.round(BMI,2)\n"
   ]
  },
  {
   "cell_type": "code",
   "execution_count": 355,
   "id": "45cd8dd6",
   "metadata": {},
   "outputs": [],
   "source": [
    "list = [[2,1,1,24.41,5.8,0,0,0,0,1,1,0,0,34,0]]\n"
   ]
  },
  {
   "cell_type": "code",
   "execution_count": 360,
   "id": "b5b4ffa3",
   "metadata": {},
   "outputs": [
    {
     "data": {
      "text/html": [
       "<div>\n",
       "<style scoped>\n",
       "    .dataframe tbody tr th:only-of-type {\n",
       "        vertical-align: middle;\n",
       "    }\n",
       "\n",
       "    .dataframe tbody tr th {\n",
       "        vertical-align: top;\n",
       "    }\n",
       "\n",
       "    .dataframe thead th {\n",
       "        text-align: right;\n",
       "    }\n",
       "</style>\n",
       "<table border=\"1\" class=\"dataframe\">\n",
       "  <thead>\n",
       "    <tr style=\"text-align: right;\">\n",
       "      <th></th>\n",
       "      <th>children</th>\n",
       "      <th>Hospital tier</th>\n",
       "      <th>City tier</th>\n",
       "      <th>BMI</th>\n",
       "      <th>HBA</th>\n",
       "      <th>Heart Issues</th>\n",
       "      <th>Any Transplants</th>\n",
       "      <th>Cancer history</th>\n",
       "      <th>NumberOfMajorSurgeries</th>\n",
       "      <th>smoker</th>\n",
       "      <th>state_id_R1011</th>\n",
       "      <th>State_ID_R1012</th>\n",
       "      <th>State_ID_R1013</th>\n",
       "      <th>age</th>\n",
       "      <th>gender</th>\n",
       "    </tr>\n",
       "  </thead>\n",
       "  <tbody>\n",
       "    <tr>\n",
       "      <th>0</th>\n",
       "      <td>2</td>\n",
       "      <td>1</td>\n",
       "      <td>1</td>\n",
       "      <td>24.41</td>\n",
       "      <td>5.8</td>\n",
       "      <td>0</td>\n",
       "      <td>0</td>\n",
       "      <td>0</td>\n",
       "      <td>0</td>\n",
       "      <td>1</td>\n",
       "      <td>1</td>\n",
       "      <td>0</td>\n",
       "      <td>0</td>\n",
       "      <td>34</td>\n",
       "      <td>0</td>\n",
       "    </tr>\n",
       "  </tbody>\n",
       "</table>\n",
       "</div>"
      ],
      "text/plain": [
       "   children  Hospital tier  City tier    BMI  HBA  Heart Issues  \\\n",
       "0         2              1          1  24.41  5.8             0   \n",
       "\n",
       "   Any Transplants  Cancer history  NumberOfMajorSurgeries  smoker  \\\n",
       "0                0               0                       0       1   \n",
       "\n",
       "   state_id_R1011  State_ID_R1012   State_ID_R1013  age  gender  \n",
       "0               1                0               0   34       0  "
      ]
     },
     "execution_count": 360,
     "metadata": {},
     "output_type": "execute_result"
    }
   ],
   "source": [
    "df = pd.DataFrame(list, columns = ['children', 'Hospital tier', 'City tier', 'BMI', 'HBA','Heart Issues','Any Transplants',\n",
    " 'Cancer history','NumberOfMajorSurgeries', 'smoker', 'state_id_R1011','State_ID_R1012 ',\n",
    " 'State_ID_R1013', 'age', 'gender'] )\n",
    "df"
   ]
  },
  {
   "cell_type": "markdown",
   "id": "ae2a0bce",
   "metadata": {},
   "source": [
    "# 5. Find the predicted hospitalization cost using all five models. The predicted value should be the mean of the five models' predicted values.\n",
    " "
   ]
  },
  {
   "cell_type": "code",
   "execution_count": 366,
   "id": "21c057b0",
   "metadata": {},
   "outputs": [],
   "source": [
    "Hospital_cost = []"
   ]
  },
  {
   "cell_type": "code",
   "execution_count": 367,
   "id": "beb14bdf",
   "metadata": {},
   "outputs": [],
   "source": [
    "#cost through SGDRegresso\n",
    "Cost1 = sgd.predict(df)\n",
    "Hospital_cost.append(Cost1)"
   ]
  },
  {
   "cell_type": "code",
   "execution_count": 368,
   "id": "241f68f6",
   "metadata": {},
   "outputs": [],
   "source": [
    "#hospitalization cost through Random Forest\n",
    "Cost2 = rf.predict(df)\n",
    "Hospital_cost.append(Cost2)"
   ]
  },
  {
   "cell_type": "code",
   "execution_count": 369,
   "id": "767e9035",
   "metadata": {},
   "outputs": [],
   "source": [
    "# hospitalization cost throug Extreme gradient Booster\n",
    "Cost3 = gbr.predict(df)\n",
    "Hospital_cost.append(Cost3)"
   ]
  },
  {
   "cell_type": "code",
   "execution_count": 370,
   "id": "71973d21",
   "metadata": {},
   "outputs": [
    {
     "data": {
      "text/plain": [
       "71979.04847515146"
      ]
     },
     "execution_count": 370,
     "metadata": {},
     "output_type": "execute_result"
    }
   ],
   "source": [
    "avg_cost = np.mean(Hospital_cost)\n",
    "avg_cost\n"
   ]
  },
  {
   "cell_type": "code",
   "execution_count": null,
   "id": "dfc63f35",
   "metadata": {},
   "outputs": [],
   "source": []
  },
  {
   "cell_type": "code",
   "execution_count": null,
   "id": "8107039a",
   "metadata": {},
   "outputs": [],
   "source": []
  },
  {
   "cell_type": "code",
   "execution_count": null,
   "id": "001a90ec",
   "metadata": {},
   "outputs": [],
   "source": []
  }
 ],
 "metadata": {
  "kernelspec": {
   "display_name": "Python 3 (ipykernel)",
   "language": "python",
   "name": "python3"
  },
  "language_info": {
   "codemirror_mode": {
    "name": "ipython",
    "version": 3
   },
   "file_extension": ".py",
   "mimetype": "text/x-python",
   "name": "python",
   "nbconvert_exporter": "python",
   "pygments_lexer": "ipython3",
   "version": "3.9.12"
  }
 },
 "nbformat": 4,
 "nbformat_minor": 5
}
